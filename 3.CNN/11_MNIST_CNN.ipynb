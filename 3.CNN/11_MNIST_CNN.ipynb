{
 "cells": [
  {
   "cell_type": "markdown",
   "metadata": {},
   "source": [
    "# 이미지 인식 - CNN"
   ]
  },
  {
   "cell_type": "markdown",
   "metadata": {},
   "source": [
    "## MNIST 사례"
   ]
  },
  {
   "cell_type": "code",
   "execution_count": 1,
   "metadata": {},
   "outputs": [
    {
     "name": "stderr",
     "output_type": "stream",
     "text": [
      "Using TensorFlow backend.\n"
     ]
    }
   ],
   "source": [
    "import numpy as np\n",
    "import tensorflow as tf\n",
    "from tensorflow import keras\n",
    "\n",
    "from keras.datasets import mnist\n",
    "from keras.models import Sequential\n",
    "from keras.layers import Dense, Dropout, Flatten, Conv2D, MaxPooling2D\n",
    "from keras.callbacks import ModelCheckpoint, EarlyStopping\n",
    "\n",
    "import os\n",
    "import matplotlib.pyplot as plt\n",
    "%matplotlib inline"
   ]
  },
  {
   "cell_type": "code",
   "execution_count": 2,
   "metadata": {},
   "outputs": [],
   "source": [
    "seed = 0\n",
    "np.random.seed(seed)\n",
    "tf.random.set_seed(seed)"
   ]
  },
  {
   "cell_type": "code",
   "execution_count": 3,
   "metadata": {},
   "outputs": [],
   "source": [
    "(X_train, y_train), (X_test, y_test) = mnist.load_data()\n",
    "X_train = X_train.reshape(-1, 28, 28, 1).astype('float32') / 255\n",
    "X_test = X_test.reshape(-1, 28, 28, 1).astype('float32') / 255\n",
    "y_train = tf.keras.utils.to_categorical(y_train)\n",
    "y_test = tf.keras.utils.to_categorical(y_test)"
   ]
  },
  {
   "cell_type": "code",
   "execution_count": 4,
   "metadata": {},
   "outputs": [
    {
     "name": "stdout",
     "output_type": "stream",
     "text": [
      "Model: \"sequential_1\"\n",
      "_________________________________________________________________\n",
      "Layer (type)                 Output Shape              Param #   \n",
      "=================================================================\n",
      "conv2d_1 (Conv2D)            (None, 26, 26, 32)        320       \n",
      "_________________________________________________________________\n",
      "conv2d_2 (Conv2D)            (None, 24, 24, 64)        18496     \n",
      "_________________________________________________________________\n",
      "max_pooling2d_1 (MaxPooling2 (None, 12, 12, 64)        0         \n",
      "_________________________________________________________________\n",
      "dropout_1 (Dropout)          (None, 12, 12, 64)        0         \n",
      "_________________________________________________________________\n",
      "flatten_1 (Flatten)          (None, 9216)              0         \n",
      "_________________________________________________________________\n",
      "dense_1 (Dense)              (None, 128)               1179776   \n",
      "_________________________________________________________________\n",
      "dense_2 (Dense)              (None, 64)                8256      \n",
      "_________________________________________________________________\n",
      "dropout_2 (Dropout)          (None, 64)                0         \n",
      "_________________________________________________________________\n",
      "dense_3 (Dense)              (None, 10)                650       \n",
      "=================================================================\n",
      "Total params: 1,207,498\n",
      "Trainable params: 1,207,498\n",
      "Non-trainable params: 0\n",
      "_________________________________________________________________\n"
     ]
    }
   ],
   "source": [
    "model = Sequential([\n",
    "    Conv2D(32, kernel_size=(3, 3), input_shape = (28, 28, 1), activation = 'relu'),\n",
    "    Conv2D(64, (3, 3), activation = 'relu'),\n",
    "    MaxPooling2D(pool_size=2), # 9928\n",
    "    Dropout(0.25),\n",
    "    Flatten(),\n",
    "    Dense(128, activation='relu'),\n",
    "    Dense(64, activation='relu'),\n",
    "    Dropout(0.5),\n",
    "    Dense(10, activation = 'softmax')\n",
    "])\n",
    "model.summary()"
   ]
  },
  {
   "cell_type": "code",
   "execution_count": 5,
   "metadata": {},
   "outputs": [],
   "source": [
    "model.compile(loss = 'categorical_crossentropy',\n",
    "              optimizer = 'adam',\n",
    "              metrics = ['accuracy'])"
   ]
  },
  {
   "cell_type": "code",
   "execution_count": 6,
   "metadata": {},
   "outputs": [],
   "source": [
    "MODEL_DIR = './model/'\n",
    "if not os.path.exists(MODEL_DIR):\n",
    "    os.mkdir(MODEL_DIR)"
   ]
  },
  {
   "cell_type": "code",
   "execution_count": 7,
   "metadata": {},
   "outputs": [],
   "source": [
    "modelpath = MODEL_DIR + \"mnist-cnn-{epoch:02d}-{val_loss:.4f}.hdf5\"\n",
    "checkpointer = ModelCheckpoint(filepath = modelpath, monitor = 'val_loss',\n",
    "                               verbose = 1, save_best_only=True)\n",
    "early_stopping_callback = EarlyStopping(monitor = 'val_loss', patience=10)"
   ]
  },
  {
   "cell_type": "code",
   "execution_count": 8,
   "metadata": {
    "scrolled": true
   },
   "outputs": [
    {
     "name": "stdout",
     "output_type": "stream",
     "text": [
      "Train on 60000 samples, validate on 10000 samples\n",
      "Epoch 1/30\n",
      "60000/60000 [==============================] - 45s 742us/step - loss: 0.3512 - accuracy: 0.8936 - val_loss: 0.0590 - val_accuracy: 0.9805\n",
      "\n",
      "Epoch 00001: val_loss improved from inf to 0.05903, saving model to ./model/mnist-cnn-01-0.0590.hdf5\n",
      "Epoch 2/30\n",
      "60000/60000 [==============================] - 44s 740us/step - loss: 0.0981 - accuracy: 0.9728 - val_loss: 0.0410 - val_accuracy: 0.9870\n",
      "\n",
      "Epoch 00002: val_loss improved from 0.05903 to 0.04102, saving model to ./model/mnist-cnn-02-0.0410.hdf5\n",
      "Epoch 3/30\n",
      "60000/60000 [==============================] - 45s 742us/step - loss: 0.0654 - accuracy: 0.9822 - val_loss: 0.0378 - val_accuracy: 0.9884\n",
      "\n",
      "Epoch 00003: val_loss improved from 0.04102 to 0.03776, saving model to ./model/mnist-cnn-03-0.0378.hdf5\n",
      "Epoch 4/30\n",
      "60000/60000 [==============================] - 45s 746us/step - loss: 0.0546 - accuracy: 0.9845 - val_loss: 0.0376 - val_accuracy: 0.9888\n",
      "\n",
      "Epoch 00004: val_loss improved from 0.03776 to 0.03765, saving model to ./model/mnist-cnn-04-0.0376.hdf5\n",
      "Epoch 5/30\n",
      "60000/60000 [==============================] - 45s 743us/step - loss: 0.0409 - accuracy: 0.9887 - val_loss: 0.0363 - val_accuracy: 0.9889\n",
      "\n",
      "Epoch 00005: val_loss improved from 0.03765 to 0.03630, saving model to ./model/mnist-cnn-05-0.0363.hdf5\n",
      "Epoch 6/30\n",
      "60000/60000 [==============================] - 45s 747us/step - loss: 0.0350 - accuracy: 0.9899 - val_loss: 0.0345 - val_accuracy: 0.9900\n",
      "\n",
      "Epoch 00006: val_loss improved from 0.03630 to 0.03454, saving model to ./model/mnist-cnn-06-0.0345.hdf5\n",
      "Epoch 7/30\n",
      "60000/60000 [==============================] - 45s 742us/step - loss: 0.0285 - accuracy: 0.9915 - val_loss: 0.0345 - val_accuracy: 0.9894\n",
      "\n",
      "Epoch 00007: val_loss improved from 0.03454 to 0.03449, saving model to ./model/mnist-cnn-07-0.0345.hdf5\n",
      "Epoch 8/30\n",
      "60000/60000 [==============================] - 46s 762us/step - loss: 0.0251 - accuracy: 0.9926 - val_loss: 0.0342 - val_accuracy: 0.9906\n",
      "\n",
      "Epoch 00008: val_loss improved from 0.03449 to 0.03423, saving model to ./model/mnist-cnn-08-0.0342.hdf5\n",
      "Epoch 9/30\n",
      "60000/60000 [==============================] - 46s 775us/step - loss: 0.0210 - accuracy: 0.9939 - val_loss: 0.0304 - val_accuracy: 0.9920\n",
      "\n",
      "Epoch 00009: val_loss improved from 0.03423 to 0.03035, saving model to ./model/mnist-cnn-09-0.0304.hdf5\n",
      "Epoch 10/30\n",
      "60000/60000 [==============================] - 45s 754us/step - loss: 0.0185 - accuracy: 0.9944 - val_loss: 0.0400 - val_accuracy: 0.9895\n",
      "\n",
      "Epoch 00010: val_loss did not improve from 0.03035\n",
      "Epoch 11/30\n",
      "60000/60000 [==============================] - 46s 770us/step - loss: 0.0176 - accuracy: 0.9951 - val_loss: 0.0363 - val_accuracy: 0.9902\n",
      "\n",
      "Epoch 00011: val_loss did not improve from 0.03035\n",
      "Epoch 12/30\n",
      "60000/60000 [==============================] - 46s 769us/step - loss: 0.0165 - accuracy: 0.9949 - val_loss: 0.0378 - val_accuracy: 0.9905\n",
      "\n",
      "Epoch 00012: val_loss did not improve from 0.03035\n",
      "Epoch 13/30\n",
      "60000/60000 [==============================] - 47s 779us/step - loss: 0.0128 - accuracy: 0.9959 - val_loss: 0.0392 - val_accuracy: 0.9909\n",
      "\n",
      "Epoch 00013: val_loss did not improve from 0.03035\n",
      "Epoch 14/30\n",
      "60000/60000 [==============================] - 48s 793us/step - loss: 0.0118 - accuracy: 0.9963 - val_loss: 0.0419 - val_accuracy: 0.9912\n",
      "\n",
      "Epoch 00014: val_loss did not improve from 0.03035\n",
      "Epoch 15/30\n",
      "60000/60000 [==============================] - 44s 739us/step - loss: 0.0132 - accuracy: 0.9959 - val_loss: 0.0446 - val_accuracy: 0.9907\n",
      "\n",
      "Epoch 00015: val_loss did not improve from 0.03035\n",
      "Epoch 16/30\n",
      "60000/60000 [==============================] - 45s 746us/step - loss: 0.0122 - accuracy: 0.9963 - val_loss: 0.0388 - val_accuracy: 0.9915\n",
      "\n",
      "Epoch 00016: val_loss did not improve from 0.03035\n",
      "Epoch 17/30\n",
      "60000/60000 [==============================] - 45s 742us/step - loss: 0.0100 - accuracy: 0.9973 - val_loss: 0.0411 - val_accuracy: 0.9909\n",
      "\n",
      "Epoch 00017: val_loss did not improve from 0.03035\n",
      "Epoch 18/30\n",
      "60000/60000 [==============================] - 44s 742us/step - loss: 0.0083 - accuracy: 0.9976 - val_loss: 0.0487 - val_accuracy: 0.9907\n",
      "\n",
      "Epoch 00018: val_loss did not improve from 0.03035\n",
      "Epoch 19/30\n",
      "60000/60000 [==============================] - 45s 744us/step - loss: 0.0084 - accuracy: 0.9975 - val_loss: 0.0479 - val_accuracy: 0.9906\n",
      "\n",
      "Epoch 00019: val_loss did not improve from 0.03035\n"
     ]
    }
   ],
   "source": [
    "history = model.fit(X_train, y_train, validation_data=(X_test, y_test), epochs=30,\n",
    "                    batch_size = 200,\n",
    "                    callbacks=[early_stopping_callback, checkpointer])"
   ]
  },
  {
   "cell_type": "code",
   "execution_count": 9,
   "metadata": {},
   "outputs": [],
   "source": [
    "from keras.models import load_model\n",
    "del model\n",
    "model = load_model('model/mnist-cnn-18-0.0284.hdf5')"
   ]
  },
  {
   "cell_type": "code",
   "execution_count": 10,
   "metadata": {},
   "outputs": [
    {
     "name": "stdout",
     "output_type": "stream",
     "text": [
      "\n",
      " Test Accuracy: 0.9928\n"
     ]
    }
   ],
   "source": [
    "print(\"\\n Test Accuracy: %.4f\" %(model.evaluate(X_test, y_test, verbose = 0)[1]))"
   ]
  },
  {
   "cell_type": "code",
   "execution_count": 11,
   "metadata": {},
   "outputs": [],
   "source": [
    "y_vloss = history.history['val_loss']\n",
    "y_loss = history.history['loss']"
   ]
  },
  {
   "cell_type": "code",
   "execution_count": 12,
   "metadata": {},
   "outputs": [
    {
     "data": {
      "image/png": "[encoded data removed]",
      "text/plain": [
       "<Figure size 576x432 with 1 Axes>"
      ]
     },
     "metadata": {
      "needs_background": "light"
     },
     "output_type": "display_data"
    }
   ],
   "source": [
    "x_len = np.arange(1, len(y_loss)+1)\n",
    "plt.figure(figsize = (8,6))\n",
    "plt.plot(x_len, y_vloss, marker = '.', c = 'red', label = 'Testset_loss')\n",
    "plt.plot(x_len, y_loss, marker = '.', c = 'blue', label = 'Trainset_loss')\n",
    "\n",
    "plt.legend(loc = 'upper right')\n",
    "\n",
    "plt.grid()\n",
    "plt.xlabel('epoch')\n",
    "plt.ylabel('loss')\n",
    "plt.show()"
   ]
  },
  {
   "cell_type": "code",
   "execution_count": null,
   "metadata": {},
   "outputs": [],
   "source": []
  }
 ],
 "metadata": {
  "kernelspec": {
   "display_name": "Python 3",
   "language": "python",
   "name": "python3"
  },
  "language_info": {
   "codemirror_mode": {
    "name": "ipython",
    "version": 3
   },
   "file_extension": ".py",
   "mimetype": "text/x-python",
   "name": "python",
   "nbconvert_exporter": "python",
   "pygments_lexer": "ipython3",
   "version": "3.7.7"
  }
 },
 "nbformat": 4,
 "nbformat_minor": 4
}
