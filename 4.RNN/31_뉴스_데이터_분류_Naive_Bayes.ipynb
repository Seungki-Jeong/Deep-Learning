{
  "nbformat": 4,
  "nbformat_minor": 0,
  "metadata": {
    "colab": {
      "name": "31_뉴스 데이터 분류-Naive Bayes",
      "provenance": []
    },
    "kernelspec": {
      "name": "python3",
      "display_name": "Python 3"
    },
    "accelerator": "GPU"
  },
  "cells": [
    {
      "cell_type": "code",
      "metadata": {
        "id": "LsOt1xxgfW2C",
        "colab_type": "code",
        "colab": {
          "base_uri": "https://localhost:8080/",
          "height": 35
        },
        "outputId": "05df48f1-4d20-445f-c2fd-b1261a56ded8"
      },
      "source": [
        "%tensorflow_version 2.x\n",
        "import tensorflow as tf\n",
        "device_name = tf.test.gpu_device_name()\n",
        "if device_name != '/device:GPU:0':\n",
        "  raise SystemError('GPU device not found')\n",
        "print('Found GPU at: {}'.format(device_name))"
      ],
      "execution_count": 1,
      "outputs": [
        {
          "output_type": "stream",
          "text": [
            "Found GPU at: /device:GPU:0\n"
          ],
          "name": "stdout"
        }
      ]
    },
    {
      "cell_type": "markdown",
      "metadata": {
        "id": "UtikrkevfnHM",
        "colab_type": "text"
      },
      "source": [
        "#Naive Bayes 분류기로 뉴스 데이터 분류하기"
      ]
    },
    {
      "cell_type": "markdown",
      "metadata": {
        "id": "P67b6_iPfkiU",
        "colab_type": "text"
      },
      "source": [
        "##1. 뉴스 데이터에 대한 이해\n",
        "* Scikit-Learn 에서 제공\n",
        "* Twenty Newsgroups이라고 불리는 20개의 다른 주제를 가진 18,846개의 뉴스 데이터를 제공\n",
        "* 훈련 데이터(뉴스 11,314개)와 테스트 데이터(뉴스 7,532개)가 분류되어 있음\n",
        "* 5개의 속성, 20개의 'target' 속성"
      ]
    },
    {
      "cell_type": "code",
      "metadata": {
        "id": "vMqpQB6ffhcz",
        "colab_type": "code",
        "colab": {
          "base_uri": "https://localhost:8080/",
          "height": 71
        },
        "outputId": "bd4f74f1-877c-4f4f-8fe2-ec09e85ae124"
      },
      "source": [
        "# 훈련 데이터 다운로드\n",
        "from sklearn.datasets import fetch_20newsgroups\n",
        "newsdata=fetch_20newsgroups(subset='train')  # 'train', 'test', 'all'\n",
        "print(newsdata.keys())"
      ],
      "execution_count": 3,
      "outputs": [
        {
          "output_type": "stream",
          "text": [
            "Downloading 20news dataset. This may take a few minutes.\n",
            "Downloading dataset from https://ndownloader.figshare.com/files/5975967 (14 MB)\n"
          ],
          "name": "stderr"
        },
        {
          "output_type": "stream",
          "text": [
            "dict_keys(['data', 'filenames', 'target_names', 'target', 'DESCR'])\n"
          ],
          "name": "stdout"
        }
      ]
    },
    {
      "cell_type": "code",
      "metadata": {
        "id": "tlZ-a37HfczG",
        "colab_type": "code",
        "colab": {
          "base_uri": "https://localhost:8080/",
          "height": 35
        },
        "outputId": "a630eed0-8064-40df-edf6-c4719a28852a"
      },
      "source": [
        "len(newsdata.data), len(newsdata.filenames), len(newsdata.target_names), len(newsdata.target)"
      ],
      "execution_count": 4,
      "outputs": [
        {
          "output_type": "execute_result",
          "data": {
            "text/plain": [
              "(11314, 11314, 20, 11314)"
            ]
          },
          "metadata": {
            "tags": []
          },
          "execution_count": 4
        }
      ]
    },
    {
      "cell_type": "code",
      "metadata": {
        "id": "K5oYM9wsfuSs",
        "colab_type": "code",
        "colab": {
          "base_uri": "https://localhost:8080/",
          "height": 55
        },
        "outputId": "012bb6eb-158a-459e-9f29-3710f67b60ed"
      },
      "source": [
        "# 20개의 카테고리 이름\n",
        "print(newsdata.target_names)"
      ],
      "execution_count": 5,
      "outputs": [
        {
          "output_type": "stream",
          "text": [
            "['alt.atheism', 'comp.graphics', 'comp.os.ms-windows.misc', 'comp.sys.ibm.pc.hardware', 'comp.sys.mac.hardware', 'comp.windows.x', 'misc.forsale', 'rec.autos', 'rec.motorcycles', 'rec.sport.baseball', 'rec.sport.hockey', 'sci.crypt', 'sci.electronics', 'sci.med', 'sci.space', 'soc.religion.christian', 'talk.politics.guns', 'talk.politics.mideast', 'talk.politics.misc', 'talk.religion.misc']\n"
          ],
          "name": "stdout"
        }
      ]
    },
    {
      "cell_type": "code",
      "metadata": {
        "id": "nMo9lGVRfv_7",
        "colab_type": "code",
        "colab": {
          "base_uri": "https://localhost:8080/",
          "height": 413
        },
        "outputId": "7c6e5b0c-a9b3-41c8-efae-43ca9d6a089e"
      },
      "source": [
        "# 첫번째 훈련용 뉴스 확인\n",
        "print(newsdata.data[0])"
      ],
      "execution_count": 6,
      "outputs": [
        {
          "output_type": "stream",
          "text": [
            "From: lerxst@wam.umd.edu (where's my thing)\n",
            "Subject: WHAT car is this!?\n",
            "Nntp-Posting-Host: rac3.wam.umd.edu\n",
            "Organization: University of Maryland, College Park\n",
            "Lines: 15\n",
            "\n",
            " I was wondering if anyone out there could enlighten me on this car I saw\n",
            "the other day. It was a 2-door sports car, looked to be from the late 60s/\n",
            "early 70s. It was called a Bricklin. The doors were really small. In addition,\n",
            "the front bumper was separate from the rest of the body. This is \n",
            "all I know. If anyone can tellme a model name, engine specs, years\n",
            "of production, where this car is made, history, or whatever info you\n",
            "have on this funky looking car, please e-mail.\n",
            "\n",
            "Thanks,\n",
            "- IL\n",
            "   ---- brought to you by your neighborhood Lerxst ----\n",
            "\n",
            "\n",
            "\n",
            "\n",
            "\n"
          ],
          "name": "stdout"
        }
      ]
    },
    {
      "cell_type": "code",
      "metadata": {
        "id": "RfEnNVKLfw4L",
        "colab_type": "code",
        "colab": {
          "base_uri": "https://localhost:8080/",
          "height": 35
        },
        "outputId": "0cb2549d-34e4-4084-bae2-779316778561"
      },
      "source": [
        "# 첫번째 훈련용 뉴스의 카테고리 : 7 - rec.autos\n",
        "print(newsdata.target[0])"
      ],
      "execution_count": 7,
      "outputs": [
        {
          "output_type": "stream",
          "text": [
            "7\n"
          ],
          "name": "stdout"
        }
      ]
    },
    {
      "cell_type": "markdown",
      "metadata": {
        "id": "c9V-7eWcfzVW",
        "colab_type": "text"
      },
      "source": [
        "#2. Naive Bayes 분류"
      ]
    },
    {
      "cell_type": "markdown",
      "metadata": {
        "id": "kNxgyFG1f2YV",
        "colab_type": "text"
      },
      "source": [
        "##데이터 전처리\n",
        "* 뉴스 데이터를 토큰화해주어야 함\n",
        "* 나이브 베이즈 분류를 위해서는 BoW(Bag of Words)로 만들어주어야 함"
      ]
    },
    {
      "cell_type": "code",
      "metadata": {
        "id": "6TUnojOcfyIN",
        "colab_type": "code",
        "colab": {}
      },
      "source": [
        "from sklearn.feature_extraction.text import CountVectorizer\n",
        "from sklearn.naive_bayes import MultinomialNB  # 다항분포 나이브 베이즈 모델\n",
        "from sklearn.metrics import accuracy_score     # 정확도 계산"
      ],
      "execution_count": 8,
      "outputs": []
    },
    {
      "cell_type": "code",
      "metadata": {
        "id": "kgHTwZ7wf7Ws",
        "colab_type": "code",
        "colab": {
          "base_uri": "https://localhost:8080/",
          "height": 35
        },
        "outputId": "1bce2aa0-1b87-4381-b1f5-cff685a72aab"
      },
      "source": [
        "# DTM - Document Term Matrix\n",
        "dtmvector = CountVectorizer()\n",
        "X_train_dtm = dtmvector.fit_transform(newsdata.data)\n",
        "X_train_dtm.shape\n",
        "# 훈련용 뉴스의 개수(DTM 관점에서는 문서의 수), 전체 훈련 데이터에 등장한 단어의 수"
      ],
      "execution_count": 9,
      "outputs": [
        {
          "output_type": "execute_result",
          "data": {
            "text/plain": [
              "(11314, 130107)"
            ]
          },
          "metadata": {
            "tags": []
          },
          "execution_count": 9
        }
      ]
    },
    {
      "cell_type": "markdown",
      "metadata": {
        "id": "7YfLb-Ocf9vb",
        "colab_type": "text"
      },
      "source": [
        "##나이브 베이즈 분류 수행"
      ]
    },
    {
      "cell_type": "code",
      "metadata": {
        "id": "6XwY9avvf8Z7",
        "colab_type": "code",
        "colab": {
          "base_uri": "https://localhost:8080/",
          "height": 35
        },
        "outputId": "77e311b4-07b4-4e44-9c40-26ef78221a1c"
      },
      "source": [
        "# 사이킷 런에서 제공하는 나이브 베이즈 모델\n",
        "model = MultinomialNB()\n",
        "model.fit(X_train_dtm, newsdata.target)\n",
        "# alpha=1.0은 라플라스 스무딩(확률이 0이 되는 것을 방지)이 적용되었음을 의미"
      ],
      "execution_count": 10,
      "outputs": [
        {
          "output_type": "execute_result",
          "data": {
            "text/plain": [
              "MultinomialNB(alpha=1.0, class_prior=None, fit_prior=True)"
            ]
          },
          "metadata": {
            "tags": []
          },
          "execution_count": 10
        }
      ]
    },
    {
      "cell_type": "markdown",
      "metadata": {
        "id": "V-WPqXQMgAmj",
        "colab_type": "text"
      },
      "source": [
        "##테스트 데이터 셋에 대해 정확도 측정"
      ]
    },
    {
      "cell_type": "code",
      "metadata": {
        "id": "QUvEw4tMf_l7",
        "colab_type": "code",
        "colab": {}
      },
      "source": [
        "newsdata_test = fetch_20newsgroups(subset='test', shuffle=True) # 테스트 데이터 갖고오기\n",
        "X_test_dtm = dtmvector.transform(newsdata_test.data)  # 테스트 데이터를 DTM으로 변환"
      ],
      "execution_count": 11,
      "outputs": []
    },
    {
      "cell_type": "code",
      "metadata": {
        "id": "pV6S-EN4gCLr",
        "colab_type": "code",
        "colab": {
          "base_uri": "https://localhost:8080/",
          "height": 35
        },
        "outputId": "0839a207-33cf-4b5a-f071-4dda49fa31ac"
      },
      "source": [
        "predicted = model.predict(X_test_dtm) #테스트 데이터에 대한 예측\n",
        "print(\"정확도: %.4f\" % accuracy_score(newsdata_test.target, predicted)) #예측값과 실제값 비교"
      ],
      "execution_count": 12,
      "outputs": [
        {
          "output_type": "stream",
          "text": [
            "정확도: 0.7728\n"
          ],
          "name": "stdout"
        }
      ]
    },
    {
      "cell_type": "markdown",
      "metadata": {
        "id": "fRFEPAKPgF1L",
        "colab_type": "text"
      },
      "source": [
        "##TF-IDF 적용\n",
        "* DTM 행렬 대신 TF-IDF(Term Frequency - Inverse Document Frequency) 가중치를 적용한 TF-IDF 행렬을 입력으로 텍스트 분류를 수행하면, 성능의 개선을 얻을 수도 있음\n",
        "* TF-IDF 행렬이 항상 DTM으로 수행했을 때보다 성능이 뛰어나지는 않음"
      ]
    },
    {
      "cell_type": "code",
      "metadata": {
        "id": "mImQzS-vgEJD",
        "colab_type": "code",
        "colab": {}
      },
      "source": [
        "from sklearn.feature_extraction.text import TfidfTransformer"
      ],
      "execution_count": 13,
      "outputs": []
    },
    {
      "cell_type": "code",
      "metadata": {
        "id": "oK5dbBX4gKRE",
        "colab_type": "code",
        "colab": {
          "base_uri": "https://localhost:8080/",
          "height": 35
        },
        "outputId": "934684ac-5be5-476e-a97d-a08d8147f391"
      },
      "source": [
        "tfidf_transformer = TfidfTransformer()\n",
        "tfidfv = tfidf_transformer.fit_transform(X_train_dtm)\n",
        "print(tfidfv.shape)"
      ],
      "execution_count": 14,
      "outputs": [
        {
          "output_type": "stream",
          "text": [
            "(11314, 130107)\n"
          ],
          "name": "stdout"
        }
      ]
    },
    {
      "cell_type": "code",
      "metadata": {
        "id": "Aj01QmgOgLDb",
        "colab_type": "code",
        "colab": {
          "base_uri": "https://localhost:8080/",
          "height": 35
        },
        "outputId": "7a5d46ad-b215-4cb5-cc44-43745c517293"
      },
      "source": [
        "model2 = MultinomialNB()\n",
        "model2.fit(tfidfv, newsdata.target)"
      ],
      "execution_count": 15,
      "outputs": [
        {
          "output_type": "execute_result",
          "data": {
            "text/plain": [
              "MultinomialNB(alpha=1.0, class_prior=None, fit_prior=True)"
            ]
          },
          "metadata": {
            "tags": []
          },
          "execution_count": 15
        }
      ]
    },
    {
      "cell_type": "code",
      "metadata": {
        "id": "3S2gawPhgMb8",
        "colab_type": "code",
        "colab": {}
      },
      "source": [
        "tfidfv_test = tfidf_transformer.transform(X_test_dtm) # DTM을 TF-IDF 행렬로 변환"
      ],
      "execution_count": 16,
      "outputs": []
    },
    {
      "cell_type": "code",
      "metadata": {
        "id": "gS6NWAZagNpk",
        "colab_type": "code",
        "colab": {
          "base_uri": "https://localhost:8080/",
          "height": 35
        },
        "outputId": "2ab8c1ab-b835-4829-fd97-79dcd2ffa2e2"
      },
      "source": [
        "predicted = model2.predict(tfidfv_test) #테스트 데이터에 대한 예측\n",
        "print(\"정확도: %.4f\" % accuracy_score(newsdata_test.target, predicted)) #예측값과 실제값 비교"
      ],
      "execution_count": 17,
      "outputs": [
        {
          "output_type": "stream",
          "text": [
            "정확도: 0.7739\n"
          ],
          "name": "stdout"
        }
      ]
    },
    {
      "cell_type": "code",
      "metadata": {
        "id": "x1DzYlaQgOvs",
        "colab_type": "code",
        "colab": {}
      },
      "source": [
        ""
      ],
      "execution_count": null,
      "outputs": []
    }
  ]
}