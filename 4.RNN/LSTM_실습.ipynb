{
 "cells": [
  {
   "cell_type": "markdown",
   "metadata": {},
   "source": [
    "# LSTM을 이용한 텍스트 생성 / 개인"
   ]
  },
  {
   "cell_type": "markdown",
   "metadata": {},
   "source": [
    "## 1. 데이터 전처리"
   ]
  },
  {
   "cell_type": "code",
   "execution_count": 1,
   "metadata": {},
   "outputs": [
    {
     "name": "stderr",
     "output_type": "stream",
     "text": [
      "Using TensorFlow backend.\n"
     ]
    }
   ],
   "source": [
    "import numpy as np\n",
    "import pandas as pd\n",
    "from string import punctuation\n",
    "\n",
    "from tensorflow import keras\n",
    "from keras.preprocessing.text import Tokenizer\n",
    "from keras.preprocessing.sequence import pad_sequences\n",
    "from keras.utils import to_categorical"
   ]
  },
  {
   "cell_type": "code",
   "execution_count": 2,
   "metadata": {},
   "outputs": [
    {
     "data": {
      "text/html": [
       "<div>\n",
       "<style scoped>\n",
       "    .dataframe tbody tr th:only-of-type {\n",
       "        vertical-align: middle;\n",
       "    }\n",
       "\n",
       "    .dataframe tbody tr th {\n",
       "        vertical-align: top;\n",
       "    }\n",
       "\n",
       "    .dataframe thead th {\n",
       "        text-align: right;\n",
       "    }\n",
       "</style>\n",
       "<table border=\"1\" class=\"dataframe\">\n",
       "  <thead>\n",
       "    <tr style=\"text-align: right;\">\n",
       "      <th></th>\n",
       "      <th>abstract</th>\n",
       "      <th>articleID</th>\n",
       "      <th>articleWordCount</th>\n",
       "      <th>byline</th>\n",
       "      <th>documentType</th>\n",
       "      <th>headline</th>\n",
       "      <th>keywords</th>\n",
       "      <th>multimedia</th>\n",
       "      <th>newDesk</th>\n",
       "      <th>printPage</th>\n",
       "      <th>pubDate</th>\n",
       "      <th>sectionName</th>\n",
       "      <th>snippet</th>\n",
       "      <th>source</th>\n",
       "      <th>typeOfMaterial</th>\n",
       "      <th>webURL</th>\n",
       "    </tr>\n",
       "  </thead>\n",
       "  <tbody>\n",
       "    <tr>\n",
       "      <th>0</th>\n",
       "      <td>NaN</td>\n",
       "      <td>5906b3197c459f24986dd003</td>\n",
       "      <td>2412</td>\n",
       "      <td>By IAN JOHNSON</td>\n",
       "      <td>article</td>\n",
       "      <td>My Beijing: The Sacred City</td>\n",
       "      <td>['Travel and Vacations', 'Beijing (China)', 'R...</td>\n",
       "      <td>3</td>\n",
       "      <td>Travel</td>\n",
       "      <td>1</td>\n",
       "      <td>2017-05-01 04:01:21</td>\n",
       "      <td>Unknown</td>\n",
       "      <td>This metropolis was once a total work of art, ...</td>\n",
       "      <td>The New York Times</td>\n",
       "      <td>News</td>\n",
       "      <td>https://www.nytimes.com/2017/05/01/travel/beij...</td>\n",
       "    </tr>\n",
       "    <tr>\n",
       "      <th>1</th>\n",
       "      <td>NaN</td>\n",
       "      <td>5906b3297c459f24986dd004</td>\n",
       "      <td>2318</td>\n",
       "      <td>By EMMA G. FITZSIMMONS</td>\n",
       "      <td>article</td>\n",
       "      <td>6 Million Riders a Day, 1930s Technology</td>\n",
       "      <td>['Subways', 'Delays (Transportation)', 'Transi...</td>\n",
       "      <td>68</td>\n",
       "      <td>Metro</td>\n",
       "      <td>1</td>\n",
       "      <td>2017-05-01 04:01:33</td>\n",
       "      <td>Unknown</td>\n",
       "      <td>New York’s subway is struggling with old infra...</td>\n",
       "      <td>The New York Times</td>\n",
       "      <td>News</td>\n",
       "      <td>https://www.nytimes.com/2017/05/01/nyregion/ne...</td>\n",
       "    </tr>\n",
       "    <tr>\n",
       "      <th>2</th>\n",
       "      <td>NaN</td>\n",
       "      <td>5906ceec7c459f24986dd021</td>\n",
       "      <td>1795</td>\n",
       "      <td>By MARC TRACY</td>\n",
       "      <td>article</td>\n",
       "      <td>Seeking a Cross-Border Conference</td>\n",
       "      <td>['Cetys University', 'College Athletics', 'Nat...</td>\n",
       "      <td>3</td>\n",
       "      <td>Sports</td>\n",
       "      <td>1</td>\n",
       "      <td>2017-05-01 06:00:05</td>\n",
       "      <td>Unknown</td>\n",
       "      <td>Cetys University is making an ambitious bid to...</td>\n",
       "      <td>The New York Times</td>\n",
       "      <td>News</td>\n",
       "      <td>https://www.nytimes.com/2017/05/01/sports/mexi...</td>\n",
       "    </tr>\n",
       "    <tr>\n",
       "      <th>3</th>\n",
       "      <td>NaN</td>\n",
       "      <td>5906cfa77c459f24986dd022</td>\n",
       "      <td>213</td>\n",
       "      <td>By SHANNON DOYNE</td>\n",
       "      <td>article</td>\n",
       "      <td>Questions for: ‘Despite the “Yuck Factor,” Lee...</td>\n",
       "      <td>[]</td>\n",
       "      <td>3</td>\n",
       "      <td>Learning</td>\n",
       "      <td>0</td>\n",
       "      <td>2017-05-01 06:03:03</td>\n",
       "      <td>Unknown</td>\n",
       "      <td>How are leeches used to treat various medical ...</td>\n",
       "      <td>The New York Times</td>\n",
       "      <td>News</td>\n",
       "      <td>https://www.nytimes.com/2017/05/01/learning/qu...</td>\n",
       "    </tr>\n",
       "    <tr>\n",
       "      <th>4</th>\n",
       "      <td>NaN</td>\n",
       "      <td>5906e1c07c459f24986dd039</td>\n",
       "      <td>1342</td>\n",
       "      <td>By JASON STANLEY</td>\n",
       "      <td>article</td>\n",
       "      <td>Who Is a ‘Criminal’?</td>\n",
       "      <td>['Illegal Immigration', 'Traffic and Parking V...</td>\n",
       "      <td>3</td>\n",
       "      <td>OpEd</td>\n",
       "      <td>0</td>\n",
       "      <td>2017-05-01 07:20:26</td>\n",
       "      <td>Unknown</td>\n",
       "      <td>Justice Roberts was right. The Trump administr...</td>\n",
       "      <td>The New York Times</td>\n",
       "      <td>Op-Ed</td>\n",
       "      <td>https://www.nytimes.com/2017/05/01/opinion/who...</td>\n",
       "    </tr>\n",
       "  </tbody>\n",
       "</table>\n",
       "</div>"
      ],
      "text/plain": [
       "  abstract                 articleID  articleWordCount  \\\n",
       "0      NaN  5906b3197c459f24986dd003              2412   \n",
       "1      NaN  5906b3297c459f24986dd004              2318   \n",
       "2      NaN  5906ceec7c459f24986dd021              1795   \n",
       "3      NaN  5906cfa77c459f24986dd022               213   \n",
       "4      NaN  5906e1c07c459f24986dd039              1342   \n",
       "\n",
       "                   byline documentType  \\\n",
       "0          By IAN JOHNSON      article   \n",
       "1  By EMMA G. FITZSIMMONS      article   \n",
       "2           By MARC TRACY      article   \n",
       "3        By SHANNON DOYNE      article   \n",
       "4        By JASON STANLEY      article   \n",
       "\n",
       "                                            headline  \\\n",
       "0                        My Beijing: The Sacred City   \n",
       "1           6 Million Riders a Day, 1930s Technology   \n",
       "2                  Seeking a Cross-Border Conference   \n",
       "3  Questions for: ‘Despite the “Yuck Factor,” Lee...   \n",
       "4                               Who Is a ‘Criminal’?   \n",
       "\n",
       "                                            keywords  multimedia   newDesk  \\\n",
       "0  ['Travel and Vacations', 'Beijing (China)', 'R...           3    Travel   \n",
       "1  ['Subways', 'Delays (Transportation)', 'Transi...          68     Metro   \n",
       "2  ['Cetys University', 'College Athletics', 'Nat...           3    Sports   \n",
       "3                                                 []           3  Learning   \n",
       "4  ['Illegal Immigration', 'Traffic and Parking V...           3      OpEd   \n",
       "\n",
       "   printPage              pubDate sectionName  \\\n",
       "0          1  2017-05-01 04:01:21     Unknown   \n",
       "1          1  2017-05-01 04:01:33     Unknown   \n",
       "2          1  2017-05-01 06:00:05     Unknown   \n",
       "3          0  2017-05-01 06:03:03     Unknown   \n",
       "4          0  2017-05-01 07:20:26     Unknown   \n",
       "\n",
       "                                             snippet              source  \\\n",
       "0  This metropolis was once a total work of art, ...  The New York Times   \n",
       "1  New York’s subway is struggling with old infra...  The New York Times   \n",
       "2  Cetys University is making an ambitious bid to...  The New York Times   \n",
       "3  How are leeches used to treat various medical ...  The New York Times   \n",
       "4  Justice Roberts was right. The Trump administr...  The New York Times   \n",
       "\n",
       "  typeOfMaterial                                             webURL  \n",
       "0           News  https://www.nytimes.com/2017/05/01/travel/beij...  \n",
       "1           News  https://www.nytimes.com/2017/05/01/nyregion/ne...  \n",
       "2           News  https://www.nytimes.com/2017/05/01/sports/mexi...  \n",
       "3           News  https://www.nytimes.com/2017/05/01/learning/qu...  \n",
       "4          Op-Ed  https://www.nytimes.com/2017/05/01/opinion/who...  "
      ]
     },
     "execution_count": 2,
     "metadata": {},
     "output_type": "execute_result"
    }
   ],
   "source": [
    "df = pd.read_csv('data/ArticlesMay2017.csv')\n",
    "df.head()"
   ]
  },
  {
   "cell_type": "code",
   "execution_count": 3,
   "metadata": {},
   "outputs": [
    {
     "name": "stdout",
     "output_type": "stream",
     "text": [
      "16\n",
      "Index(['abstract', 'articleID', 'articleWordCount', 'byline', 'documentType',\n",
      "       'headline', 'keywords', 'multimedia', 'newDesk', 'printPage', 'pubDate',\n",
      "       'sectionName', 'snippet', 'source', 'typeOfMaterial', 'webURL'],\n",
      "      dtype='object')\n"
     ]
    }
   ],
   "source": [
    "print(len(df.columns))\n",
    "print(df.columns)"
   ]
  },
  {
   "cell_type": "code",
   "execution_count": 4,
   "metadata": {},
   "outputs": [
    {
     "data": {
      "text/plain": [
       "False"
      ]
     },
     "execution_count": 4,
     "metadata": {},
     "output_type": "execute_result"
    }
   ],
   "source": [
    "df['headline'].isnull().values.any()"
   ]
  },
  {
   "cell_type": "code",
   "execution_count": 5,
   "metadata": {},
   "outputs": [
    {
     "data": {
      "text/plain": [
       "['My Beijing: The Sacred City',\n",
       " '6 Million Riders a Day, 1930s Technology',\n",
       " 'Seeking a Cross-Border Conference',\n",
       " 'Questions for: ‘Despite the “Yuck Factor,” Leeches Are Big in Russian Medicine’',\n",
       " 'Who Is a ‘Criminal’?']"
      ]
     },
     "execution_count": 5,
     "metadata": {},
     "output_type": "execute_result"
    }
   ],
   "source": [
    "headline = [head for head in df.headline.values]\n",
    "headline[:5]"
   ]
  },
  {
   "cell_type": "code",
   "execution_count": 6,
   "metadata": {},
   "outputs": [
    {
     "data": {
      "text/plain": [
       "996"
      ]
     },
     "execution_count": 6,
     "metadata": {},
     "output_type": "execute_result"
    }
   ],
   "source": [
    "len(headline)"
   ]
  },
  {
   "cell_type": "code",
   "execution_count": 7,
   "metadata": {},
   "outputs": [
    {
     "data": {
      "text/plain": [
       "935"
      ]
     },
     "execution_count": 7,
     "metadata": {},
     "output_type": "execute_result"
    }
   ],
   "source": [
    "# 'Unknown'은 없었음. (차이 없음)\n",
    "headline = [head for head in headline if head != 'Unknown']\n",
    "len(headline)"
   ]
  },
  {
   "cell_type": "code",
   "execution_count": 8,
   "metadata": {},
   "outputs": [],
   "source": [
    "def repreprocessing(s):\n",
    "    s = s.encode('utf8').decode('ascii','ignore')\n",
    "    return ''.join(c for c in s if c not in punctuation).lower()"
   ]
  },
  {
   "cell_type": "code",
   "execution_count": 9,
   "metadata": {},
   "outputs": [
    {
     "data": {
      "text/plain": [
       "['my beijing the sacred city',\n",
       " '6 million riders a day 1930s technology',\n",
       " 'seeking a crossborder conference',\n",
       " 'questions for despite the yuck factor leeches are big in russian medicine',\n",
       " 'who is a criminal']"
      ]
     },
     "execution_count": 9,
     "metadata": {},
     "output_type": "execute_result"
    }
   ],
   "source": [
    "text = [repreprocessing(x) for x in headline]\n",
    "text[:5]"
   ]
  },
  {
   "cell_type": "code",
   "execution_count": 10,
   "metadata": {},
   "outputs": [
    {
     "name": "stdout",
     "output_type": "stream",
     "text": [
      "단어 집합의 크기: 2653\n"
     ]
    }
   ],
   "source": [
    "# 단어 집합(vocabulary)을 만들고 크기를 확인\n",
    "t = Tokenizer()\n",
    "t.fit_on_texts(text)\n",
    "vocab_size = len(t.word_index) + 1\n",
    "print('단어 집합의 크기: %d' %vocab_size)"
   ]
  },
  {
   "cell_type": "code",
   "execution_count": 11,
   "metadata": {},
   "outputs": [
    {
     "data": {
      "text/plain": [
       "[[48, 799],\n",
       " [48, 799, 1],\n",
       " [48, 799, 1, 800],\n",
       " [48, 799, 1, 800, 57],\n",
       " [114, 406],\n",
       " [114, 406, 407],\n",
       " [114, 406, 407, 2],\n",
       " [114, 406, 407, 2, 179],\n",
       " [114, 406, 407, 2, 179, 801],\n",
       " [114, 406, 407, 2, 179, 801, 802],\n",
       " [803, 2]]"
      ]
     },
     "execution_count": 11,
     "metadata": {},
     "output_type": "execute_result"
    }
   ],
   "source": [
    "sequences = []\n",
    "for line in text:\n",
    "    encoded = t.texts_to_sequences([line])[0]\n",
    "    for i in range(1, len(encoded)):\n",
    "        sequence = encoded[:i+1]\n",
    "        sequences.append(sequence)\n",
    "sequences[:11] # 11개의 샘플 출력"
   ]
  },
  {
   "cell_type": "code",
   "execution_count": 12,
   "metadata": {},
   "outputs": [
    {
     "name": "stdout",
     "output_type": "stream",
     "text": [
      "빈도수 상위 1번 단어:  the\n",
      "빈도수 상위 802번 단어:  technology\n"
     ]
    }
   ],
   "source": [
    "index_to_word = {}\n",
    "for key, value in t.word_index.items():\n",
    "    index_to_word[value] = key\n",
    "print('빈도수 상위 1번 단어: ', index_to_word[1])\n",
    "print('빈도수 상위 802번 단어: ', index_to_word[802])"
   ]
  },
  {
   "cell_type": "code",
   "execution_count": 13,
   "metadata": {},
   "outputs": [
    {
     "name": "stdout",
     "output_type": "stream",
     "text": [
      "샘플의 최대 길이:  16\n"
     ]
    }
   ],
   "source": [
    "max_len = max(len(s) for s in sequences)\n",
    "print('샘플의 최대 길이: ', max_len)"
   ]
  },
  {
   "cell_type": "code",
   "execution_count": 14,
   "metadata": {},
   "outputs": [
    {
     "name": "stdout",
     "output_type": "stream",
     "text": [
      "[[  0   0   0   0   0   0   0   0   0   0   0   0   0   0  48 799]\n",
      " [  0   0   0   0   0   0   0   0   0   0   0   0   0  48 799   1]\n",
      " [  0   0   0   0   0   0   0   0   0   0   0   0  48 799   1 800]]\n"
     ]
    }
   ],
   "source": [
    "sequences = pad_sequences(sequences, maxlen=max_len, padding='pre')\n",
    "print(sequences[:3])"
   ]
  },
  {
   "cell_type": "code",
   "execution_count": 15,
   "metadata": {},
   "outputs": [],
   "source": [
    "X = sequences[:,:-1]\n",
    "y = sequences[:,-1]"
   ]
  },
  {
   "cell_type": "code",
   "execution_count": 16,
   "metadata": {},
   "outputs": [],
   "source": [
    "# 레이블 데이터 y에 대해서 원-핫 인코딩을 수행\n",
    "y = to_categorical(y, num_classes=vocab_size)"
   ]
  },
  {
   "cell_type": "code",
   "execution_count": 17,
   "metadata": {},
   "outputs": [
    {
     "data": {
      "text/plain": [
       "((5501, 15), (5501, 2653))"
      ]
     },
     "execution_count": 17,
     "metadata": {},
     "output_type": "execute_result"
    }
   ],
   "source": [
    "X.shape, y.shape"
   ]
  },
  {
   "cell_type": "markdown",
   "metadata": {},
   "source": [
    "## 2. 모델 설계 및 학습"
   ]
  },
  {
   "cell_type": "code",
   "execution_count": 18,
   "metadata": {},
   "outputs": [],
   "source": [
    "from tensorflow import keras\n",
    "from keras.models import Sequential\n",
    "from keras.layers import Embedding, Dense, LSTM"
   ]
  },
  {
   "cell_type": "code",
   "execution_count": 19,
   "metadata": {},
   "outputs": [
    {
     "name": "stdout",
     "output_type": "stream",
     "text": [
      "Model: \"sequential_1\"\n",
      "_________________________________________________________________\n",
      "Layer (type)                 Output Shape              Param #   \n",
      "=================================================================\n",
      "Embedding_Layer (Embedding)  (None, 15, 10)            26530     \n",
      "_________________________________________________________________\n",
      "LSTM_Layer (LSTM)            (None, 128)               71168     \n",
      "_________________________________________________________________\n",
      "Output_Layer (Dense)         (None, 2653)              342237    \n",
      "=================================================================\n",
      "Total params: 439,935\n",
      "Trainable params: 439,935\n",
      "Non-trainable params: 0\n",
      "_________________________________________________________________\n"
     ]
    }
   ],
   "source": [
    "model = Sequential()\n",
    "model.add(Embedding(vocab_size, 10, input_length=max_len-1, name = 'Embedding_Layer'))\n",
    "model.add(LSTM(128, name = 'LSTM_Layer'))\n",
    "model.add(Dense(vocab_size, activation='softmax', name = 'Output_Layer'))\n",
    "model.summary()"
   ]
  },
  {
   "cell_type": "code",
   "execution_count": 20,
   "metadata": {},
   "outputs": [],
   "source": [
    "model.compile(loss = 'categorical_crossentropy',\n",
    "              optimizer = 'adam', metrics = ['accuracy'])"
   ]
  },
  {
   "cell_type": "code",
   "execution_count": 21,
   "metadata": {
    "scrolled": true
   },
   "outputs": [
    {
     "name": "stderr",
     "output_type": "stream",
     "text": [
      "C:\\Users\\14\\.conda\\envs\\tf2\\lib\\site-packages\\tensorflow_core\\python\\framework\\indexed_slices.py:433: UserWarning: Converting sparse IndexedSlices to a dense Tensor of unknown shape. This may consume a large amount of memory.\n",
      "  \"Converting sparse IndexedSlices to a dense Tensor of unknown shape. \"\n"
     ]
    },
    {
     "name": "stdout",
     "output_type": "stream",
     "text": [
      "Epoch 1/200\n",
      "5501/5501 [==============================] - 2s 411us/step - loss: 7.4951 - accuracy: 0.0362\n",
      "Epoch 2/200\n",
      "5501/5501 [==============================] - 2s 363us/step - loss: 6.9891 - accuracy: 0.0351\n",
      "Epoch 3/200\n",
      "5501/5501 [==============================] - 2s 362us/step - loss: 6.8652 - accuracy: 0.0365\n",
      "Epoch 4/200\n",
      "5501/5501 [==============================] - 2s 377us/step - loss: 6.7665 - accuracy: 0.0429\n",
      "Epoch 5/200\n",
      "5501/5501 [==============================] - 2s 376us/step - loss: 6.6492 - accuracy: 0.0447\n",
      "Epoch 6/200\n",
      "5501/5501 [==============================] - 2s 366us/step - loss: 6.5026 - accuracy: 0.0484\n",
      "Epoch 7/200\n",
      "5501/5501 [==============================] - 2s 371us/step - loss: 6.3432 - accuracy: 0.0511\n",
      "Epoch 8/200\n",
      "5501/5501 [==============================] - 2s 349us/step - loss: 6.1735 - accuracy: 0.0551\n",
      "Epoch 9/200\n",
      "5501/5501 [==============================] - 2s 347us/step - loss: 5.9986 - accuracy: 0.0604\n",
      "Epoch 10/200\n",
      "5501/5501 [==============================] - 2s 342us/step - loss: 5.8303 - accuracy: 0.0611\n",
      "Epoch 11/200\n",
      "5501/5501 [==============================] - 2s 343us/step - loss: 5.6666 - accuracy: 0.0660\n",
      "Epoch 12/200\n",
      "5501/5501 [==============================] - 2s 372us/step - loss: 5.5132 - accuracy: 0.0742\n",
      "Epoch 13/200\n",
      "5501/5501 [==============================] - 2s 375us/step - loss: 5.3681 - accuracy: 0.0763\n",
      "Epoch 14/200\n",
      "5501/5501 [==============================] - 2s 387us/step - loss: 5.2278 - accuracy: 0.0831\n",
      "Epoch 15/200\n",
      "5501/5501 [==============================] - 2s 395us/step - loss: 5.0920 - accuracy: 0.0918\n",
      "Epoch 16/200\n",
      "5501/5501 [==============================] - 2s 395us/step - loss: 4.9646 - accuracy: 0.09850s -\n",
      "Epoch 17/200\n",
      "5501/5501 [==============================] - 2s 396us/step - loss: 4.8363 - accuracy: 0.1105\n",
      "Epoch 18/200\n",
      "5501/5501 [==============================] - 2s 395us/step - loss: 4.7139 - accuracy: 0.1200\n",
      "Epoch 19/200\n",
      "5501/5501 [==============================] - 2s 398us/step - loss: 4.5968 - accuracy: 0.1285\n",
      "Epoch 20/200\n",
      "5501/5501 [==============================] - 2s 375us/step - loss: 4.4795 - accuracy: 0.1423\n",
      "Epoch 21/200\n",
      "5501/5501 [==============================] - 2s 348us/step - loss: 4.3684 - accuracy: 0.1574\n",
      "Epoch 22/200\n",
      "5501/5501 [==============================] - 2s 374us/step - loss: 4.2602 - accuracy: 0.1738\n",
      "Epoch 23/200\n",
      "5501/5501 [==============================] - 2s 377us/step - loss: 4.1558 - accuracy: 0.1907\n",
      "Epoch 24/200\n",
      "5501/5501 [==============================] - 2s 395us/step - loss: 4.0524 - accuracy: 0.2038\n",
      "Epoch 25/200\n",
      "5501/5501 [==============================] - 2s 396us/step - loss: 3.9588 - accuracy: 0.2194\n",
      "Epoch 26/200\n",
      "5501/5501 [==============================] - 2s 369us/step - loss: 3.8563 - accuracy: 0.24070s - loss: 3.8205 \n",
      "Epoch 27/200\n",
      "5501/5501 [==============================] - 2s 397us/step - loss: 3.7663 - accuracy: 0.2474\n",
      "Epoch 28/200\n",
      "5501/5501 [==============================] - 2s 349us/step - loss: 3.6747 - accuracy: 0.2681\n",
      "Epoch 29/200\n",
      "5501/5501 [==============================] - 2s 345us/step - loss: 3.5885 - accuracy: 0.2810\n",
      "Epoch 30/200\n",
      "5501/5501 [==============================] - 2s 391us/step - loss: 3.5038 - accuracy: 0.2999\n",
      "Epoch 31/200\n",
      "5501/5501 [==============================] - 2s 398us/step - loss: 3.4222 - accuracy: 0.3134\n",
      "Epoch 32/200\n",
      "5501/5501 [==============================] - 2s 398us/step - loss: 3.3436 - accuracy: 0.3225\n",
      "Epoch 33/200\n",
      "5501/5501 [==============================] - 2s 400us/step - loss: 3.2666 - accuracy: 0.3390\n",
      "Epoch 34/200\n",
      "5501/5501 [==============================] - 2s 399us/step - loss: 3.1948 - accuracy: 0.3538\n",
      "Epoch 35/200\n",
      "5501/5501 [==============================] - 2s 399us/step - loss: 3.1230 - accuracy: 0.3663\n",
      "Epoch 36/200\n",
      "5501/5501 [==============================] - 2s 383us/step - loss: 3.0553 - accuracy: 0.3725\n",
      "Epoch 37/200\n",
      "5501/5501 [==============================] - 2s 341us/step - loss: 2.9868 - accuracy: 0.3890\n",
      "Epoch 38/200\n",
      "5501/5501 [==============================] - 2s 341us/step - loss: 2.9231 - accuracy: 0.4012\n",
      "Epoch 39/200\n",
      "5501/5501 [==============================] - 2s 342us/step - loss: 2.8602 - accuracy: 0.4117\n",
      "Epoch 40/200\n",
      "5501/5501 [==============================] - 2s 340us/step - loss: 2.8003 - accuracy: 0.4196\n",
      "Epoch 41/200\n",
      "5501/5501 [==============================] - 2s 360us/step - loss: 2.7419 - accuracy: 0.4361\n",
      "Epoch 42/200\n",
      "5501/5501 [==============================] - 2s 402us/step - loss: 2.6818 - accuracy: 0.4483\n",
      "Epoch 43/200\n",
      "5501/5501 [==============================] - 2s 397us/step - loss: 2.6287 - accuracy: 0.4559\n",
      "Epoch 44/200\n",
      "5501/5501 [==============================] - 2s 400us/step - loss: 2.5747 - accuracy: 0.4686\n",
      "Epoch 45/200\n",
      "5501/5501 [==============================] - 2s 367us/step - loss: 2.5233 - accuracy: 0.4766\n",
      "Epoch 46/200\n",
      "5501/5501 [==============================] - 2s 367us/step - loss: 2.4699 - accuracy: 0.4863\n",
      "Epoch 47/200\n",
      "5501/5501 [==============================] - 2s 398us/step - loss: 2.4229 - accuracy: 0.4937\n",
      "Epoch 48/200\n",
      "5501/5501 [==============================] - 2s 402us/step - loss: 2.3724 - accuracy: 0.5030\n",
      "Epoch 49/200\n",
      "5501/5501 [==============================] - 2s 399us/step - loss: 2.3275 - accuracy: 0.5114\n",
      "Epoch 50/200\n",
      "5501/5501 [==============================] - 2s 387us/step - loss: 2.2820 - accuracy: 0.5235\n",
      "Epoch 51/200\n",
      "5501/5501 [==============================] - 2s 339us/step - loss: 2.2356 - accuracy: 0.5343\n",
      "Epoch 52/200\n",
      "5501/5501 [==============================] - 2s 341us/step - loss: 2.1914 - accuracy: 0.5421\n",
      "Epoch 53/200\n",
      "5501/5501 [==============================] - 2s 366us/step - loss: 2.1519 - accuracy: 0.5495\n",
      "Epoch 54/200\n",
      "5501/5501 [==============================] - 2s 372us/step - loss: 2.1116 - accuracy: 0.5555\n",
      "Epoch 55/200\n",
      "5501/5501 [==============================] - 2s 340us/step - loss: 2.0698 - accuracy: 0.5675\n",
      "Epoch 56/200\n",
      "5501/5501 [==============================] - 2s 340us/step - loss: 2.0293 - accuracy: 0.5741\n",
      "Epoch 57/200\n",
      "5501/5501 [==============================] - 2s 341us/step - loss: 1.9924 - accuracy: 0.5864\n",
      "Epoch 58/200\n",
      "5501/5501 [==============================] - 2s 341us/step - loss: 1.9560 - accuracy: 0.5897\n",
      "Epoch 59/200\n",
      "5501/5501 [==============================] - 2s 340us/step - loss: 1.9178 - accuracy: 0.5952\n",
      "Epoch 60/200\n",
      "5501/5501 [==============================] - 2s 341us/step - loss: 1.8796 - accuracy: 0.6090\n",
      "Epoch 61/200\n",
      "5501/5501 [==============================] - 2s 352us/step - loss: 1.8443 - accuracy: 0.6164\n",
      "Epoch 62/200\n",
      "5501/5501 [==============================] - 2s 342us/step - loss: 1.8082 - accuracy: 0.6217\n",
      "Epoch 63/200\n",
      "5501/5501 [==============================] - 2s 341us/step - loss: 1.7747 - accuracy: 0.6262\n",
      "Epoch 64/200\n",
      "5501/5501 [==============================] - 2s 342us/step - loss: 1.7418 - accuracy: 0.6337\n",
      "Epoch 65/200\n",
      "5501/5501 [==============================] - 2s 371us/step - loss: 1.7082 - accuracy: 0.6437\n",
      "Epoch 66/200\n",
      "5501/5501 [==============================] - 2s 342us/step - loss: 1.6777 - accuracy: 0.6537\n",
      "Epoch 67/200\n",
      "5501/5501 [==============================] - 2s 342us/step - loss: 1.6445 - accuracy: 0.6592\n",
      "Epoch 68/200\n",
      "5501/5501 [==============================] - 2s 342us/step - loss: 1.6126 - accuracy: 0.6673\n",
      "Epoch 69/200\n",
      "5501/5501 [==============================] - 2s 343us/step - loss: 1.5825 - accuracy: 0.6719\n",
      "Epoch 70/200\n",
      "5501/5501 [==============================] - 2s 342us/step - loss: 1.5511 - accuracy: 0.6788\n",
      "Epoch 71/200\n",
      "5501/5501 [==============================] - 2s 362us/step - loss: 1.5227 - accuracy: 0.6868\n",
      "Epoch 72/200\n",
      "5501/5501 [==============================] - 2s 371us/step - loss: 1.4940 - accuracy: 0.6930\n",
      "Epoch 73/200\n",
      "5501/5501 [==============================] - 2s 350us/step - loss: 1.4681 - accuracy: 0.6941\n",
      "Epoch 74/200\n",
      "5501/5501 [==============================] - 2s 345us/step - loss: 1.4393 - accuracy: 0.7035\n",
      "Epoch 75/200\n",
      "5501/5501 [==============================] - 2s 364us/step - loss: 1.4168 - accuracy: 0.70700s - loss:\n",
      "Epoch 76/200\n",
      "5501/5501 [==============================] - 2s 371us/step - loss: 1.3869 - accuracy: 0.71190s - loss: 1.3761 - accu\n",
      "Epoch 77/200\n"
     ]
    },
    {
     "name": "stdout",
     "output_type": "stream",
     "text": [
      "5501/5501 [==============================] - 2s 367us/step - loss: 1.3603 - accuracy: 0.7171\n",
      "Epoch 78/200\n",
      "5501/5501 [==============================] - 2s 379us/step - loss: 1.3357 - accuracy: 0.7244\n",
      "Epoch 79/200\n",
      "5501/5501 [==============================] - 2s 340us/step - loss: 1.3085 - accuracy: 0.7335\n",
      "Epoch 80/200\n",
      "5501/5501 [==============================] - 2s 339us/step - loss: 1.2900 - accuracy: 0.7350\n",
      "Epoch 81/200\n",
      "5501/5501 [==============================] - 2s 342us/step - loss: 1.2643 - accuracy: 0.7402\n",
      "Epoch 82/200\n",
      "5501/5501 [==============================] - 2s 342us/step - loss: 1.2364 - accuracy: 0.7450\n",
      "Epoch 83/200\n",
      "5501/5501 [==============================] - 2s 342us/step - loss: 1.2141 - accuracy: 0.7520\n",
      "Epoch 84/200\n",
      "5501/5501 [==============================] - 2s 394us/step - loss: 1.1914 - accuracy: 0.7540\n",
      "Epoch 85/200\n",
      "5501/5501 [==============================] - 2s 377us/step - loss: 1.1688 - accuracy: 0.7610\n",
      "Epoch 86/200\n",
      "5501/5501 [==============================] - 2s 361us/step - loss: 1.1477 - accuracy: 0.7660\n",
      "Epoch 87/200\n",
      "5501/5501 [==============================] - 2s 341us/step - loss: 1.1279 - accuracy: 0.7719\n",
      "Epoch 88/200\n",
      "5501/5501 [==============================] - 2s 341us/step - loss: 1.1069 - accuracy: 0.7724\n",
      "Epoch 89/200\n",
      "5501/5501 [==============================] - 2s 342us/step - loss: 1.0884 - accuracy: 0.7782\n",
      "Epoch 90/200\n",
      "5501/5501 [==============================] - 2s 343us/step - loss: 1.0692 - accuracy: 0.7809\n",
      "Epoch 91/200\n",
      "5501/5501 [==============================] - 2s 343us/step - loss: 1.0470 - accuracy: 0.7859\n",
      "Epoch 92/200\n",
      "5501/5501 [==============================] - 2s 343us/step - loss: 1.0277 - accuracy: 0.7860\n",
      "Epoch 93/200\n",
      "5501/5501 [==============================] - 2s 344us/step - loss: 1.0083 - accuracy: 0.7913\n",
      "Epoch 94/200\n",
      "5501/5501 [==============================] - 2s 343us/step - loss: 0.9920 - accuracy: 0.7944\n",
      "Epoch 95/200\n",
      "5501/5501 [==============================] - 2s 345us/step - loss: 0.9755 - accuracy: 0.7977\n",
      "Epoch 96/200\n",
      "5501/5501 [==============================] - 2s 345us/step - loss: 0.9542 - accuracy: 0.8008\n",
      "Epoch 97/200\n",
      "5501/5501 [==============================] - 2s 346us/step - loss: 0.9415 - accuracy: 0.8040\n",
      "Epoch 98/200\n",
      "5501/5501 [==============================] - 2s 344us/step - loss: 0.9242 - accuracy: 0.8062\n",
      "Epoch 99/200\n",
      "5501/5501 [==============================] - 2s 344us/step - loss: 0.9092 - accuracy: 0.8088\n",
      "Epoch 100/200\n",
      "5501/5501 [==============================] - 2s 346us/step - loss: 0.8914 - accuracy: 0.8122\n",
      "Epoch 101/200\n",
      "5501/5501 [==============================] - 2s 346us/step - loss: 0.8753 - accuracy: 0.8164\n",
      "Epoch 102/200\n",
      "5501/5501 [==============================] - 2s 345us/step - loss: 0.8603 - accuracy: 0.8206\n",
      "Epoch 103/200\n",
      "5501/5501 [==============================] - 2s 359us/step - loss: 0.8447 - accuracy: 0.8239\n",
      "Epoch 104/200\n",
      "5501/5501 [==============================] - 2s 359us/step - loss: 0.8284 - accuracy: 0.8268\n",
      "Epoch 105/200\n",
      "5501/5501 [==============================] - 2s 345us/step - loss: 0.8179 - accuracy: 0.8269\n",
      "Epoch 106/200\n",
      "5501/5501 [==============================] - 2s 345us/step - loss: 0.8027 - accuracy: 0.8317\n",
      "Epoch 107/200\n",
      "5501/5501 [==============================] - 2s 344us/step - loss: 0.7861 - accuracy: 0.8358\n",
      "Epoch 108/200\n",
      "5501/5501 [==============================] - 2s 366us/step - loss: 0.7783 - accuracy: 0.8375\n",
      "Epoch 109/200\n",
      "5501/5501 [==============================] - 2s 400us/step - loss: 0.7618 - accuracy: 0.8402\n",
      "Epoch 110/200\n",
      "5501/5501 [==============================] - 2s 399us/step - loss: 0.7503 - accuracy: 0.8422\n",
      "Epoch 111/200\n",
      "5501/5501 [==============================] - 2s 399us/step - loss: 0.7402 - accuracy: 0.8455\n",
      "Epoch 112/200\n",
      "5501/5501 [==============================] - 2s 399us/step - loss: 0.7314 - accuracy: 0.8469\n",
      "Epoch 113/200\n",
      "5501/5501 [==============================] - 2s 390us/step - loss: 0.7151 - accuracy: 0.8488\n",
      "Epoch 114/200\n",
      "5501/5501 [==============================] - 2s 399us/step - loss: 0.7027 - accuracy: 0.8497\n",
      "Epoch 115/200\n",
      "5501/5501 [==============================] - 2s 371us/step - loss: 0.6907 - accuracy: 0.8537\n",
      "Epoch 116/200\n",
      "5501/5501 [==============================] - 2s 369us/step - loss: 0.6816 - accuracy: 0.8517\n",
      "Epoch 117/200\n",
      "5501/5501 [==============================] - 2s 343us/step - loss: 0.6670 - accuracy: 0.8577\n",
      "Epoch 118/200\n",
      "5501/5501 [==============================] - 2s 344us/step - loss: 0.6572 - accuracy: 0.8557\n",
      "Epoch 119/200\n",
      "5501/5501 [==============================] - 2s 348us/step - loss: 0.6454 - accuracy: 0.8602\n",
      "Epoch 120/200\n",
      "5501/5501 [==============================] - 2s 344us/step - loss: 0.6356 - accuracy: 0.8617\n",
      "Epoch 121/200\n",
      "5501/5501 [==============================] - 2s 344us/step - loss: 0.6269 - accuracy: 0.8633\n",
      "Epoch 122/200\n",
      "5501/5501 [==============================] - 2s 344us/step - loss: 0.6161 - accuracy: 0.8649\n",
      "Epoch 123/200\n",
      "5501/5501 [==============================] - 2s 343us/step - loss: 0.6066 - accuracy: 0.8680\n",
      "Epoch 124/200\n",
      "5501/5501 [==============================] - 2s 344us/step - loss: 0.5980 - accuracy: 0.8691\n",
      "Epoch 125/200\n",
      "5501/5501 [==============================] - 2s 345us/step - loss: 0.5909 - accuracy: 0.8684\n",
      "Epoch 126/200\n",
      "5501/5501 [==============================] - 2s 346us/step - loss: 0.5864 - accuracy: 0.8713\n",
      "Epoch 127/200\n",
      "5501/5501 [==============================] - 2s 345us/step - loss: 0.5820 - accuracy: 0.8706\n",
      "Epoch 128/200\n",
      "5501/5501 [==============================] - 2s 344us/step - loss: 0.5732 - accuracy: 0.8686\n",
      "Epoch 129/200\n",
      "5501/5501 [==============================] - 2s 358us/step - loss: 0.5600 - accuracy: 0.87640s\n",
      "Epoch 130/200\n",
      "5501/5501 [==============================] - 2s 345us/step - loss: 0.5507 - accuracy: 0.8766\n",
      "Epoch 131/200\n",
      "5501/5501 [==============================] - 2s 343us/step - loss: 0.5412 - accuracy: 0.8771\n",
      "Epoch 132/200\n",
      "5501/5501 [==============================] - 2s 344us/step - loss: 0.5309 - accuracy: 0.8789\n",
      "Epoch 133/200\n",
      "5501/5501 [==============================] - 2s 344us/step - loss: 0.5261 - accuracy: 0.8769\n",
      "Epoch 134/200\n",
      "5501/5501 [==============================] - 2s 345us/step - loss: 0.5197 - accuracy: 0.8793\n",
      "Epoch 135/200\n",
      "5501/5501 [==============================] - 2s 345us/step - loss: 0.5122 - accuracy: 0.8818\n",
      "Epoch 136/200\n",
      "5501/5501 [==============================] - 2s 345us/step - loss: 0.5037 - accuracy: 0.8833\n",
      "Epoch 137/200\n",
      "5501/5501 [==============================] - 2s 351us/step - loss: 0.4991 - accuracy: 0.8833\n",
      "Epoch 138/200\n",
      "5501/5501 [==============================] - 2s 345us/step - loss: 0.4936 - accuracy: 0.8847\n",
      "Epoch 139/200\n",
      "5501/5501 [==============================] - 2s 350us/step - loss: 0.4863 - accuracy: 0.8860\n",
      "Epoch 140/200\n",
      "5501/5501 [==============================] - 2s 345us/step - loss: 0.4791 - accuracy: 0.8849\n",
      "Epoch 141/200\n",
      "5501/5501 [==============================] - 2s 345us/step - loss: 0.4747 - accuracy: 0.8869\n",
      "Epoch 142/200\n",
      "5501/5501 [==============================] - 2s 350us/step - loss: 0.4698 - accuracy: 0.8880\n",
      "Epoch 143/200\n",
      "5501/5501 [==============================] - 2s 374us/step - loss: 0.4646 - accuracy: 0.8875\n",
      "Epoch 144/200\n",
      "5501/5501 [==============================] - 2s 373us/step - loss: 0.4596 - accuracy: 0.8886\n",
      "Epoch 145/200\n",
      "5501/5501 [==============================] - 2s 381us/step - loss: 0.4545 - accuracy: 0.88820s -\n",
      "Epoch 146/200\n",
      "5501/5501 [==============================] - 2s 390us/step - loss: 0.4522 - accuracy: 0.8887\n",
      "Epoch 147/200\n",
      "5501/5501 [==============================] - 2s 404us/step - loss: 0.4591 - accuracy: 0.8886\n",
      "Epoch 148/200\n",
      "5501/5501 [==============================] - 2s 423us/step - loss: 0.4543 - accuracy: 0.8877\n",
      "Epoch 149/200\n",
      "5501/5501 [==============================] - 2s 410us/step - loss: 0.4359 - accuracy: 0.8924\n",
      "Epoch 150/200\n",
      "5501/5501 [==============================] - 2s 400us/step - loss: 0.4296 - accuracy: 0.8929\n",
      "Epoch 151/200\n",
      "5501/5501 [==============================] - 2s 396us/step - loss: 0.4259 - accuracy: 0.8920\n",
      "Epoch 152/200\n",
      "5501/5501 [==============================] - 2s 406us/step - loss: 0.4206 - accuracy: 0.8918\n",
      "Epoch 153/200\n"
     ]
    },
    {
     "name": "stdout",
     "output_type": "stream",
     "text": [
      "5501/5501 [==============================] - 2s 386us/step - loss: 0.4179 - accuracy: 0.89240s\n",
      "Epoch 154/200\n",
      "5501/5501 [==============================] - 2s 394us/step - loss: 0.4152 - accuracy: 0.8924\n",
      "Epoch 155/200\n",
      "5501/5501 [==============================] - 2s 393us/step - loss: 0.4104 - accuracy: 0.8926\n",
      "Epoch 156/200\n",
      "5501/5501 [==============================] - 2s 368us/step - loss: 0.4055 - accuracy: 0.89350s - l\n",
      "Epoch 157/200\n",
      "5501/5501 [==============================] - 2s 396us/step - loss: 0.4034 - accuracy: 0.8924\n",
      "Epoch 158/200\n",
      "5501/5501 [==============================] - 2s 399us/step - loss: 0.4001 - accuracy: 0.8933\n",
      "Epoch 159/200\n",
      "5501/5501 [==============================] - 2s 346us/step - loss: 0.3977 - accuracy: 0.8962\n",
      "Epoch 160/200\n",
      "5501/5501 [==============================] - 2s 342us/step - loss: 0.3934 - accuracy: 0.8951\n",
      "Epoch 161/200\n",
      "5501/5501 [==============================] - 2s 340us/step - loss: 0.3907 - accuracy: 0.8926\n",
      "Epoch 162/200\n",
      "5501/5501 [==============================] - 2s 340us/step - loss: 0.3896 - accuracy: 0.8951\n",
      "Epoch 163/200\n",
      "5501/5501 [==============================] - 2s 341us/step - loss: 0.3889 - accuracy: 0.8933\n",
      "Epoch 164/200\n",
      "5501/5501 [==============================] - 2s 341us/step - loss: 0.3843 - accuracy: 0.8938\n",
      "Epoch 165/200\n",
      "5501/5501 [==============================] - 2s 341us/step - loss: 0.3806 - accuracy: 0.8946\n",
      "Epoch 166/200\n",
      "5501/5501 [==============================] - 2s 341us/step - loss: 0.3789 - accuracy: 0.8947\n",
      "Epoch 167/200\n",
      "5501/5501 [==============================] - 2s 340us/step - loss: 0.3744 - accuracy: 0.8962\n",
      "Epoch 168/200\n",
      "5501/5501 [==============================] - 2s 341us/step - loss: 0.3724 - accuracy: 0.8947\n",
      "Epoch 169/200\n",
      "5501/5501 [==============================] - 2s 341us/step - loss: 0.3749 - accuracy: 0.8937\n",
      "Epoch 170/200\n",
      "5501/5501 [==============================] - 2s 342us/step - loss: 0.3922 - accuracy: 0.8926\n",
      "Epoch 171/200\n",
      "5501/5501 [==============================] - 2s 341us/step - loss: 0.3961 - accuracy: 0.8887\n",
      "Epoch 172/200\n",
      "5501/5501 [==============================] - 2s 343us/step - loss: 0.3760 - accuracy: 0.8946\n",
      "Epoch 173/200\n",
      "5501/5501 [==============================] - 2s 341us/step - loss: 0.3638 - accuracy: 0.8955\n",
      "Epoch 174/200\n",
      "5501/5501 [==============================] - 2s 342us/step - loss: 0.3615 - accuracy: 0.8958\n",
      "Epoch 175/200\n",
      "5501/5501 [==============================] - 2s 344us/step - loss: 0.3584 - accuracy: 0.8957\n",
      "Epoch 176/200\n",
      "5501/5501 [==============================] - 2s 350us/step - loss: 0.3575 - accuracy: 0.8942\n",
      "Epoch 177/200\n",
      "5501/5501 [==============================] - 2s 342us/step - loss: 0.3560 - accuracy: 0.8953\n",
      "Epoch 178/200\n",
      "5501/5501 [==============================] - 2s 342us/step - loss: 0.3533 - accuracy: 0.8940\n",
      "Epoch 179/200\n",
      "5501/5501 [==============================] - 2s 341us/step - loss: 0.3537 - accuracy: 0.8935\n",
      "Epoch 180/200\n",
      "5501/5501 [==============================] - 2s 342us/step - loss: 0.3507 - accuracy: 0.8960\n",
      "Epoch 181/200\n",
      "5501/5501 [==============================] - 2s 345us/step - loss: 0.3519 - accuracy: 0.8940\n",
      "Epoch 182/200\n",
      "5501/5501 [==============================] - 2s 342us/step - loss: 0.3485 - accuracy: 0.8953\n",
      "Epoch 183/200\n",
      "5501/5501 [==============================] - 2s 342us/step - loss: 0.3478 - accuracy: 0.8958\n",
      "Epoch 184/200\n",
      "5501/5501 [==============================] - 2s 344us/step - loss: 0.3464 - accuracy: 0.8947\n",
      "Epoch 185/200\n",
      "5501/5501 [==============================] - 2s 343us/step - loss: 0.3459 - accuracy: 0.8957\n",
      "Epoch 186/200\n",
      "5501/5501 [==============================] - 2s 344us/step - loss: 0.3449 - accuracy: 0.8949\n",
      "Epoch 187/200\n",
      "5501/5501 [==============================] - 2s 343us/step - loss: 0.3429 - accuracy: 0.8949\n",
      "Epoch 188/200\n",
      "5501/5501 [==============================] - 2s 343us/step - loss: 0.3421 - accuracy: 0.8955\n",
      "Epoch 189/200\n",
      "5501/5501 [==============================] - 2s 344us/step - loss: 0.3418 - accuracy: 0.8953\n",
      "Epoch 190/200\n",
      "5501/5501 [==============================] - 2s 352us/step - loss: 0.3403 - accuracy: 0.8978\n",
      "Epoch 191/200\n",
      "5501/5501 [==============================] - 2s 344us/step - loss: 0.3387 - accuracy: 0.8942\n",
      "Epoch 192/200\n",
      "5501/5501 [==============================] - 2s 345us/step - loss: 0.3386 - accuracy: 0.8964\n",
      "Epoch 193/200\n",
      "5501/5501 [==============================] - 2s 343us/step - loss: 0.3388 - accuracy: 0.8946\n",
      "Epoch 194/200\n",
      "5501/5501 [==============================] - 2s 344us/step - loss: 0.3413 - accuracy: 0.8960\n",
      "Epoch 195/200\n",
      "5501/5501 [==============================] - 2s 343us/step - loss: 0.3468 - accuracy: 0.8944\n",
      "Epoch 196/200\n",
      "5501/5501 [==============================] - 2s 344us/step - loss: 0.3414 - accuracy: 0.8953\n",
      "Epoch 197/200\n",
      "5501/5501 [==============================] - 2s 345us/step - loss: 0.3360 - accuracy: 0.8949\n",
      "Epoch 198/200\n",
      "5501/5501 [==============================] - 2s 342us/step - loss: 0.3329 - accuracy: 0.8977\n",
      "Epoch 199/200\n",
      "5501/5501 [==============================] - 2s 345us/step - loss: 0.3321 - accuracy: 0.8949\n",
      "Epoch 200/200\n",
      "5501/5501 [==============================] - 2s 343us/step - loss: 0.3315 - accuracy: 0.8942\n"
     ]
    }
   ],
   "source": [
    "history = model.fit(X, y, epochs = 200, verbose = 1)"
   ]
  },
  {
   "cell_type": "markdown",
   "metadata": {},
   "source": [
    "## 3. 모델 검증"
   ]
  },
  {
   "cell_type": "code",
   "execution_count": 22,
   "metadata": {},
   "outputs": [],
   "source": [
    "def sentence_generation(model, t, current_word, n): # 모델, 토크나이저, 현재 단어, 반복할 횟수\n",
    "    init_word = current_word # 처음 들어온 단어도 마지막에 같이 출력하기위해 저장\n",
    "    sentence = ''\n",
    "    for _ in range(n): # n번 반복\n",
    "        encoded = t.texts_to_sequences([current_word])[0] # 현재 단어에 대한 정수 인코딩\n",
    "        encoded = pad_sequences([encoded], maxlen=15, padding='pre') # 데이터에 대한 패딩\n",
    "        result = model.predict_classes(encoded, verbose=0)\n",
    "          # 입력한 X(현재 단어)에 대해서 y를 예측하고 y(예측한 단어)를 result에 저장.\n",
    "        for word, index in t.word_index.items(): \n",
    "            if index == result: # 만약 예측한 단어와 인덱스와 동일한 단어가 있다면\n",
    "                break # 해당 단어가 예측 단어이므로 break\n",
    "        current_word = current_word + ' '  + word # 현재 단어 + ' ' + 예측 단어를 현재 단어로 변경\n",
    "        sentence = sentence + ' ' + word # 예측 단어를 문장에 저장\n",
    "\n",
    "    sentence = init_word + sentence\n",
    "    return sentence"
   ]
  },
  {
   "cell_type": "code",
   "execution_count": 23,
   "metadata": {},
   "outputs": [
    {
     "data": {
      "text/plain": [
       "'What’s Going On in This Picture? | May 1, 2017'"
      ]
     },
     "execution_count": 23,
     "metadata": {},
     "output_type": "execute_result"
    }
   ],
   "source": [
    "headline[10]"
   ]
  },
  {
   "cell_type": "code",
   "execution_count": 24,
   "metadata": {},
   "outputs": [
    {
     "name": "stdout",
     "output_type": "stream",
     "text": [
      "What's pop will the lone wolves\n"
     ]
    }
   ],
   "source": [
    "print(sentence_generation(model, t, \"What's\", 5))"
   ]
  },
  {
   "cell_type": "code",
   "execution_count": null,
   "metadata": {},
   "outputs": [],
   "source": []
  }
 ],
 "metadata": {
  "kernelspec": {
   "display_name": "Python 3",
   "language": "python",
   "name": "python3"
  },
  "language_info": {
   "codemirror_mode": {
    "name": "ipython",
    "version": 3
   },
   "file_extension": ".py",
   "mimetype": "text/x-python",
   "name": "python",
   "nbconvert_exporter": "python",
   "pygments_lexer": "ipython3",
   "version": "3.7.7"
  }
 },
 "nbformat": 4,
 "nbformat_minor": 4
}
