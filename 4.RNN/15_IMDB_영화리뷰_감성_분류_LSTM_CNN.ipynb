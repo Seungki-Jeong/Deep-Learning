{
  "nbformat": 4,
  "nbformat_minor": 0,
  "metadata": {
    "colab": {
      "name": "15_IMDB 영화리뷰 감성 분류-LSTM-CNN",
      "provenance": []
    },
    "kernelspec": {
      "name": "python3",
      "display_name": "Python 3"
    },
    "accelerator": "GPU"
  },
  "cells": [
    {
      "cell_type": "code",
      "metadata": {
        "id": "oKFXMpa5_sHn",
        "colab_type": "code",
        "colab": {
          "base_uri": "https://localhost:8080/",
          "height": 35
        },
        "outputId": "dbe6dc97-1ddd-420d-edf0-058997b80abd"
      },
      "source": [
        "%tensorflow_version 2.x\n",
        "import tensorflow as tf\n",
        "device_name = tf.test.gpu_device_name()\n",
        "if device_name != '/device:GPU:0':\n",
        "  raise SystemError('GPU device not found')\n",
        "print('Found GPU at: {}'.format(device_name))"
      ],
      "execution_count": 2,
      "outputs": [
        {
          "output_type": "stream",
          "text": [
            "Found GPU at: /device:GPU:0\n"
          ],
          "name": "stdout"
        }
      ]
    },
    {
      "cell_type": "markdown",
      "metadata": {
        "id": "d2Q4d9V6_I4R",
        "colab_type": "text"
      },
      "source": [
        "#LSTM과 CNN의 조합을 이용한 IMDB 영화 리뷰 감성 분류\n",
        "* 모든 단어가 아닌 빈도수 5000 까지\n",
        "* 모든 문장이 아니라 100 단어까지\n",
        "* Embedding 벡터는 120 차원"
      ]
    },
    {
      "cell_type": "code",
      "metadata": {
        "id": "POooOdon-iwz",
        "colab_type": "code",
        "colab": {}
      },
      "source": [
        "import numpy as np\n",
        "import matplotlib.pyplot as plt\n",
        "%matplotlib inline\n",
        "from tensorflow.keras.datasets import imdb"
      ],
      "execution_count": 5,
      "outputs": []
    },
    {
      "cell_type": "code",
      "metadata": {
        "id": "fdVAY3xS_Es-",
        "colab_type": "code",
        "colab": {}
      },
      "source": [
        "from tensorflow.keras.models import Sequential\n",
        "from tensorflow.keras.layers import Dense, Dropout, Conv1D\n",
        "from tensorflow.keras.layers import Embedding, LSTM, MaxPooling1D\n",
        "from tensorflow.keras.preprocessing.sequence import pad_sequences"
      ],
      "execution_count": 6,
      "outputs": []
    },
    {
      "cell_type": "code",
      "metadata": {
        "id": "p5VEzPO8_MzQ",
        "colab_type": "code",
        "colab": {
          "base_uri": "https://localhost:8080/",
          "height": 73
        },
        "outputId": "21c80099-44c5-430b-832b-b37e373a8abf"
      },
      "source": [
        "# 등장 빈도가 5,000번째까지의 단어들만 사용\n",
        "(X_train, y_train), (X_test, y_test) = imdb.load_data(num_words=5000)"
      ],
      "execution_count": 7,
      "outputs": [
        {
          "output_type": "stream",
          "text": [
            "Downloading data from https://storage.googleapis.com/tensorflow/tf-keras-datasets/imdb.npz\n",
            "17465344/17464789 [==============================] - 0s 0us/step\n"
          ],
          "name": "stdout"
        }
      ]
    },
    {
      "cell_type": "code",
      "metadata": {
        "id": "cuuwIk_n_N2J",
        "colab_type": "code",
        "colab": {}
      },
      "source": [
        "# 모델의 입력으로 사용하는 모든 리뷰의 길이를 동일하게 100으로 맞춤\n",
        "max_len=100\n",
        "X_train = pad_sequences(X_train, maxlen=max_len)\n",
        "X_test = pad_sequences(X_test, maxlen=max_len)"
      ],
      "execution_count": 8,
      "outputs": []
    },
    {
      "cell_type": "code",
      "metadata": {
        "id": "-jOUSqRV_PHR",
        "colab_type": "code",
        "colab": {
          "base_uri": "https://localhost:8080/",
          "height": 377
        },
        "outputId": "770e8e0b-abe4-40c2-9343-3758b5f63a27"
      },
      "source": [
        "# LSTM, CNN 모델\n",
        "model = Sequential()\n",
        "model.add(Embedding(5000, 120))\n",
        "model.add(Dropout(0.5)) \n",
        "model.add(Conv1D(64, 5, padding='valid', activation='relu', strides=1))\n",
        "model.add(MaxPooling1D(pool_size=4))\n",
        "model.add(LSTM(55))\n",
        "model.add(Dense(1, activation='sigmoid'))\n",
        "model.summary()"
      ],
      "execution_count": 9,
      "outputs": [
        {
          "output_type": "stream",
          "text": [
            "Model: \"sequential\"\n",
            "_________________________________________________________________\n",
            "Layer (type)                 Output Shape              Param #   \n",
            "=================================================================\n",
            "embedding (Embedding)        (None, None, 120)         600000    \n",
            "_________________________________________________________________\n",
            "dropout (Dropout)            (None, None, 120)         0         \n",
            "_________________________________________________________________\n",
            "conv1d (Conv1D)              (None, None, 64)          38464     \n",
            "_________________________________________________________________\n",
            "max_pooling1d (MaxPooling1D) (None, None, 64)          0         \n",
            "_________________________________________________________________\n",
            "lstm (LSTM)                  (None, 55)                26400     \n",
            "_________________________________________________________________\n",
            "dense (Dense)                (None, 1)                 56        \n",
            "=================================================================\n",
            "Total params: 664,920\n",
            "Trainable params: 664,920\n",
            "Non-trainable params: 0\n",
            "_________________________________________________________________\n"
          ],
          "name": "stdout"
        }
      ]
    },
    {
      "cell_type": "code",
      "metadata": {
        "id": "ZW5-eq3P_P-A",
        "colab_type": "code",
        "colab": {}
      },
      "source": [
        "# 모델의 컴파일\n",
        "model.compile(loss='binary_crossentropy',\n",
        "              optimizer='adam',\n",
        "              metrics=['accuracy'])"
      ],
      "execution_count": 10,
      "outputs": []
    },
    {
      "cell_type": "code",
      "metadata": {
        "id": "pN9HMu4s_RYA",
        "colab_type": "code",
        "colab": {}
      },
      "source": [
        "from tensorflow.keras.callbacks import ModelCheckpoint\n",
        "modelpath = \"model/imdb-lstm-cnn-{epoch:02d}-{val_loss:.4f}.hdf5\"\n",
        "checkpointer = ModelCheckpoint(filepath=modelpath, monitor='val_loss', \n",
        "                               verbose=1, save_best_only=True)"
      ],
      "execution_count": 11,
      "outputs": []
    },
    {
      "cell_type": "code",
      "metadata": {
        "id": "2WFnY95yAgj6",
        "colab_type": "code",
        "colab": {
          "base_uri": "https://localhost:8080/",
          "height": 35
        },
        "outputId": "7291f75b-d785-4a95-83f5-1f50bde0f6ce"
      },
      "source": [
        "!mkdir model"
      ],
      "execution_count": 12,
      "outputs": [
        {
          "output_type": "stream",
          "text": [
            "mkdir: cannot create directory ‘model’: File exists\n"
          ],
          "name": "stdout"
        }
      ]
    },
    {
      "cell_type": "code",
      "metadata": {
        "id": "2M9COF9r_SSw",
        "colab_type": "code",
        "colab": {
          "base_uri": "https://localhost:8080/",
          "height": 737
        },
        "outputId": "215cf7a7-ab4f-4bfb-a4b3-e49171e26d1c"
      },
      "source": [
        "history = model.fit(X_train, y_train, validation_data=(X_test, y_test), epochs=10,\n",
        "                    batch_size=64, callbacks=[checkpointer], verbose = 1)"
      ],
      "execution_count": 13,
      "outputs": [
        {
          "output_type": "stream",
          "text": [
            "Epoch 1/10\n",
            "391/391 [==============================] - ETA: 0s - loss: 0.4260 - accuracy: 0.7871\n",
            "Epoch 00001: val_loss improved from inf to 0.32724, saving model to model/imdb-lstm-cnn-01-0.3272.hdf5\n",
            "391/391 [==============================] - 11s 27ms/step - loss: 0.4260 - accuracy: 0.7871 - val_loss: 0.3272 - val_accuracy: 0.8565\n",
            "Epoch 2/10\n",
            "391/391 [==============================] - ETA: 0s - loss: 0.2824 - accuracy: 0.8820\n",
            "Epoch 00002: val_loss improved from 0.32724 to 0.32127, saving model to model/imdb-lstm-cnn-02-0.3213.hdf5\n",
            "391/391 [==============================] - 10s 25ms/step - loss: 0.2824 - accuracy: 0.8820 - val_loss: 0.3213 - val_accuracy: 0.8595\n",
            "Epoch 3/10\n",
            "390/391 [============================>.] - ETA: 0s - loss: 0.2334 - accuracy: 0.9076\n",
            "Epoch 00003: val_loss did not improve from 0.32127\n",
            "391/391 [==============================] - 10s 25ms/step - loss: 0.2335 - accuracy: 0.9076 - val_loss: 0.3305 - val_accuracy: 0.8584\n",
            "Epoch 4/10\n",
            "391/391 [==============================] - ETA: 0s - loss: 0.1922 - accuracy: 0.9262\n",
            "Epoch 00004: val_loss did not improve from 0.32127\n",
            "391/391 [==============================] - 9s 24ms/step - loss: 0.1922 - accuracy: 0.9262 - val_loss: 0.3465 - val_accuracy: 0.8567\n",
            "Epoch 5/10\n",
            "391/391 [==============================] - ETA: 0s - loss: 0.1554 - accuracy: 0.9412\n",
            "Epoch 00005: val_loss did not improve from 0.32127\n",
            "391/391 [==============================] - 10s 25ms/step - loss: 0.1554 - accuracy: 0.9412 - val_loss: 0.3840 - val_accuracy: 0.8524\n",
            "Epoch 6/10\n",
            "391/391 [==============================] - ETA: 0s - loss: 0.1204 - accuracy: 0.9550\n",
            "Epoch 00006: val_loss did not improve from 0.32127\n",
            "391/391 [==============================] - 10s 26ms/step - loss: 0.1204 - accuracy: 0.9550 - val_loss: 0.4358 - val_accuracy: 0.8452\n",
            "Epoch 7/10\n",
            "389/391 [============================>.] - ETA: 0s - loss: 0.0993 - accuracy: 0.9655\n",
            "Epoch 00007: val_loss did not improve from 0.32127\n",
            "391/391 [==============================] - 10s 26ms/step - loss: 0.0992 - accuracy: 0.9656 - val_loss: 0.4564 - val_accuracy: 0.8422\n",
            "Epoch 8/10\n",
            "389/391 [============================>.] - ETA: 0s - loss: 0.0811 - accuracy: 0.9718\n",
            "Epoch 00008: val_loss did not improve from 0.32127\n",
            "391/391 [==============================] - 10s 26ms/step - loss: 0.0815 - accuracy: 0.9718 - val_loss: 0.5059 - val_accuracy: 0.8421\n",
            "Epoch 9/10\n",
            "389/391 [============================>.] - ETA: 0s - loss: 0.0666 - accuracy: 0.9762\n",
            "Epoch 00009: val_loss did not improve from 0.32127\n",
            "391/391 [==============================] - 10s 26ms/step - loss: 0.0664 - accuracy: 0.9763 - val_loss: 0.5965 - val_accuracy: 0.8417\n",
            "Epoch 10/10\n",
            "391/391 [==============================] - ETA: 0s - loss: 0.0581 - accuracy: 0.9797\n",
            "Epoch 00010: val_loss did not improve from 0.32127\n",
            "391/391 [==============================] - 10s 26ms/step - loss: 0.0581 - accuracy: 0.9797 - val_loss: 0.5974 - val_accuracy: 0.8424\n"
          ],
          "name": "stdout"
        }
      ]
    },
    {
      "cell_type": "code",
      "metadata": {
        "id": "wltqh5IR_bNR",
        "colab_type": "code",
        "colab": {}
      },
      "source": [
        "# Best Model 선택\n",
        "from tensorflow.keras.models import load_model\n",
        "# del model\n",
        "model = load_model('model/imdb-lstm-cnn-02-0.3213.hdf5')"
      ],
      "execution_count": 14,
      "outputs": []
    },
    {
      "cell_type": "code",
      "metadata": {
        "id": "4f8WXWBt_eqx",
        "colab_type": "code",
        "colab": {
          "base_uri": "https://localhost:8080/",
          "height": 71
        },
        "outputId": "0458c59d-23b7-4b82-d402-bf8f74eb2046"
      },
      "source": [
        "print(\"\\n 테스트 정확도: %.4f\" % (model.evaluate(X_test, y_test, verbose=2)[1]))"
      ],
      "execution_count": 15,
      "outputs": [
        {
          "output_type": "stream",
          "text": [
            "782/782 - 4s - loss: 0.3213 - accuracy: 0.8595\n",
            "\n",
            " 테스트 정확도: 0.8595\n"
          ],
          "name": "stdout"
        }
      ]
    },
    {
      "cell_type": "code",
      "metadata": {
        "id": "5s_pKQDPA_qa",
        "colab_type": "code",
        "colab": {}
      },
      "source": [
        "# 테스트셋\n",
        "y_vloss = history.history['val_loss']\n",
        "y_vacc = history.history['val_accuracy']\n",
        "# 학습셋\n",
        "y_loss = history.history['loss']\n",
        "y_acc = history.history['accuracy']"
      ],
      "execution_count": 16,
      "outputs": []
    },
    {
      "cell_type": "code",
      "metadata": {
        "id": "8jk4um-2BBEp",
        "colab_type": "code",
        "colab": {
          "base_uri": "https://localhost:8080/",
          "height": 497
        },
        "outputId": "42a2d106-62ed-4410-b317-640c7f141745"
      },
      "source": [
        "x_len = np.arange(1, len(y_loss)+1)\n",
        "fig, ax0 = plt.subplots(figsize=(10,8))\n",
        "ax1 = ax0.twinx()\n",
        "ax0.plot(x_len, y_loss, c=\"blue\", label='Trainset_loss')\n",
        "ax0.plot(x_len, y_vloss, c=\"red\", label='Testset_loss')\n",
        "ax0.set_ylabel('loss')\n",
        "ax1.plot(x_len, y_acc, c=\"darkgreen\", label='Trainset_acc')\n",
        "ax1.plot(x_len, y_vacc, c=\"magenta\", label='Testset_acc')\n",
        "ax1.set_ylabel('accuracy')\n",
        "ax0.set_xlabel('epoch')\n",
        "ax0.legend(loc='lower center')\n",
        "ax1.legend(loc='upper center')\n",
        "plt.grid()\n",
        "plt.show()"
      ],
      "execution_count": 17,
      "outputs": [
        {
          "output_type": "display_data",
          "data": {
            "image/png": "[encoded data removed]",
            "text/plain": [
              "<Figure size 720x576 with 2 Axes>"
            ]
          },
          "metadata": {
            "tags": [],
            "needs_background": "light"
          }
        }
      ]
    },
    {
      "cell_type": "code",
      "metadata": {
        "id": "k_amWy_JBUP4",
        "colab_type": "code",
        "colab": {}
      },
      "source": [
        ""
      ],
      "execution_count": null,
      "outputs": []
    }
  ]
}