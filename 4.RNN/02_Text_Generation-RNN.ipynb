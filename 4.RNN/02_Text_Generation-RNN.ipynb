{
 "cells": [
  {
   "cell_type": "markdown",
   "metadata": {},
   "source": [
    "# RNN을 이용한 텍스트 생성\n",
    "* '경마장에 있는 말이 뛰고 있다'\n",
    "* '그의 말이 법이다'\n",
    "* '가는 말이 고와야 오는 말이 곱다'"
   ]
  },
  {
   "cell_type": "markdown",
   "metadata": {},
   "source": [
    "## 1. 데이터 전처리\n",
    "* Text -> *숫자형 -> RNN\n",
    "* Bag of Words / n-그램 / Embedding 되돌아보기.\n",
    "* one-hot-encoding은 자원소모가 커서 *Embedding을 보통 쓰임\n",
    "* 입력 형태가 1~n으로 개수가 자꾸 달라지는데 반해 출력은 1개 -> 3개를 맞추기 위해\n",
    "* padding을 사용\n",
    "* 가는 -> 말이 =(padding)=> [] [] 가는 -> 말이\n",
    "* 가는 말이 -> 고와야 =(padding)=> [] 가는 말이 -> 고와야"
   ]
  },
  {
   "cell_type": "code",
   "execution_count": 1,
   "metadata": {},
   "outputs": [
    {
     "name": "stderr",
     "output_type": "stream",
     "text": [
      "Using TensorFlow backend.\n"
     ]
    }
   ],
   "source": [
    "import numpy as np\n",
    "from tensorflow import keras\n",
    "from keras.preprocessing.text import Tokenizer\n",
    "from keras.preprocessing.sequence import pad_sequences\n",
    "from keras.utils import to_categorical"
   ]
  },
  {
   "cell_type": "code",
   "execution_count": 2,
   "metadata": {},
   "outputs": [],
   "source": [
    "seed = 2020\n",
    "np.random.seed(seed)"
   ]
  },
  {
   "cell_type": "code",
   "execution_count": 3,
   "metadata": {},
   "outputs": [],
   "source": [
    "# 3개의 문장을 변수에 저장\n",
    "text=\"\"\"경마장에 있는 말이 뛰고 있다\\n\n",
    "그의 말이 법이다\\n\n",
    "가는 말이 고와야 오는 말이 곱다\\n\"\"\""
   ]
  },
  {
   "cell_type": "code",
   "execution_count": 4,
   "metadata": {},
   "outputs": [],
   "source": [
    "# 단어 집합 생성\n",
    "t = Tokenizer()\n",
    "t.fit_on_texts([text])"
   ]
  },
  {
   "cell_type": "code",
   "execution_count": 5,
   "metadata": {
    "scrolled": true
   },
   "outputs": [
    {
     "data": {
      "text/plain": [
       "['__class__',\n",
       " '__delattr__',\n",
       " '__dict__',\n",
       " '__dir__',\n",
       " '__doc__',\n",
       " '__eq__',\n",
       " '__format__',\n",
       " '__ge__',\n",
       " '__getattribute__',\n",
       " '__gt__',\n",
       " '__hash__',\n",
       " '__init__',\n",
       " '__init_subclass__',\n",
       " '__le__',\n",
       " '__lt__',\n",
       " '__module__',\n",
       " '__ne__',\n",
       " '__new__',\n",
       " '__reduce__',\n",
       " '__reduce_ex__',\n",
       " '__repr__',\n",
       " '__setattr__',\n",
       " '__sizeof__',\n",
       " '__str__',\n",
       " '__subclasshook__',\n",
       " '__weakref__',\n",
       " '_keras_api_names',\n",
       " '_keras_api_names_v1',\n",
       " 'char_level',\n",
       " 'document_count',\n",
       " 'filters',\n",
       " 'fit_on_sequences',\n",
       " 'fit_on_texts',\n",
       " 'get_config',\n",
       " 'index_docs',\n",
       " 'index_word',\n",
       " 'lower',\n",
       " 'num_words',\n",
       " 'oov_token',\n",
       " 'sequences_to_matrix',\n",
       " 'sequences_to_texts',\n",
       " 'sequences_to_texts_generator',\n",
       " 'split',\n",
       " 'texts_to_matrix',\n",
       " 'texts_to_sequences',\n",
       " 'texts_to_sequences_generator',\n",
       " 'to_json',\n",
       " 'word_counts',\n",
       " 'word_docs',\n",
       " 'word_index']"
      ]
     },
     "execution_count": 5,
     "metadata": {},
     "output_type": "execute_result"
    }
   ],
   "source": [
    "# 객체 t에서 사용 가능한 method 및 attribute\n",
    "dir(t)"
   ]
  },
  {
   "cell_type": "code",
   "execution_count": 6,
   "metadata": {
    "scrolled": true
   },
   "outputs": [
    {
     "data": {
      "text/plain": [
       "{'말이': 1,\n",
       " '경마장에': 2,\n",
       " '있는': 3,\n",
       " '뛰고': 4,\n",
       " '있다': 5,\n",
       " '그의': 6,\n",
       " '법이다': 7,\n",
       " '가는': 8,\n",
       " '고와야': 9,\n",
       " '오는': 10,\n",
       " '곱다': 11}"
      ]
     },
     "execution_count": 6,
     "metadata": {},
     "output_type": "execute_result"
    }
   ],
   "source": [
    "t.word_index"
   ]
  },
  {
   "cell_type": "code",
   "execution_count": 7,
   "metadata": {},
   "outputs": [
    {
     "name": "stdout",
     "output_type": "stream",
     "text": [
      "단어 집합의 크기 : 12\n"
     ]
    }
   ],
   "source": [
    "# 단어 집합 크기 설정\n",
    "vocab_size = len(t.word_index) + 1\n",
    "# 케라스 토크나이저의 정수 인코딩은 인덱스가 1부터 시작하지만,\n",
    "# 케라스 원-핫 인코딩에서 배열의 인덱스가 0부터 시작하기 때문에\n",
    "# 배열의 크기를 실제 단어 집합의 크기보다 +1로 생성해야함 \n",
    "print('단어 집합의 크기 : %d' % vocab_size)"
   ]
  },
  {
   "cell_type": "code",
   "execution_count": 8,
   "metadata": {},
   "outputs": [
    {
     "data": {
      "text/plain": [
       "[[6, 1, 7]]"
      ]
     },
     "execution_count": 8,
     "metadata": {},
     "output_type": "execute_result"
    }
   ],
   "source": [
    "t.texts_to_sequences(['그의 말이 법이다'])"
   ]
  },
  {
   "cell_type": "code",
   "execution_count": 9,
   "metadata": {},
   "outputs": [
    {
     "name": "stdout",
     "output_type": "stream",
     "text": [
      "학습에 사용할 샘플의 개수: 11\n"
     ]
    }
   ],
   "source": [
    "sequences = []\n",
    "for line in text.split('\\n'): # \\n을 기준으로 문장 토큰화\n",
    "    encoded = t.texts_to_sequences([line])[0] # [[6, 1, 7]] -> [6, 1, 7]\n",
    "    for i in range(1, len(encoded)):\n",
    "        sequence = encoded[:i+1]\n",
    "        sequences.append(sequence)\n",
    "\n",
    "print('학습에 사용할 샘플의 개수: %d' % len(sequences))"
   ]
  },
  {
   "cell_type": "code",
   "execution_count": 10,
   "metadata": {},
   "outputs": [
    {
     "data": {
      "text/plain": [
       "[[2, 3],\n",
       " [2, 3, 1],\n",
       " [2, 3, 1, 4],\n",
       " [2, 3, 1, 4, 5],\n",
       " [6, 1],\n",
       " [6, 1, 7],\n",
       " [8, 1],\n",
       " [8, 1, 9],\n",
       " [8, 1, 9, 10],\n",
       " [8, 1, 9, 10, 1],\n",
       " [8, 1, 9, 10, 1, 11]]"
      ]
     },
     "execution_count": 10,
     "metadata": {},
     "output_type": "execute_result"
    }
   ],
   "source": [
    "# 2: 경마장에 3: 있는\n",
    "# 2: 경마장에 3: 있는 1: 말이\n",
    "# 2: 경마장에 3: 있는 1: 말이 4: 뛰고\n",
    "# ....\n",
    "sequences"
   ]
  },
  {
   "cell_type": "code",
   "execution_count": 11,
   "metadata": {},
   "outputs": [
    {
     "name": "stdout",
     "output_type": "stream",
     "text": [
      "샘플의 최대 길이 : 6\n"
     ]
    }
   ],
   "source": [
    "# 모든 샘플에서 길이가 가장 긴 샘플의 길이 출력\n",
    "max_len = max(len(s) for s in sequences) \n",
    "print('샘플의 최대 길이 :', max_len)"
   ]
  },
  {
   "cell_type": "code",
   "execution_count": 12,
   "metadata": {},
   "outputs": [],
   "source": [
    "# 전체 샘플의 길이를 6(가장 긴 샘플의 길이)으로 패딩\n",
    "# *'pre' 옵션을 주면 앞을 0으로 패딩*\n",
    "sequences = pad_sequences(sequences, maxlen=max_len, padding='pre')"
   ]
  },
  {
   "cell_type": "code",
   "execution_count": 13,
   "metadata": {},
   "outputs": [
    {
     "data": {
      "text/plain": [
       "array([[0, 0, 0, 0, 2, 3],\n",
       "       [0, 0, 0, 2, 3, 1],\n",
       "       [0, 0, 2, 3, 1, 4],\n",
       "       [0, 2, 3, 1, 4, 5],\n",
       "       [0, 0, 0, 0, 6, 1]])"
      ]
     },
     "execution_count": 13,
     "metadata": {},
     "output_type": "execute_result"
    }
   ],
   "source": [
    "sequences[:5]"
   ]
  },
  {
   "cell_type": "code",
   "execution_count": 14,
   "metadata": {},
   "outputs": [],
   "source": [
    "# 각 샘플의 마지막 단어를 레이블로 분리\n",
    "X = sequences[:,:-1]\n",
    "y = sequences[:,-1]\n",
    "# 리스트의 마지막 값을 제외하고 저장한 것은 X\n",
    "# 리스트의 마지막 값만 저장한 것은 y. 이는 레이블에 해당됨."
   ]
  },
  {
   "cell_type": "code",
   "execution_count": 15,
   "metadata": {},
   "outputs": [
    {
     "data": {
      "text/plain": [
       "array([[0, 0, 0, 0, 2],\n",
       "       [0, 0, 0, 2, 3],\n",
       "       [0, 0, 2, 3, 1],\n",
       "       [0, 2, 3, 1, 4],\n",
       "       [0, 0, 0, 0, 6]])"
      ]
     },
     "execution_count": 15,
     "metadata": {},
     "output_type": "execute_result"
    }
   ],
   "source": [
    "X[:5]"
   ]
  },
  {
   "cell_type": "code",
   "execution_count": 16,
   "metadata": {},
   "outputs": [],
   "source": [
    "# 레이블 데이터 y에 대해서 원-핫 인코딩을 수행\n",
    "y = to_categorical(y, num_classes=vocab_size)"
   ]
  },
  {
   "cell_type": "code",
   "execution_count": 17,
   "metadata": {},
   "outputs": [
    {
     "data": {
      "text/plain": [
       "array([[0., 0., 0., 1., 0., 0., 0., 0., 0., 0., 0., 0.],\n",
       "       [0., 1., 0., 0., 0., 0., 0., 0., 0., 0., 0., 0.],\n",
       "       [0., 0., 0., 0., 1., 0., 0., 0., 0., 0., 0., 0.],\n",
       "       [0., 0., 0., 0., 0., 1., 0., 0., 0., 0., 0., 0.],\n",
       "       [0., 1., 0., 0., 0., 0., 0., 0., 0., 0., 0., 0.],\n",
       "       [0., 0., 0., 0., 0., 0., 0., 1., 0., 0., 0., 0.],\n",
       "       [0., 1., 0., 0., 0., 0., 0., 0., 0., 0., 0., 0.],\n",
       "       [0., 0., 0., 0., 0., 0., 0., 0., 0., 1., 0., 0.],\n",
       "       [0., 0., 0., 0., 0., 0., 0., 0., 0., 0., 1., 0.],\n",
       "       [0., 1., 0., 0., 0., 0., 0., 0., 0., 0., 0., 0.],\n",
       "       [0., 0., 0., 0., 0., 0., 0., 0., 0., 0., 0., 1.]], dtype=float32)"
      ]
     },
     "execution_count": 17,
     "metadata": {},
     "output_type": "execute_result"
    }
   ],
   "source": [
    "y"
   ]
  },
  {
   "cell_type": "markdown",
   "metadata": {},
   "source": [
    "## 2. 모델 설계 및 학습"
   ]
  },
  {
   "cell_type": "code",
   "execution_count": 18,
   "metadata": {},
   "outputs": [],
   "source": [
    "from keras.models import Sequential\n",
    "from keras.layers import Embedding, Dense, SimpleRNN"
   ]
  },
  {
   "cell_type": "code",
   "execution_count": 19,
   "metadata": {},
   "outputs": [],
   "source": [
    "# 각 단어의 임베딩 벡터는 10차원, 은닉 상태 크기는 32\n",
    "# 현재 임베딩 최적 사이즈는 5\n",
    "embedding = Embedding(vocab_size, 5, input_length=max_len-1) # 레이블을 분리하였으므로 X의 길이는 5\n",
    "rnn = SimpleRNN(32)\n",
    "output = Dense(vocab_size, activation='softmax')"
   ]
  },
  {
   "cell_type": "code",
   "execution_count": 20,
   "metadata": {},
   "outputs": [
    {
     "name": "stdout",
     "output_type": "stream",
     "text": [
      "Model: \"sequential_1\"\n",
      "_________________________________________________________________\n",
      "Layer (type)                 Output Shape              Param #   \n",
      "=================================================================\n",
      "embedding_1 (Embedding)      (None, 5, 5)              60        \n",
      "_________________________________________________________________\n",
      "simple_rnn_1 (SimpleRNN)     (None, 32)                1216      \n",
      "_________________________________________________________________\n",
      "dense_1 (Dense)              (None, 12)                396       \n",
      "=================================================================\n",
      "Total params: 1,672\n",
      "Trainable params: 1,672\n",
      "Non-trainable params: 0\n",
      "_________________________________________________________________\n"
     ]
    }
   ],
   "source": [
    "# label Encoding 1 ~ 11\n",
    "# Embedding 10\n",
    "# RNN 32\n",
    "# Dense 12\n",
    "model = Sequential()\n",
    "model.add(embedding)\n",
    "model.add(rnn)\n",
    "model.add(output)\n",
    "model.summary()"
   ]
  },
  {
   "cell_type": "code",
   "execution_count": 21,
   "metadata": {},
   "outputs": [],
   "source": [
    "model.compile(loss='categorical_crossentropy', \n",
    "              optimizer='adam', metrics=['accuracy'])"
   ]
  },
  {
   "cell_type": "code",
   "execution_count": 22,
   "metadata": {},
   "outputs": [
    {
     "name": "stderr",
     "output_type": "stream",
     "text": [
      "C:\\Users\\14\\.conda\\envs\\tf2\\lib\\site-packages\\tensorflow_core\\python\\framework\\indexed_slices.py:433: UserWarning: Converting sparse IndexedSlices to a dense Tensor of unknown shape. This may consume a large amount of memory.\n",
      "  \"Converting sparse IndexedSlices to a dense Tensor of unknown shape. \"\n"
     ]
    },
    {
     "name": "stdout",
     "output_type": "stream",
     "text": [
      "Epoch 1/200\n",
      "11/11 [==============================] - 0s 13ms/step - loss: 2.4769 - accuracy: 0.0000e+00\n",
      "Epoch 2/200\n",
      "11/11 [==============================] - 0s 181us/step - loss: 2.4705 - accuracy: 0.0000e+00\n",
      "Epoch 3/200\n",
      "11/11 [==============================] - 0s 182us/step - loss: 2.4630 - accuracy: 0.0000e+00\n",
      "Epoch 4/200\n",
      "11/11 [==============================] - 0s 91us/step - loss: 2.4550 - accuracy: 0.0909\n",
      "Epoch 5/200\n",
      "11/11 [==============================] - 0s 181us/step - loss: 2.4464 - accuracy: 0.2727\n",
      "Epoch 6/200\n",
      "11/11 [==============================] - 0s 272us/step - loss: 2.4374 - accuracy: 0.2727\n",
      "Epoch 7/200\n",
      "11/11 [==============================] - 0s 181us/step - loss: 2.4275 - accuracy: 0.3636\n",
      "Epoch 8/200\n",
      "11/11 [==============================] - 0s 181us/step - loss: 2.4172 - accuracy: 0.3636\n",
      "Epoch 9/200\n",
      "11/11 [==============================] - 0s 181us/step - loss: 2.4066 - accuracy: 0.4545\n",
      "Epoch 10/200\n",
      "11/11 [==============================] - 0s 91us/step - loss: 2.3953 - accuracy: 0.4545\n",
      "Epoch 11/200\n",
      "11/11 [==============================] - 0s 181us/step - loss: 2.3833 - accuracy: 0.4545\n",
      "Epoch 12/200\n",
      "11/11 [==============================] - 0s 181us/step - loss: 2.3705 - accuracy: 0.4545\n",
      "Epoch 13/200\n",
      "11/11 [==============================] - 0s 181us/step - loss: 2.3569 - accuracy: 0.4545\n",
      "Epoch 14/200\n",
      "11/11 [==============================] - 0s 181us/step - loss: 2.3423 - accuracy: 0.4545\n",
      "Epoch 15/200\n",
      "11/11 [==============================] - 0s 181us/step - loss: 2.3269 - accuracy: 0.4545\n",
      "Epoch 16/200\n",
      "11/11 [==============================] - 0s 181us/step - loss: 2.3105 - accuracy: 0.4545\n",
      "Epoch 17/200\n",
      "11/11 [==============================] - 0s 91us/step - loss: 2.2931 - accuracy: 0.4545\n",
      "Epoch 18/200\n",
      "11/11 [==============================] - 0s 181us/step - loss: 2.2744 - accuracy: 0.3636\n",
      "Epoch 19/200\n",
      "11/11 [==============================] - 0s 179us/step - loss: 2.2549 - accuracy: 0.3636\n",
      "Epoch 20/200\n",
      "11/11 [==============================] - 0s 181us/step - loss: 2.2340 - accuracy: 0.3636\n",
      "Epoch 21/200\n",
      "11/11 [==============================] - 0s 181us/step - loss: 2.2122 - accuracy: 0.3636\n",
      "Epoch 22/200\n",
      "11/11 [==============================] - 0s 181us/step - loss: 2.1892 - accuracy: 0.3636\n",
      "Epoch 23/200\n",
      "11/11 [==============================] - 0s 181us/step - loss: 2.1652 - accuracy: 0.3636\n",
      "Epoch 24/200\n",
      "11/11 [==============================] - 0s 181us/step - loss: 2.1403 - accuracy: 0.3636\n",
      "Epoch 25/200\n",
      "11/11 [==============================] - 0s 89us/step - loss: 2.1148 - accuracy: 0.3636\n",
      "Epoch 26/200\n",
      "11/11 [==============================] - 0s 181us/step - loss: 2.0889 - accuracy: 0.3636\n",
      "Epoch 27/200\n",
      "11/11 [==============================] - 0s 181us/step - loss: 2.0628 - accuracy: 0.3636\n",
      "Epoch 28/200\n",
      "11/11 [==============================] - 0s 91us/step - loss: 2.0373 - accuracy: 0.3636\n",
      "Epoch 29/200\n",
      "11/11 [==============================] - 0s 272us/step - loss: 2.0122 - accuracy: 0.3636\n",
      "Epoch 30/200\n",
      "11/11 [==============================] - 0s 182us/step - loss: 1.9881 - accuracy: 0.3636\n",
      "Epoch 31/200\n",
      "11/11 [==============================] - 0s 91us/step - loss: 1.9655 - accuracy: 0.3636\n",
      "Epoch 32/200\n",
      "11/11 [==============================] - 0s 180us/step - loss: 1.9447 - accuracy: 0.3636\n",
      "Epoch 33/200\n",
      "11/11 [==============================] - 0s 181us/step - loss: 1.9258 - accuracy: 0.3636\n",
      "Epoch 34/200\n",
      "11/11 [==============================] - 0s 91us/step - loss: 1.9089 - accuracy: 0.3636\n",
      "Epoch 35/200\n",
      "11/11 [==============================] - 0s 90us/step - loss: 1.8940 - accuracy: 0.3636\n",
      "Epoch 36/200\n",
      "11/11 [==============================] - 0s 181us/step - loss: 1.8803 - accuracy: 0.3636\n",
      "Epoch 37/200\n",
      "11/11 [==============================] - 0s 91us/step - loss: 1.8674 - accuracy: 0.3636\n",
      "Epoch 38/200\n",
      "11/11 [==============================] - 0s 181us/step - loss: 1.8549 - accuracy: 0.3636\n",
      "Epoch 39/200\n",
      "11/11 [==============================] - 0s 181us/step - loss: 1.8423 - accuracy: 0.3636\n",
      "Epoch 40/200\n",
      "11/11 [==============================] - 0s 91us/step - loss: 1.8291 - accuracy: 0.3636\n",
      "Epoch 41/200\n",
      "11/11 [==============================] - 0s 92us/step - loss: 1.8153 - accuracy: 0.3636\n",
      "Epoch 42/200\n",
      "11/11 [==============================] - 0s 181us/step - loss: 1.8008 - accuracy: 0.3636\n",
      "Epoch 43/200\n",
      "11/11 [==============================] - 0s 181us/step - loss: 1.7857 - accuracy: 0.3636\n",
      "Epoch 44/200\n",
      "11/11 [==============================] - 0s 91us/step - loss: 1.7703 - accuracy: 0.3636\n",
      "Epoch 45/200\n",
      "11/11 [==============================] - 0s 181us/step - loss: 1.7545 - accuracy: 0.3636\n",
      "Epoch 46/200\n",
      "11/11 [==============================] - 0s 181us/step - loss: 1.7386 - accuracy: 0.4545\n",
      "Epoch 47/200\n",
      "11/11 [==============================] - 0s 181us/step - loss: 1.7227 - accuracy: 0.4545\n",
      "Epoch 48/200\n",
      "11/11 [==============================] - 0s 181us/step - loss: 1.7070 - accuracy: 0.4545\n",
      "Epoch 49/200\n",
      "11/11 [==============================] - 0s 181us/step - loss: 1.6913 - accuracy: 0.4545\n",
      "Epoch 50/200\n",
      "11/11 [==============================] - 0s 181us/step - loss: 1.6757 - accuracy: 0.4545\n",
      "Epoch 51/200\n",
      "11/11 [==============================] - 0s 180us/step - loss: 1.6600 - accuracy: 0.4545\n",
      "Epoch 52/200\n",
      "11/11 [==============================] - 0s 91us/step - loss: 1.6441 - accuracy: 0.4545\n",
      "Epoch 53/200\n",
      "11/11 [==============================] - 0s 181us/step - loss: 1.6279 - accuracy: 0.4545\n",
      "Epoch 54/200\n",
      "11/11 [==============================] - 0s 91us/step - loss: 1.6112 - accuracy: 0.4545\n",
      "Epoch 55/200\n",
      "11/11 [==============================] - 0s 181us/step - loss: 1.5940 - accuracy: 0.4545\n",
      "Epoch 56/200\n",
      "11/11 [==============================] - 0s 181us/step - loss: 1.5763 - accuracy: 0.4545\n",
      "Epoch 57/200\n",
      "11/11 [==============================] - 0s 91us/step - loss: 1.5581 - accuracy: 0.4545\n",
      "Epoch 58/200\n",
      "11/11 [==============================] - 0s 181us/step - loss: 1.5394 - accuracy: 0.4545\n",
      "Epoch 59/200\n",
      "11/11 [==============================] - 0s 180us/step - loss: 1.5204 - accuracy: 0.4545\n",
      "Epoch 60/200\n",
      "11/11 [==============================] - 0s 182us/step - loss: 1.5012 - accuracy: 0.4545\n",
      "Epoch 61/200\n",
      "11/11 [==============================] - 0s 272us/step - loss: 1.4817 - accuracy: 0.4545\n",
      "Epoch 62/200\n",
      "11/11 [==============================] - 0s 181us/step - loss: 1.4621 - accuracy: 0.4545\n",
      "Epoch 63/200\n",
      "11/11 [==============================] - 0s 91us/step - loss: 1.4425 - accuracy: 0.4545\n",
      "Epoch 64/200\n",
      "11/11 [==============================] - 0s 181us/step - loss: 1.4230 - accuracy: 0.4545\n",
      "Epoch 65/200\n",
      "11/11 [==============================] - 0s 182us/step - loss: 1.4036 - accuracy: 0.4545\n",
      "Epoch 66/200\n",
      "11/11 [==============================] - 0s 181us/step - loss: 1.3841 - accuracy: 0.4545\n",
      "Epoch 67/200\n",
      "11/11 [==============================] - 0s 181us/step - loss: 1.3648 - accuracy: 0.4545\n",
      "Epoch 68/200\n",
      "11/11 [==============================] - 0s 181us/step - loss: 1.3456 - accuracy: 0.4545\n",
      "Epoch 69/200\n",
      "11/11 [==============================] - 0s 181us/step - loss: 1.3268 - accuracy: 0.5455\n",
      "Epoch 70/200\n",
      "11/11 [==============================] - 0s 182us/step - loss: 1.3080 - accuracy: 0.5455\n",
      "Epoch 71/200\n",
      "11/11 [==============================] - 0s 91us/step - loss: 1.2895 - accuracy: 0.5455\n",
      "Epoch 72/200\n",
      "11/11 [==============================] - 0s 181us/step - loss: 1.2712 - accuracy: 0.5455\n",
      "Epoch 73/200\n",
      "11/11 [==============================] - 0s 181us/step - loss: 1.2531 - accuracy: 0.5455\n",
      "Epoch 74/200\n",
      "11/11 [==============================] - 0s 181us/step - loss: 1.2354 - accuracy: 0.6364\n",
      "Epoch 75/200\n",
      "11/11 [==============================] - 0s 181us/step - loss: 1.2179 - accuracy: 0.6364\n",
      "Epoch 76/200\n",
      "11/11 [==============================] - 0s 181us/step - loss: 1.2007 - accuracy: 0.7273\n",
      "Epoch 77/200\n",
      "11/11 [==============================] - 0s 91us/step - loss: 1.1839 - accuracy: 0.7273\n",
      "Epoch 78/200\n",
      "11/11 [==============================] - 0s 181us/step - loss: 1.1673 - accuracy: 0.7273\n",
      "Epoch 79/200\n",
      "11/11 [==============================] - 0s 181us/step - loss: 1.1510 - accuracy: 0.7273\n",
      "Epoch 80/200\n",
      "11/11 [==============================] - 0s 91us/step - loss: 1.1350 - accuracy: 0.7273\n",
      "Epoch 81/200\n",
      "11/11 [==============================] - 0s 182us/step - loss: 1.1193 - accuracy: 0.7273\n"
     ]
    },
    {
     "name": "stdout",
     "output_type": "stream",
     "text": [
      "Epoch 82/200\n",
      "11/11 [==============================] - 0s 181us/step - loss: 1.1038 - accuracy: 0.7273\n",
      "Epoch 83/200\n",
      "11/11 [==============================] - 0s 91us/step - loss: 1.0884 - accuracy: 0.7273\n",
      "Epoch 84/200\n",
      "11/11 [==============================] - 0s 181us/step - loss: 1.0731 - accuracy: 0.7273\n",
      "Epoch 85/200\n",
      "11/11 [==============================] - 0s 181us/step - loss: 1.0580 - accuracy: 0.7273\n",
      "Epoch 86/200\n",
      "11/11 [==============================] - 0s 181us/step - loss: 1.0431 - accuracy: 0.7273\n",
      "Epoch 87/200\n",
      "11/11 [==============================] - 0s 91us/step - loss: 1.0282 - accuracy: 0.7273\n",
      "Epoch 88/200\n",
      "11/11 [==============================] - 0s 181us/step - loss: 1.0135 - accuracy: 0.7273\n",
      "Epoch 89/200\n",
      "11/11 [==============================] - 0s 91us/step - loss: 0.9990 - accuracy: 0.7273\n",
      "Epoch 90/200\n",
      "11/11 [==============================] - 0s 181us/step - loss: 0.9846 - accuracy: 0.7273\n",
      "Epoch 91/200\n",
      "11/11 [==============================] - 0s 91us/step - loss: 0.9703 - accuracy: 0.7273\n",
      "Epoch 92/200\n",
      "11/11 [==============================] - 0s 181us/step - loss: 0.9561 - accuracy: 0.7273\n",
      "Epoch 93/200\n",
      "11/11 [==============================] - 0s 181us/step - loss: 0.9421 - accuracy: 0.7273\n",
      "Epoch 94/200\n",
      "11/11 [==============================] - 0s 182us/step - loss: 0.9282 - accuracy: 0.7273\n",
      "Epoch 95/200\n",
      "11/11 [==============================] - 0s 181us/step - loss: 0.9145 - accuracy: 0.7273\n",
      "Epoch 96/200\n",
      "11/11 [==============================] - 0s 181us/step - loss: 0.9009 - accuracy: 0.7273\n",
      "Epoch 97/200\n",
      "11/11 [==============================] - 0s 181us/step - loss: 0.8874 - accuracy: 0.7273\n",
      "Epoch 98/200\n",
      "11/11 [==============================] - 0s 91us/step - loss: 0.8741 - accuracy: 0.7273\n",
      "Epoch 99/200\n",
      "11/11 [==============================] - 0s 181us/step - loss: 0.8609 - accuracy: 0.7273\n",
      "Epoch 100/200\n",
      "11/11 [==============================] - 0s 181us/step - loss: 0.8479 - accuracy: 0.7273\n",
      "Epoch 101/200\n",
      "11/11 [==============================] - 0s 272us/step - loss: 0.8352 - accuracy: 0.7273\n",
      "Epoch 102/200\n",
      "11/11 [==============================] - 0s 181us/step - loss: 0.8225 - accuracy: 0.7273\n",
      "Epoch 103/200\n",
      "11/11 [==============================] - 0s 91us/step - loss: 0.8100 - accuracy: 0.7273\n",
      "Epoch 104/200\n",
      "11/11 [==============================] - 0s 91us/step - loss: 0.7977 - accuracy: 0.7273\n",
      "Epoch 105/200\n",
      "11/11 [==============================] - 0s 91us/step - loss: 0.7855 - accuracy: 0.7273\n",
      "Epoch 106/200\n",
      "11/11 [==============================] - 0s 181us/step - loss: 0.7736 - accuracy: 0.7273\n",
      "Epoch 107/200\n",
      "11/11 [==============================] - 0s 181us/step - loss: 0.7618 - accuracy: 0.7273\n",
      "Epoch 108/200\n",
      "11/11 [==============================] - 0s 181us/step - loss: 0.7502 - accuracy: 0.7273\n",
      "Epoch 109/200\n",
      "11/11 [==============================] - 0s 91us/step - loss: 0.7388 - accuracy: 0.8182\n",
      "Epoch 110/200\n",
      "11/11 [==============================] - 0s 91us/step - loss: 0.7276 - accuracy: 0.8182\n",
      "Epoch 111/200\n",
      "11/11 [==============================] - 0s 182us/step - loss: 0.7165 - accuracy: 0.8182\n",
      "Epoch 112/200\n",
      "11/11 [==============================] - 0s 181us/step - loss: 0.7056 - accuracy: 0.8182\n",
      "Epoch 113/200\n",
      "11/11 [==============================] - 0s 181us/step - loss: 0.6949 - accuracy: 0.8182\n",
      "Epoch 114/200\n",
      "11/11 [==============================] - 0s 181us/step - loss: 0.6844 - accuracy: 0.8182\n",
      "Epoch 115/200\n",
      "11/11 [==============================] - 0s 181us/step - loss: 0.6740 - accuracy: 0.8182\n",
      "Epoch 116/200\n",
      "11/11 [==============================] - 0s 181us/step - loss: 0.6638 - accuracy: 0.8182\n",
      "Epoch 117/200\n",
      "11/11 [==============================] - 0s 181us/step - loss: 0.6538 - accuracy: 0.8182\n",
      "Epoch 118/200\n",
      "11/11 [==============================] - 0s 181us/step - loss: 0.6440 - accuracy: 0.8182\n",
      "Epoch 119/200\n",
      "11/11 [==============================] - 0s 91us/step - loss: 0.6343 - accuracy: 0.8182\n",
      "Epoch 120/200\n",
      "11/11 [==============================] - 0s 90us/step - loss: 0.6248 - accuracy: 0.8182\n",
      "Epoch 121/200\n",
      "11/11 [==============================] - 0s 181us/step - loss: 0.6154 - accuracy: 0.8182\n",
      "Epoch 122/200\n",
      "11/11 [==============================] - 0s 180us/step - loss: 0.6062 - accuracy: 0.8182\n",
      "Epoch 123/200\n",
      "11/11 [==============================] - 0s 181us/step - loss: 0.5972 - accuracy: 0.8182\n",
      "Epoch 124/200\n",
      "11/11 [==============================] - 0s 181us/step - loss: 0.5883 - accuracy: 0.8182\n",
      "Epoch 125/200\n",
      "11/11 [==============================] - 0s 89us/step - loss: 0.5796 - accuracy: 0.8182\n",
      "Epoch 126/200\n",
      "11/11 [==============================] - 0s 92us/step - loss: 0.5710 - accuracy: 0.8182\n",
      "Epoch 127/200\n",
      "11/11 [==============================] - 0s 181us/step - loss: 0.5626 - accuracy: 0.9091\n",
      "Epoch 128/200\n",
      "11/11 [==============================] - 0s 181us/step - loss: 0.5543 - accuracy: 0.9091\n",
      "Epoch 129/200\n",
      "11/11 [==============================] - 0s 181us/step - loss: 0.5461 - accuracy: 0.9091\n",
      "Epoch 130/200\n",
      "11/11 [==============================] - 0s 181us/step - loss: 0.5381 - accuracy: 0.9091\n",
      "Epoch 131/200\n",
      "11/11 [==============================] - 0s 91us/step - loss: 0.5302 - accuracy: 0.9091\n",
      "Epoch 132/200\n",
      "11/11 [==============================] - 0s 181us/step - loss: 0.5225 - accuracy: 0.9091\n",
      "Epoch 133/200\n",
      "11/11 [==============================] - 0s 91us/step - loss: 0.5149 - accuracy: 0.9091\n",
      "Epoch 134/200\n",
      "11/11 [==============================] - 0s 181us/step - loss: 0.5074 - accuracy: 0.9091\n",
      "Epoch 135/200\n",
      "11/11 [==============================] - 0s 181us/step - loss: 0.5001 - accuracy: 0.9091\n",
      "Epoch 136/200\n",
      "11/11 [==============================] - 0s 182us/step - loss: 0.4928 - accuracy: 0.9091\n",
      "Epoch 137/200\n",
      "11/11 [==============================] - 0s 179us/step - loss: 0.4857 - accuracy: 0.9091\n",
      "Epoch 138/200\n",
      "11/11 [==============================] - 0s 181us/step - loss: 0.4787 - accuracy: 0.9091\n",
      "Epoch 139/200\n",
      "11/11 [==============================] - 0s 181us/step - loss: 0.4719 - accuracy: 0.9091\n",
      "Epoch 140/200\n",
      "11/11 [==============================] - 0s 179us/step - loss: 0.4651 - accuracy: 0.9091\n",
      "Epoch 141/200\n",
      "11/11 [==============================] - 0s 179us/step - loss: 0.4585 - accuracy: 0.9091\n",
      "Epoch 142/200\n",
      "11/11 [==============================] - 0s 179us/step - loss: 0.4519 - accuracy: 0.9091\n",
      "Epoch 143/200\n",
      "11/11 [==============================] - 0s 179us/step - loss: 0.4455 - accuracy: 0.9091\n",
      "Epoch 144/200\n",
      "11/11 [==============================] - 0s 181us/step - loss: 0.4391 - accuracy: 0.9091\n",
      "Epoch 145/200\n",
      "11/11 [==============================] - 0s 181us/step - loss: 0.4329 - accuracy: 0.9091\n",
      "Epoch 146/200\n",
      "11/11 [==============================] - 0s 181us/step - loss: 0.4268 - accuracy: 0.9091\n",
      "Epoch 147/200\n",
      "11/11 [==============================] - 0s 179us/step - loss: 0.4207 - accuracy: 0.9091\n",
      "Epoch 148/200\n",
      "11/11 [==============================] - 0s 181us/step - loss: 0.4148 - accuracy: 0.9091\n",
      "Epoch 149/200\n",
      "11/11 [==============================] - 0s 181us/step - loss: 0.4089 - accuracy: 0.9091\n",
      "Epoch 150/200\n",
      "11/11 [==============================] - 0s 181us/step - loss: 0.4032 - accuracy: 0.9091\n",
      "Epoch 151/200\n",
      "11/11 [==============================] - 0s 179us/step - loss: 0.3975 - accuracy: 0.9091\n",
      "Epoch 152/200\n",
      "11/11 [==============================] - 0s 178us/step - loss: 0.3919 - accuracy: 0.9091\n",
      "Epoch 153/200\n",
      "11/11 [==============================] - 0s 181us/step - loss: 0.3863 - accuracy: 0.9091\n",
      "Epoch 154/200\n",
      "11/11 [==============================] - 0s 180us/step - loss: 0.3809 - accuracy: 0.9091\n",
      "Epoch 155/200\n",
      "11/11 [==============================] - 0s 181us/step - loss: 0.3755 - accuracy: 0.9091\n",
      "Epoch 156/200\n",
      "11/11 [==============================] - 0s 181us/step - loss: 0.3702 - accuracy: 0.9091\n",
      "Epoch 157/200\n",
      "11/11 [==============================] - 0s 181us/step - loss: 0.3650 - accuracy: 0.9091\n",
      "Epoch 158/200\n",
      "11/11 [==============================] - 0s 181us/step - loss: 0.3599 - accuracy: 0.9091\n",
      "Epoch 159/200\n",
      "11/11 [==============================] - 0s 181us/step - loss: 0.3548 - accuracy: 0.9091\n",
      "Epoch 160/200\n",
      "11/11 [==============================] - 0s 181us/step - loss: 0.3498 - accuracy: 0.9091\n",
      "Epoch 161/200\n",
      "11/11 [==============================] - 0s 181us/step - loss: 0.3449 - accuracy: 0.9091\n"
     ]
    },
    {
     "name": "stdout",
     "output_type": "stream",
     "text": [
      "Epoch 162/200\n",
      "11/11 [==============================] - 0s 178us/step - loss: 0.3400 - accuracy: 0.9091\n",
      "Epoch 163/200\n",
      "11/11 [==============================] - 0s 88us/step - loss: 0.3352 - accuracy: 0.9091\n",
      "Epoch 164/200\n",
      "11/11 [==============================] - 0s 88us/step - loss: 0.3304 - accuracy: 0.9091\n",
      "Epoch 165/200\n",
      "11/11 [==============================] - 0s 179us/step - loss: 0.3258 - accuracy: 0.9091\n",
      "Epoch 166/200\n",
      "11/11 [==============================] - 0s 181us/step - loss: 0.3211 - accuracy: 0.9091\n",
      "Epoch 167/200\n",
      "11/11 [==============================] - 0s 270us/step - loss: 0.3166 - accuracy: 0.9091\n",
      "Epoch 168/200\n",
      "11/11 [==============================] - 0s 181us/step - loss: 0.3121 - accuracy: 0.9091\n",
      "Epoch 169/200\n",
      "11/11 [==============================] - 0s 90us/step - loss: 0.3076 - accuracy: 0.9091\n",
      "Epoch 170/200\n",
      "11/11 [==============================] - 0s 179us/step - loss: 0.3032 - accuracy: 0.9091\n",
      "Epoch 171/200\n",
      "11/11 [==============================] - 0s 182us/step - loss: 0.2989 - accuracy: 0.9091\n",
      "Epoch 172/200\n",
      "11/11 [==============================] - 0s 181us/step - loss: 0.2946 - accuracy: 0.9091\n",
      "Epoch 173/200\n",
      "11/11 [==============================] - 0s 179us/step - loss: 0.2903 - accuracy: 0.9091\n",
      "Epoch 174/200\n",
      "11/11 [==============================] - 0s 181us/step - loss: 0.2861 - accuracy: 1.0000\n",
      "Epoch 175/200\n",
      "11/11 [==============================] - 0s 180us/step - loss: 0.2820 - accuracy: 1.0000\n",
      "Epoch 176/200\n",
      "11/11 [==============================] - 0s 91us/step - loss: 0.2779 - accuracy: 1.0000\n",
      "Epoch 177/200\n",
      "11/11 [==============================] - 0s 181us/step - loss: 0.2739 - accuracy: 1.0000\n",
      "Epoch 178/200\n",
      "11/11 [==============================] - 0s 91us/step - loss: 0.2699 - accuracy: 1.0000\n",
      "Epoch 179/200\n",
      "11/11 [==============================] - 0s 180us/step - loss: 0.2660 - accuracy: 1.0000\n",
      "Epoch 180/200\n",
      "11/11 [==============================] - 0s 88us/step - loss: 0.2621 - accuracy: 1.0000\n",
      "Epoch 181/200\n",
      "11/11 [==============================] - 0s 91us/step - loss: 0.2583 - accuracy: 1.0000\n",
      "Epoch 182/200\n",
      "11/11 [==============================] - 0s 181us/step - loss: 0.2545 - accuracy: 1.0000\n",
      "Epoch 183/200\n",
      "11/11 [==============================] - 0s 181us/step - loss: 0.2507 - accuracy: 1.0000\n",
      "Epoch 184/200\n",
      "11/11 [==============================] - 0s 179us/step - loss: 0.2470 - accuracy: 1.0000\n",
      "Epoch 185/200\n",
      "11/11 [==============================] - 0s 181us/step - loss: 0.2434 - accuracy: 1.0000\n",
      "Epoch 186/200\n",
      "11/11 [==============================] - 0s 91us/step - loss: 0.2398 - accuracy: 1.0000\n",
      "Epoch 187/200\n",
      "11/11 [==============================] - 0s 182us/step - loss: 0.2363 - accuracy: 1.0000\n",
      "Epoch 188/200\n",
      "11/11 [==============================] - 0s 181us/step - loss: 0.2328 - accuracy: 1.0000\n",
      "Epoch 189/200\n",
      "11/11 [==============================] - 0s 181us/step - loss: 0.2293 - accuracy: 1.0000\n",
      "Epoch 190/200\n",
      "11/11 [==============================] - 0s 181us/step - loss: 0.2259 - accuracy: 1.0000\n",
      "Epoch 191/200\n",
      "11/11 [==============================] - 0s 91us/step - loss: 0.2225 - accuracy: 1.0000\n",
      "Epoch 192/200\n",
      "11/11 [==============================] - 0s 180us/step - loss: 0.2192 - accuracy: 1.0000\n",
      "Epoch 193/200\n",
      "11/11 [==============================] - 0s 91us/step - loss: 0.2159 - accuracy: 1.0000\n",
      "Epoch 194/200\n",
      "11/11 [==============================] - 0s 181us/step - loss: 0.2127 - accuracy: 1.0000\n",
      "Epoch 195/200\n",
      "11/11 [==============================] - 0s 179us/step - loss: 0.2095 - accuracy: 1.0000\n",
      "Epoch 196/200\n",
      "11/11 [==============================] - 0s 178us/step - loss: 0.2064 - accuracy: 1.0000\n",
      "Epoch 197/200\n",
      "11/11 [==============================] - 0s 91us/step - loss: 0.2033 - accuracy: 1.0000\n",
      "Epoch 198/200\n",
      "11/11 [==============================] - 0s 91us/step - loss: 0.2002 - accuracy: 1.0000\n",
      "Epoch 199/200\n",
      "11/11 [==============================] - 0s 181us/step - loss: 0.1972 - accuracy: 1.0000\n",
      "Epoch 200/200\n",
      "11/11 [==============================] - 0s 91us/step - loss: 0.1943 - accuracy: 1.0000\n"
     ]
    },
    {
     "data": {
      "text/plain": [
       "1.0"
      ]
     },
     "execution_count": 22,
     "metadata": {},
     "output_type": "execute_result"
    }
   ],
   "source": [
    "history = model.fit(X, y, epochs=200, verbose=1)\n",
    "history.history['accuracy'][-1]"
   ]
  },
  {
   "cell_type": "markdown",
   "metadata": {},
   "source": [
    "## 3. 모델 검증"
   ]
  },
  {
   "cell_type": "code",
   "execution_count": 23,
   "metadata": {},
   "outputs": [],
   "source": [
    "# 모델 검증용 문장을 생성하는 함수\n",
    "def sentence_generation(model, t, current_word, n): # 모델, 토크나이저, 현재 단어, 반복할 횟수\n",
    "    init_word = current_word # 처음 들어온 단어도 마지막에 같이 출력하기위해 저장\n",
    "    sentence = ''\n",
    "    for _ in range(n): # n번 반복\n",
    "        encoded = t.texts_to_sequences([current_word])[0] # 현재 단어에 대한 정수 인코딩\n",
    "        encoded = pad_sequences([encoded], maxlen=5, padding='pre') # 데이터에 대한 패딩\n",
    "        result = model.predict_classes(encoded, verbose=0)\n",
    "    # 입력한 X(현재 단어)에 대해서 Y를 예측하고 Y(예측한 단어)를 result에 저장.\n",
    "        for word, index in t.word_index.items(): \n",
    "            if index == result: # 만약 예측한 단어와 인덱스와 동일한 단어가 있다면\n",
    "                break # 해당 단어가 예측 단어이므로 break\n",
    "        current_word = current_word + ' '  + word # 현재 단어 + ' ' + 예측 단어를 현재 단어로 변경\n",
    "        sentence = sentence + ' ' + word # 예측 단어를 문장에 저장\n",
    "        \n",
    "    # for문이므로 이 행동을 다시 반복\n",
    "    sentence = init_word + sentence\n",
    "    return sentence"
   ]
  },
  {
   "cell_type": "markdown",
   "metadata": {},
   "source": [
    "### 함수 이해해보기 ㅡㅡㅡㅡㅡㅡㅡㅡㅡㅡㅡㅡ"
   ]
  },
  {
   "cell_type": "code",
   "execution_count": 24,
   "metadata": {},
   "outputs": [
    {
     "data": {
      "text/plain": [
       "[2]"
      ]
     },
     "execution_count": 24,
     "metadata": {},
     "output_type": "execute_result"
    }
   ],
   "source": [
    "enc = t.texts_to_sequences(['경마장에'])[0]\n",
    "enc"
   ]
  },
  {
   "cell_type": "code",
   "execution_count": 25,
   "metadata": {},
   "outputs": [
    {
     "data": {
      "text/plain": [
       "array([[0, 0, 0, 0, 2]])"
      ]
     },
     "execution_count": 25,
     "metadata": {},
     "output_type": "execute_result"
    }
   ],
   "source": [
    "enc = pad_sequences([enc], maxlen=5, padding='pre')\n",
    "enc"
   ]
  },
  {
   "cell_type": "code",
   "execution_count": 26,
   "metadata": {},
   "outputs": [
    {
     "data": {
      "text/plain": [
       "array([3], dtype=int64)"
      ]
     },
     "execution_count": 26,
     "metadata": {},
     "output_type": "execute_result"
    }
   ],
   "source": [
    "result = model.predict_classes(enc, verbose = 0)\n",
    "result"
   ]
  },
  {
   "cell_type": "markdown",
   "metadata": {},
   "source": [
    "## ㅡㅡㅡㅡㅡㅡㅡㅡㅡㅡㅡㅡㅡㅡㅡㅡㅡㅡㅡㅡㅡㅡㅡ"
   ]
  },
  {
   "cell_type": "code",
   "execution_count": 27,
   "metadata": {},
   "outputs": [
    {
     "name": "stdout",
     "output_type": "stream",
     "text": [
      "경마장에 있는 말이 뛰고\n"
     ]
    }
   ],
   "source": [
    "# '경마장에' 라는 단어 뒤에는 총 4개의 단어가 있으므로 3번 예측\n",
    "print(sentence_generation(model, t, '경마장에', 3))"
   ]
  },
  {
   "cell_type": "code",
   "execution_count": 28,
   "metadata": {},
   "outputs": [
    {
     "name": "stdout",
     "output_type": "stream",
     "text": [
      "그의 말이 법이다\n"
     ]
    }
   ],
   "source": [
    "print(sentence_generation(model, t, '그의', 2)) # 2번 예측"
   ]
  },
  {
   "cell_type": "code",
   "execution_count": 29,
   "metadata": {},
   "outputs": [
    {
     "name": "stdout",
     "output_type": "stream",
     "text": [
      "가는 말이 고와야 오는 말이 곱다\n"
     ]
    }
   ],
   "source": [
    "print(sentence_generation(model, t, '가는', 5)) # 5번 예측"
   ]
  },
  {
   "cell_type": "code",
   "execution_count": null,
   "metadata": {},
   "outputs": [],
   "source": []
  }
 ],
 "metadata": {
  "kernelspec": {
   "display_name": "Python 3",
   "language": "python",
   "name": "python3"
  },
  "language_info": {
   "codemirror_mode": {
    "name": "ipython",
    "version": 3
   },
   "file_extension": ".py",
   "mimetype": "text/x-python",
   "name": "python",
   "nbconvert_exporter": "python",
   "pygments_lexer": "ipython3",
   "version": "3.7.7"
  }
 },
 "nbformat": 4,
 "nbformat_minor": 4
}
