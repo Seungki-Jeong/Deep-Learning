{
  "nbformat": 4,
  "nbformat_minor": 0,
  "metadata": {
    "colab": {
      "name": "14_IMDB 영화리뷰 감성 분류-GRU",
      "provenance": []
    },
    "kernelspec": {
      "name": "python3",
      "display_name": "Python 3"
    },
    "accelerator": "GPU"
  },
  "cells": [
    {
      "cell_type": "code",
      "metadata": {
        "id": "NeokE-Xz8G9d",
        "colab_type": "code",
        "colab": {
          "base_uri": "https://localhost:8080/",
          "height": 35
        },
        "outputId": "f7dacd9b-6e55-493c-baa8-8c7d63730be4"
      },
      "source": [
        "%tensorflow_version 2.x\n",
        "import tensorflow as tf\n",
        "device_name = tf.test.gpu_device_name()\n",
        "if device_name != '/device:GPU:0':\n",
        "  raise SystemError('GPU device not found')\n",
        "print('Found GPU at: {}'.format(device_name))"
      ],
      "execution_count": 1,
      "outputs": [
        {
          "output_type": "stream",
          "text": [
            "Found GPU at: /device:GPU:0\n"
          ],
          "name": "stdout"
        }
      ]
    },
    {
      "cell_type": "markdown",
      "metadata": {
        "id": "qDQHO-3w8e4a",
        "colab_type": "text"
      },
      "source": [
        "#IMDB 영화 리뷰 감성 분류"
      ]
    },
    {
      "cell_type": "markdown",
      "metadata": {
        "id": "I9QtAiQI8gzA",
        "colab_type": "text"
      },
      "source": [
        "##1. IMDB 리뷰 데이터에 대한 이해"
      ]
    },
    {
      "cell_type": "code",
      "metadata": {
        "id": "4fO6HHRU8JIi",
        "colab_type": "code",
        "colab": {
          "base_uri": "https://localhost:8080/",
          "height": 73
        },
        "outputId": "6707ff06-ff00-4a97-c12c-75ef1c71bbef"
      },
      "source": [
        "import numpy as np\n",
        "import matplotlib.pyplot as plt\n",
        "%matplotlib inline\n",
        "import seaborn as sns\n",
        "from tensorflow.keras.datasets import imdb"
      ],
      "execution_count": 2,
      "outputs": [
        {
          "output_type": "stream",
          "text": [
            "/usr/local/lib/python3.6/dist-packages/statsmodels/tools/_testing.py:19: FutureWarning: pandas.util.testing is deprecated. Use the functions in the public API at pandas.testing instead.\n",
            "  import pandas.util.testing as tm\n"
          ],
          "name": "stderr"
        }
      ]
    },
    {
      "cell_type": "code",
      "metadata": {
        "id": "oUogSHs78ifu",
        "colab_type": "code",
        "colab": {}
      },
      "source": [
        "# 훈련 데이터와 테스트 데이터를 50:50 비율로 구분해서 제공\n",
        "(X_train, y_train), (X_test, y_test) = imdb.load_data(num_words=None)"
      ],
      "execution_count": 3,
      "outputs": []
    },
    {
      "cell_type": "code",
      "metadata": {
        "id": "R037cJVb8r_B",
        "colab_type": "code",
        "colab": {
          "base_uri": "https://localhost:8080/",
          "height": 35
        },
        "outputId": "455ff2b1-6716-4d1b-8ca1-7f6dc50f7433"
      },
      "source": [
        "len(X_train), len(X_test)"
      ],
      "execution_count": 4,
      "outputs": [
        {
          "output_type": "execute_result",
          "data": {
            "text/plain": [
              "(25000, 25000)"
            ]
          },
          "metadata": {
            "tags": []
          },
          "execution_count": 4
        }
      ]
    },
    {
      "cell_type": "code",
      "metadata": {
        "id": "QuDgrl5G9Khh",
        "colab_type": "code",
        "colab": {
          "base_uri": "https://localhost:8080/",
          "height": 35
        },
        "outputId": "3d744cd9-aa4f-46d5-d129-1070ef5ba45d"
      },
      "source": [
        "# 긍정: 1, 부정: 0\n",
        "print('카테고리 : {}' .format(max(y_train) + 1))"
      ],
      "execution_count": 5,
      "outputs": [
        {
          "output_type": "stream",
          "text": [
            "카테고리 : 2\n"
          ],
          "name": "stdout"
        }
      ]
    },
    {
      "cell_type": "code",
      "metadata": {
        "id": "XjBQcmAm9QNg",
        "colab_type": "code",
        "colab": {
          "base_uri": "https://localhost:8080/",
          "height": 197
        },
        "outputId": "e348cc0c-b6f0-4f32-ce50-e91726dc6484"
      },
      "source": [
        "for i in range(10):\n",
        "  print(len(X_train[i]))"
      ],
      "execution_count": 6,
      "outputs": [
        {
          "output_type": "stream",
          "text": [
            "218\n",
            "189\n",
            "141\n",
            "550\n",
            "147\n",
            "43\n",
            "123\n",
            "562\n",
            "233\n",
            "130\n"
          ],
          "name": "stdout"
        }
      ]
    },
    {
      "cell_type": "code",
      "metadata": {
        "id": "S1nVJFl79UDo",
        "colab_type": "code",
        "colab": {
          "base_uri": "https://localhost:8080/",
          "height": 73
        },
        "outputId": "3d41dc66-345a-4df5-c42f-6855995c8f55"
      },
      "source": [
        "# 일곱번째 데이터 확인\n",
        "print(X_train[6])\n",
        "print(y_train[6])"
      ],
      "execution_count": 7,
      "outputs": [
        {
          "output_type": "stream",
          "text": [
            "[1, 6740, 365, 1234, 5, 1156, 354, 11, 14, 5327, 6638, 7, 1016, 10626, 5940, 356, 44, 4, 1349, 500, 746, 5, 200, 4, 4132, 11, 16393, 9363, 1117, 1831, 7485, 5, 4831, 26, 6, 71690, 4183, 17, 369, 37, 215, 1345, 143, 32677, 5, 1838, 8, 1974, 15, 36, 119, 257, 85, 52, 486, 9, 6, 26441, 8564, 63, 271, 6, 196, 96, 949, 4121, 4, 74170, 7, 4, 2212, 2436, 819, 63, 47, 77, 7175, 180, 6, 227, 11, 94, 2494, 33740, 13, 423, 4, 168, 7, 4, 22, 5, 89, 665, 71, 270, 56, 5, 13, 197, 12, 161, 5390, 99, 76, 23, 77842, 7, 419, 665, 40, 91, 85, 108, 7, 4, 2084, 5, 4773, 81, 55, 52, 1901]\n",
            "1\n"
          ],
          "name": "stdout"
        }
      ]
    },
    {
      "cell_type": "code",
      "metadata": {
        "id": "0iGiqa159YiY",
        "colab_type": "code",
        "colab": {
          "base_uri": "https://localhost:8080/",
          "height": 53
        },
        "outputId": "d7911575-4c76-4f0e-adea-e3c62018ee2a"
      },
      "source": [
        "# 리뷰의 길이 분포\n",
        "print('리뷰의 최대 길이 : {}' .format(max(len(l) for l in X_train)))\n",
        "print('리뷰의 평균 길이:  {}' .format(sum(map(len, X_train)) / len(X_train)))"
      ],
      "execution_count": 8,
      "outputs": [
        {
          "output_type": "stream",
          "text": [
            "리뷰의 최대 길이 : 2494\n",
            "리뷰의 평균 길이:  238.71364\n"
          ],
          "name": "stdout"
        }
      ]
    },
    {
      "cell_type": "code",
      "metadata": {
        "id": "t_Hj9xoL9lPw",
        "colab_type": "code",
        "colab": {
          "base_uri": "https://localhost:8080/",
          "height": 279
        },
        "outputId": "9f5eedba-a058-4c11-f110-88a67f16adf3"
      },
      "source": [
        "plt.hist([len(s) for s in X_train], bins = 50)\n",
        "plt.xlabel('length of samples')\n",
        "plt.ylabel('number of samples')\n",
        "plt.show()"
      ],
      "execution_count": 9,
      "outputs": [
        {
          "output_type": "display_data",
          "data": {
            "image/png": "[encoded data removed]",
            "text/plain": [
              "<Figure size 432x288 with 1 Axes>"
            ]
          },
          "metadata": {
            "tags": [],
            "needs_background": "light"
          }
        }
      ]
    },
    {
      "cell_type": "code",
      "metadata": {
        "id": "CG_I00Mr9vHA",
        "colab_type": "code",
        "colab": {
          "base_uri": "https://localhost:8080/",
          "height": 71
        },
        "outputId": "494b6226-4773-40f2-a39b-515d1b3e4f11"
      },
      "source": [
        "# 레이블의 분포\n",
        "unique_elements, counts_elements = np.unique(y_train, return_counts=True)\n",
        "print(\"각 레이블에 대한 빈도수:\")\n",
        "print(np.asarray((unique_elements, counts_elements)))"
      ],
      "execution_count": 10,
      "outputs": [
        {
          "output_type": "stream",
          "text": [
            "각 레이블에 대한 빈도수:\n",
            "[[    0     1]\n",
            " [12500 12500]]\n"
          ],
          "name": "stdout"
        }
      ]
    },
    {
      "cell_type": "code",
      "metadata": {
        "id": "awJs3YlU9zLQ",
        "colab_type": "code",
        "colab": {
          "base_uri": "https://localhost:8080/",
          "height": 35
        },
        "outputId": "c2bc2fa4-730e-4585-ec1d-782709b2a0d4"
      },
      "source": [
        "# # X_train에 들어있는 숫자들이 각자 어떤 단어들을 나타내고 있는지 확인\n",
        "word_to_index = imdb.get_word_index()\n",
        "index_to_word={}\n",
        "for key, value in word_to_index.items():\n",
        "    index_to_word[value] = key\n",
        "len(word_to_index)"
      ],
      "execution_count": 11,
      "outputs": [
        {
          "output_type": "execute_result",
          "data": {
            "text/plain": [
              "88584"
            ]
          },
          "metadata": {
            "tags": []
          },
          "execution_count": 11
        }
      ]
    },
    {
      "cell_type": "code",
      "metadata": {
        "id": "n_TIUIi190og",
        "colab_type": "code",
        "colab": {
          "base_uri": "https://localhost:8080/",
          "height": 71
        },
        "outputId": "d16d17e2-2794-4b9f-953d-19ccd033017f"
      },
      "source": [
        "print('빈도수 상위 1번 단어 : {}'.format(index_to_word[1]))\n",
        "print('빈도수 상위 12345번 단어 : {}'.format(index_to_word[12345]))\n",
        "print('빈도수 최하위(88584) 단어 : {}'.format(index_to_word[88584]))"
      ],
      "execution_count": 12,
      "outputs": [
        {
          "output_type": "stream",
          "text": [
            "빈도수 상위 1번 단어 : the\n",
            "빈도수 상위 12345번 단어 : liberated\n",
            "빈도수 최하위(88584) 단어 : 'l'\n"
          ],
          "name": "stdout"
        }
      ]
    },
    {
      "cell_type": "code",
      "metadata": {
        "id": "GtodAA6191kp",
        "colab_type": "code",
        "colab": {
          "base_uri": "https://localhost:8080/",
          "height": 55
        },
        "outputId": "c1ab7428-5651-45ea-cea9-5af9c29d62bb"
      },
      "source": [
        "# 일곱번째 리뷰 복원\n",
        "print(' '.join([index_to_word[s] for s in X_train[6]]))"
      ],
      "execution_count": 13,
      "outputs": [
        {
          "output_type": "stream",
          "text": [
            "the boiled full involving to impressive boring this as murdering naschy br villain council suggestion need has of costumes b message to may of props this echoed concentrates concept issue skeptical to god's he is dedications unfolds movie women like isn't surely i'm rocketed to toward in here's for from did having because very quality it is captain's starship really book is both too worked carl of mayfair br of reviewer closer figure really there will originals things is far this make mistakes kevin's was couldn't of few br of you to don't female than place she to was between that nothing dose movies get are 498 br yes female just its because many br of overly to descent people time very bland\n"
          ],
          "name": "stdout"
        }
      ]
    },
    {
      "cell_type": "markdown",
      "metadata": {
        "id": "B4lCv8ZF94dI",
        "colab_type": "text"
      },
      "source": [
        "##2. GRU로 IMDB 리뷰 감성 분류\n",
        "* 모든 단어가 아닌 빈도수 5000 까지\n",
        "* 모든 문장이 아니라 500 단어까지"
      ]
    },
    {
      "cell_type": "code",
      "metadata": {
        "id": "fgZejrZ992xo",
        "colab_type": "code",
        "colab": {}
      },
      "source": [
        "from tensorflow.keras.models import Sequential\n",
        "from tensorflow.keras.layers import Dense, GRU, Embedding\n",
        "from tensorflow.keras.preprocessing.sequence import pad_sequences"
      ],
      "execution_count": 14,
      "outputs": []
    },
    {
      "cell_type": "code",
      "metadata": {
        "id": "WbZoYM3m98mo",
        "colab_type": "code",
        "colab": {}
      },
      "source": [
        "# 등장 빈도가 5,000번째까지의 단어들만 사용\n",
        "(X_train, y_train), (X_test, y_test) = imdb.load_data(num_words=5000)"
      ],
      "execution_count": 15,
      "outputs": []
    },
    {
      "cell_type": "code",
      "metadata": {
        "id": "vfea7AFn99gY",
        "colab_type": "code",
        "colab": {}
      },
      "source": [
        "# 모델의 입력으로 사용하는 모든 리뷰의 길이를 동일하게 500으로 맞춤\n",
        "max_len=500\n",
        "X_train = pad_sequences(X_train, maxlen=max_len)\n",
        "X_test = pad_sequences(X_test, maxlen=max_len)"
      ],
      "execution_count": 16,
      "outputs": []
    },
    {
      "cell_type": "code",
      "metadata": {
        "id": "Y-P_VR2--CyI",
        "colab_type": "code",
        "colab": {
          "base_uri": "https://localhost:8080/",
          "height": 269
        },
        "outputId": "eeca2e34-60a2-46db-f6ff-4dd4d45b504d"
      },
      "source": [
        "# LSTM 모델\n",
        "model = Sequential()\n",
        "model.add(Embedding(5000, 120))\n",
        "model.add(GRU(120))\n",
        "model.add(Dense(1, activation='sigmoid'))\n",
        "model.summary()"
      ],
      "execution_count": 17,
      "outputs": [
        {
          "output_type": "stream",
          "text": [
            "Model: \"sequential\"\n",
            "_________________________________________________________________\n",
            "Layer (type)                 Output Shape              Param #   \n",
            "=================================================================\n",
            "embedding (Embedding)        (None, None, 120)         600000    \n",
            "_________________________________________________________________\n",
            "gru (GRU)                    (None, 120)               87120     \n",
            "_________________________________________________________________\n",
            "dense (Dense)                (None, 1)                 121       \n",
            "=================================================================\n",
            "Total params: 687,241\n",
            "Trainable params: 687,241\n",
            "Non-trainable params: 0\n",
            "_________________________________________________________________\n"
          ],
          "name": "stdout"
        }
      ]
    },
    {
      "cell_type": "code",
      "metadata": {
        "id": "K-iT54Vp-Dpo",
        "colab_type": "code",
        "colab": {}
      },
      "source": [
        "# 모델의 컴파일\n",
        "model.compile(loss='binary_crossentropy',\n",
        "              optimizer='adam',\n",
        "              metrics=['accuracy'])"
      ],
      "execution_count": 18,
      "outputs": []
    },
    {
      "cell_type": "code",
      "metadata": {
        "id": "9M1ITxYI-Etg",
        "colab_type": "code",
        "colab": {}
      },
      "source": [
        "from tensorflow.keras.callbacks import ModelCheckpoint\n",
        "modelpath = \"model/imdb-gru-{epoch:02d}-{val_loss:.4f}.hdf5\"\n",
        "checkpointer = ModelCheckpoint(filepath=modelpath, monitor='val_loss', \n",
        "                               verbose=1, save_best_only=True)"
      ],
      "execution_count": 19,
      "outputs": []
    },
    {
      "cell_type": "code",
      "metadata": {
        "id": "Flyh1JAEAKmS",
        "colab_type": "code",
        "colab": {
          "base_uri": "https://localhost:8080/",
          "height": 35
        },
        "outputId": "c518571d-b187-482d-9565-1e447e8211c7"
      },
      "source": [
        "!mkdir model"
      ],
      "execution_count": 20,
      "outputs": [
        {
          "output_type": "stream",
          "text": [
            "mkdir: cannot create directory ‘model’: File exists\n"
          ],
          "name": "stdout"
        }
      ]
    },
    {
      "cell_type": "code",
      "metadata": {
        "id": "bmB1qArI-F0h",
        "colab_type": "code",
        "colab": {
          "base_uri": "https://localhost:8080/",
          "height": 737
        },
        "outputId": "22a5ad72-5fe9-493d-ad27-1b9ec8541505"
      },
      "source": [
        "history = model.fit(X_train, y_train, validation_data=(X_test, y_test), epochs=10,\n",
        "                    batch_size=64, callbacks=[checkpointer], verbose = 1)"
      ],
      "execution_count": 21,
      "outputs": [
        {
          "output_type": "stream",
          "text": [
            "Epoch 1/10\n",
            "391/391 [==============================] - ETA: 0s - loss: 0.4934 - accuracy: 0.7508\n",
            "Epoch 00001: val_loss improved from inf to 0.37495, saving model to model/imdb-gru-01-0.3750.hdf5\n",
            "391/391 [==============================] - 47s 121ms/step - loss: 0.4934 - accuracy: 0.7508 - val_loss: 0.3750 - val_accuracy: 0.8339\n",
            "Epoch 2/10\n",
            "391/391 [==============================] - ETA: 0s - loss: 0.2930 - accuracy: 0.8796\n",
            "Epoch 00002: val_loss improved from 0.37495 to 0.32705, saving model to model/imdb-gru-02-0.3271.hdf5\n",
            "391/391 [==============================] - 47s 120ms/step - loss: 0.2930 - accuracy: 0.8796 - val_loss: 0.3271 - val_accuracy: 0.8594\n",
            "Epoch 3/10\n",
            "391/391 [==============================] - ETA: 0s - loss: 0.2099 - accuracy: 0.9193\n",
            "Epoch 00003: val_loss improved from 0.32705 to 0.27382, saving model to model/imdb-gru-03-0.2738.hdf5\n",
            "391/391 [==============================] - 46s 119ms/step - loss: 0.2099 - accuracy: 0.9193 - val_loss: 0.2738 - val_accuracy: 0.8919\n",
            "Epoch 4/10\n",
            "391/391 [==============================] - ETA: 0s - loss: 0.1589 - accuracy: 0.9404\n",
            "Epoch 00004: val_loss did not improve from 0.27382\n",
            "391/391 [==============================] - 46s 119ms/step - loss: 0.1589 - accuracy: 0.9404 - val_loss: 0.3004 - val_accuracy: 0.8795\n",
            "Epoch 5/10\n",
            "391/391 [==============================] - ETA: 0s - loss: 0.1191 - accuracy: 0.9574\n",
            "Epoch 00005: val_loss did not improve from 0.27382\n",
            "391/391 [==============================] - 46s 118ms/step - loss: 0.1191 - accuracy: 0.9574 - val_loss: 0.3288 - val_accuracy: 0.8820\n",
            "Epoch 6/10\n",
            "391/391 [==============================] - ETA: 0s - loss: 0.0929 - accuracy: 0.9666\n",
            "Epoch 00006: val_loss did not improve from 0.27382\n",
            "391/391 [==============================] - 47s 119ms/step - loss: 0.0929 - accuracy: 0.9666 - val_loss: 0.3767 - val_accuracy: 0.8782\n",
            "Epoch 7/10\n",
            "391/391 [==============================] - ETA: 0s - loss: 0.0678 - accuracy: 0.9775\n",
            "Epoch 00007: val_loss did not improve from 0.27382\n",
            "391/391 [==============================] - 46s 119ms/step - loss: 0.0678 - accuracy: 0.9775 - val_loss: 0.4541 - val_accuracy: 0.8800\n",
            "Epoch 8/10\n",
            "391/391 [==============================] - ETA: 0s - loss: 0.0614 - accuracy: 0.9798\n",
            "Epoch 00008: val_loss did not improve from 0.27382\n",
            "391/391 [==============================] - 47s 119ms/step - loss: 0.0614 - accuracy: 0.9798 - val_loss: 0.4523 - val_accuracy: 0.8747\n",
            "Epoch 9/10\n",
            "391/391 [==============================] - ETA: 0s - loss: 0.0399 - accuracy: 0.9880\n",
            "Epoch 00009: val_loss did not improve from 0.27382\n",
            "391/391 [==============================] - 46s 119ms/step - loss: 0.0399 - accuracy: 0.9880 - val_loss: 0.5951 - val_accuracy: 0.8750\n",
            "Epoch 10/10\n",
            "391/391 [==============================] - ETA: 0s - loss: 0.0384 - accuracy: 0.9881\n",
            "Epoch 00010: val_loss did not improve from 0.27382\n",
            "391/391 [==============================] - 46s 118ms/step - loss: 0.0384 - accuracy: 0.9881 - val_loss: 0.5445 - val_accuracy: 0.8690\n"
          ],
          "name": "stdout"
        }
      ]
    },
    {
      "cell_type": "code",
      "metadata": {
        "id": "An9k1Gwj-JXB",
        "colab_type": "code",
        "colab": {}
      },
      "source": [
        "# Best Model 선택\n",
        "from tensorflow.keras.models import load_model\n",
        "# del model\n",
        "model = load_model('model/imdb-gru-03-0.2738.hdf5')"
      ],
      "execution_count": 24,
      "outputs": []
    },
    {
      "cell_type": "code",
      "metadata": {
        "id": "B84VnFDm-aUE",
        "colab_type": "code",
        "colab": {
          "base_uri": "https://localhost:8080/",
          "height": 71
        },
        "outputId": "5026083d-ed8a-4345-8368-387e2ba9ecdd"
      },
      "source": [
        "print(\"\\n 테스트 정확도: %.4f\" % (model.evaluate(X_test, y_test, verbose=2)[1]))"
      ],
      "execution_count": 25,
      "outputs": [
        {
          "output_type": "stream",
          "text": [
            "782/782 - 27s - loss: 0.2738 - accuracy: 0.8919\n",
            "\n",
            " 테스트 정확도: 0.8919\n"
          ],
          "name": "stdout"
        }
      ]
    },
    {
      "cell_type": "code",
      "metadata": {
        "id": "6wUPUd-f-bvY",
        "colab_type": "code",
        "colab": {}
      },
      "source": [
        "# 테스트셋\n",
        "y_vloss = history.history['val_loss']\n",
        "y_vacc = history.history['val_accuracy']\n",
        "# 학습셋\n",
        "y_loss = history.history['loss']\n",
        "y_acc = history.history['accuracy']"
      ],
      "execution_count": 26,
      "outputs": []
    },
    {
      "cell_type": "code",
      "metadata": {
        "id": "HN78y3Ir-c14",
        "colab_type": "code",
        "colab": {
          "base_uri": "https://localhost:8080/",
          "height": 497
        },
        "outputId": "17298abb-5026-40e5-fe1d-841f750d1081"
      },
      "source": [
        "x_len = np.arange(1, len(y_loss)+1)\n",
        "fig, ax0 = plt.subplots(figsize=(10,8))\n",
        "ax1 = ax0.twinx()\n",
        "ax0.plot(x_len, y_loss, c=\"blue\", label='Trainset_loss')\n",
        "ax0.plot(x_len, y_vloss, c=\"red\", label='Testset_loss')\n",
        "ax0.set_ylabel('loss')\n",
        "ax1.plot(x_len, y_acc, c=\"darkgreen\", label='Trainset_acc')\n",
        "ax1.plot(x_len, y_vacc, c=\"magenta\", label='Testset_acc')\n",
        "ax1.set_ylabel('accuracy')\n",
        "ax0.set_xlabel('epoch')\n",
        "ax0.legend(loc='lower center')\n",
        "ax1.legend(loc='upper center')\n",
        "plt.grid()\n",
        "plt.show()"
      ],
      "execution_count": 27,
      "outputs": [
        {
          "output_type": "display_data",
          "data": {
            "image/png": "[encoded data removed]",
            "text/plain": [
              "<Figure size 720x576 with 2 Axes>"
            ]
          },
          "metadata": {
            "tags": [],
            "needs_background": "light"
          }
        }
      ]
    },
    {
      "cell_type": "code",
      "metadata": {
        "id": "2-2V06eCAZIl",
        "colab_type": "code",
        "colab": {}
      },
      "source": [
        ""
      ],
      "execution_count": null,
      "outputs": []
    }
  ]
}