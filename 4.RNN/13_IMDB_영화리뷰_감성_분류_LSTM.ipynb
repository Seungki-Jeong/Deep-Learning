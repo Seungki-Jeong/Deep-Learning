{
 "cells": [
  {
   "cell_type": "code",
   "execution_count": 1,
   "metadata": {
    "colab": {
     "base_uri": "https://localhost:8080/",
     "height": 35
    },
    "colab_type": "code",
    "id": "jnt8jl0K3nRP",
    "outputId": "7216bec2-7de1-4fd4-f068-73c59bf0d9f6"
   },
   "outputs": [
    {
     "name": "stdout",
     "output_type": "stream",
     "text": [
      "Found GPU at: /device:GPU:0\n"
     ]
    }
   ],
   "source": [
    "%tensorflow_version 2.x\n",
    "import tensorflow as tf\n",
    "device_name = tf.test.gpu_device_name()\n",
    "if device_name != '/device:GPU:0':\n",
    "  raise SystemError('GPU device not found')\n",
    "print('Found GPU at: {}'.format(device_name))"
   ]
  },
  {
   "cell_type": "markdown",
   "metadata": {
    "colab_type": "text",
    "id": "PEtihm8r4dfZ"
   },
   "source": [
    "\n",
    "#IMDB 영화 리뷰 감성 분류"
   ]
  },
  {
   "cell_type": "markdown",
   "metadata": {
    "colab_type": "text",
    "id": "onRpeiTp4gRQ"
   },
   "source": [
    "##1. IMDB 리뷰 데이터에 대한 이해"
   ]
  },
  {
   "cell_type": "code",
   "execution_count": 3,
   "metadata": {
    "colab": {
     "base_uri": "https://localhost:8080/",
     "height": 73
    },
    "colab_type": "code",
    "id": "djYPbjfU3unj",
    "outputId": "ef8a44bb-616f-437a-c89a-358379983304"
   },
   "outputs": [
    {
     "name": "stderr",
     "output_type": "stream",
     "text": [
      "/usr/local/lib/python3.6/dist-packages/statsmodels/tools/_testing.py:19: FutureWarning: pandas.util.testing is deprecated. Use the functions in the public API at pandas.testing instead.\n",
      "  import pandas.util.testing as tm\n"
     ]
    }
   ],
   "source": [
    "import numpy as np\n",
    "import matplotlib.pyplot as plt\n",
    "%matplotlib inline\n",
    "import seaborn as sns\n",
    "from tensorflow.keras.datasets import imdb"
   ]
  },
  {
   "cell_type": "code",
   "execution_count": 4,
   "metadata": {
    "colab": {
     "base_uri": "https://localhost:8080/",
     "height": 53
    },
    "colab_type": "code",
    "id": "mTErI2dm4aPE",
    "outputId": "1606131d-c935-4bd5-8435-d1e2fb404a77"
   },
   "outputs": [
    {
     "name": "stdout",
     "output_type": "stream",
     "text": [
      "Downloading data from https://storage.googleapis.com/tensorflow/tf-keras-datasets/imdb.npz\n",
      "17465344/17464789 [==============================] - 0s 0us/step\n"
     ]
    }
   ],
   "source": [
    "# 훈련 데이터와 테스트 데이터를 50:50 비율로 구분해서 제공\n",
    "(X_train, y_train), (X_test, y_test) = imdb.load_data(num_words=None)"
   ]
  },
  {
   "cell_type": "code",
   "execution_count": 5,
   "metadata": {
    "colab": {
     "base_uri": "https://localhost:8080/",
     "height": 35
    },
    "colab_type": "code",
    "id": "OMjKDjpJ4kjx",
    "outputId": "c2525920-7a38-4c37-baee-f2dcd953a260"
   },
   "outputs": [
    {
     "data": {
      "text/plain": [
       "(25000, 25000)"
      ]
     },
     "execution_count": 5,
     "metadata": {
      "tags": []
     },
     "output_type": "execute_result"
    }
   ],
   "source": [
    "len(X_train), len(X_test)"
   ]
  },
  {
   "cell_type": "code",
   "execution_count": 6,
   "metadata": {
    "colab": {
     "base_uri": "https://localhost:8080/",
     "height": 35
    },
    "colab_type": "code",
    "id": "jSO2FMk-4l_p",
    "outputId": "47e8a0f4-6b16-45da-8fc1-b425208d0a04"
   },
   "outputs": [
    {
     "name": "stdout",
     "output_type": "stream",
     "text": [
      "카테고리 : 2\n"
     ]
    }
   ],
   "source": [
    "# 긍정: 1, 부정: 0\n",
    "print('카테고리 : {}'.format(max(y_train) + 1))"
   ]
  },
  {
   "cell_type": "code",
   "execution_count": 7,
   "metadata": {
    "colab": {
     "base_uri": "https://localhost:8080/",
     "height": 197
    },
    "colab_type": "code",
    "id": "vXcQlYnt4nAY",
    "outputId": "0e6c0d93-08a8-4c7f-97e6-e9b29393bcdb"
   },
   "outputs": [
    {
     "name": "stdout",
     "output_type": "stream",
     "text": [
      "218\n",
      "189\n",
      "141\n",
      "550\n",
      "147\n",
      "43\n",
      "123\n",
      "562\n",
      "233\n",
      "130\n"
     ]
    }
   ],
   "source": [
    "for i in range(10):\n",
    "    print(len(X_train[i]))"
   ]
  },
  {
   "cell_type": "code",
   "execution_count": 8,
   "metadata": {
    "colab": {
     "base_uri": "https://localhost:8080/",
     "height": 73
    },
    "colab_type": "code",
    "id": "0ahywC994oAJ",
    "outputId": "a38aadf5-77bd-46b0-abe6-b76cb155b58f"
   },
   "outputs": [
    {
     "name": "stdout",
     "output_type": "stream",
     "text": [
      "[1, 6740, 365, 1234, 5, 1156, 354, 11, 14, 5327, 6638, 7, 1016, 10626, 5940, 356, 44, 4, 1349, 500, 746, 5, 200, 4, 4132, 11, 16393, 9363, 1117, 1831, 7485, 5, 4831, 26, 6, 71690, 4183, 17, 369, 37, 215, 1345, 143, 32677, 5, 1838, 8, 1974, 15, 36, 119, 257, 85, 52, 486, 9, 6, 26441, 8564, 63, 271, 6, 196, 96, 949, 4121, 4, 74170, 7, 4, 2212, 2436, 819, 63, 47, 77, 7175, 180, 6, 227, 11, 94, 2494, 33740, 13, 423, 4, 168, 7, 4, 22, 5, 89, 665, 71, 270, 56, 5, 13, 197, 12, 161, 5390, 99, 76, 23, 77842, 7, 419, 665, 40, 91, 85, 108, 7, 4, 2084, 5, 4773, 81, 55, 52, 1901]\n",
      "1\n"
     ]
    }
   ],
   "source": [
    "# 일곱번째 데이터 확인\n",
    "print(X_train[6])\n",
    "print(y_train[6])"
   ]
  },
  {
   "cell_type": "code",
   "execution_count": 9,
   "metadata": {
    "colab": {
     "base_uri": "https://localhost:8080/",
     "height": 53
    },
    "colab_type": "code",
    "id": "aG6zHVji4pA4",
    "outputId": "b72ac92a-6dfa-483f-c15a-2acf3f57367d"
   },
   "outputs": [
    {
     "name": "stdout",
     "output_type": "stream",
     "text": [
      "리뷰의 최대 길이 : 2494\n",
      "리뷰의 평균 길이 : 238.71364\n"
     ]
    }
   ],
   "source": [
    "# 리뷰의 길이 분포\n",
    "print('리뷰의 최대 길이 : {}'.format(max(len(l) for l in X_train)))\n",
    "print('리뷰의 평균 길이 : {}'.format(sum(map(len, X_train))/len(X_train)))"
   ]
  },
  {
   "cell_type": "code",
   "execution_count": 10,
   "metadata": {
    "colab": {
     "base_uri": "https://localhost:8080/",
     "height": 279
    },
    "colab_type": "code",
    "id": "0uFFpPzW4qPJ",
    "outputId": "13ba42fd-80cc-47be-e844-c8cc06adc830"
   },
   "outputs": [
    {
     "data": {
      "image/png": "[encoded data removed]",
      "text/plain": [
       "<Figure size 432x288 with 1 Axes>"
      ]
     },
     "metadata": {
      "needs_background": "light",
      "tags": []
     },
     "output_type": "display_data"
    }
   ],
   "source": [
    "plt.hist([len(s) for s in X_train], bins=50)\n",
    "plt.xlabel('length of samples')\n",
    "plt.ylabel('number of samples')\n",
    "plt.show()"
   ]
  },
  {
   "cell_type": "code",
   "execution_count": 11,
   "metadata": {
    "colab": {
     "base_uri": "https://localhost:8080/",
     "height": 71
    },
    "colab_type": "code",
    "id": "udqI7WqB4rMh",
    "outputId": "e62899bf-de31-4ee8-f9e7-b49f6c9cb562"
   },
   "outputs": [
    {
     "name": "stdout",
     "output_type": "stream",
     "text": [
      "각 레이블에 대한 빈도수:\n",
      "[[    0     1]\n",
      " [12500 12500]]\n"
     ]
    }
   ],
   "source": [
    "# 레이블의 분포\n",
    "unique_elements, counts_elements = np.unique(y_train, return_counts=True)\n",
    "print(\"각 레이블에 대한 빈도수:\")\n",
    "print(np.asarray((unique_elements, counts_elements)))"
   ]
  },
  {
   "cell_type": "code",
   "execution_count": 12,
   "metadata": {
    "colab": {
     "base_uri": "https://localhost:8080/",
     "height": 71
    },
    "colab_type": "code",
    "id": "GteUxm7V4sNg",
    "outputId": "e12cdbb0-d883-475f-dea6-1419a2e04347"
   },
   "outputs": [
    {
     "name": "stdout",
     "output_type": "stream",
     "text": [
      "Downloading data from https://storage.googleapis.com/tensorflow/tf-keras-datasets/imdb_word_index.json\n",
      "1646592/1641221 [==============================] - 0s 0us/step\n"
     ]
    },
    {
     "data": {
      "text/plain": [
       "88584"
      ]
     },
     "execution_count": 12,
     "metadata": {
      "tags": []
     },
     "output_type": "execute_result"
    }
   ],
   "source": [
    "# X_train에 들어있는 숫자들이 각자 어떤 단어들을 나타내고 있는지 확인\n",
    "word_to_index = imdb.get_word_index()\n",
    "index_to_word={}\n",
    "for key, value in word_to_index.items():\n",
    "    index_to_word[value] = key\n",
    "len(word_to_index)"
   ]
  },
  {
   "cell_type": "code",
   "execution_count": 13,
   "metadata": {
    "colab": {
     "base_uri": "https://localhost:8080/",
     "height": 71
    },
    "colab_type": "code",
    "id": "nSw9knVC4tTg",
    "outputId": "98912e1e-8123-4c68-b785-1abba083c14f"
   },
   "outputs": [
    {
     "name": "stdout",
     "output_type": "stream",
     "text": [
      "빈도수 상위 1번 단어 : the\n",
      "빈도수 상위 12345번 단어 : liberated\n",
      "빈도수 최하위(88584) 단어 : 'l'\n"
     ]
    }
   ],
   "source": [
    "print('빈도수 상위 1번 단어 : {}'.format(index_to_word[1]))\n",
    "print('빈도수 상위 12345번 단어 : {}'.format(index_to_word[12345]))\n",
    "print('빈도수 최하위(88584) 단어 : {}'.format(index_to_word[88584]))"
   ]
  },
  {
   "cell_type": "code",
   "execution_count": 14,
   "metadata": {
    "colab": {
     "base_uri": "https://localhost:8080/",
     "height": 55
    },
    "colab_type": "code",
    "id": "inZz4Rnn4uvE",
    "outputId": "ce827896-f2df-4f26-a13e-e0185658dcca"
   },
   "outputs": [
    {
     "name": "stdout",
     "output_type": "stream",
     "text": [
      "the boiled full involving to impressive boring this as murdering naschy br villain council suggestion need has of costumes b message to may of props this echoed concentrates concept issue skeptical to god's he is dedications unfolds movie women like isn't surely i'm rocketed to toward in here's for from did having because very quality it is captain's starship really book is both too worked carl of mayfair br of reviewer closer figure really there will originals things is far this make mistakes kevin's was couldn't of few br of you to don't female than place she to was between that nothing dose movies get are 498 br yes female just its because many br of overly to descent people time very bland\n"
     ]
    }
   ],
   "source": [
    "# 일곱번째 리뷰 복원\n",
    "print(' '.join([index_to_word[s] for s in X_train[6]]))"
   ]
  },
  {
   "cell_type": "markdown",
   "metadata": {
    "colab_type": "text",
    "id": "-bay4ik55JPD"
   },
   "source": [
    "Text -> 숫자 ==> LSTM, GRU, LSTM + CNN, Logistic Reg(LR), Naive Bayes\n",
    "등등 다양하게 분석 가능"
   ]
  },
  {
   "cell_type": "markdown",
   "metadata": {
    "colab_type": "text",
    "id": "1MKAiNMA4zHS"
   },
   "source": [
    "##2. LSTM으로 IMDB 리뷰 감성 분류\n",
    "* 모든 단어가 아닌 빈도수 5000 까지\n",
    "* 모든 문장이 아니라 500 단어까지"
   ]
  },
  {
   "cell_type": "code",
   "execution_count": 15,
   "metadata": {
    "colab": {},
    "colab_type": "code",
    "id": "0j4LMatj4wX4"
   },
   "outputs": [],
   "source": [
    "from tensorflow.keras.models import Sequential\n",
    "from tensorflow.keras.layers import Dense, LSTM, Embedding\n",
    "from tensorflow.keras.preprocessing.sequence import pad_sequences"
   ]
  },
  {
   "cell_type": "code",
   "execution_count": 16,
   "metadata": {
    "colab": {},
    "colab_type": "code",
    "id": "Z3CvLqlL6CTC"
   },
   "outputs": [],
   "source": [
    "# 등장 빈도가 5,000번째까지의 단어들만 사용\n",
    "(X_train, y_train), (X_test, y_test) = imdb.load_data(num_words=5000)"
   ]
  },
  {
   "cell_type": "code",
   "execution_count": 18,
   "metadata": {
    "colab": {},
    "colab_type": "code",
    "id": "iut1Qlt96MRw"
   },
   "outputs": [],
   "source": [
    "# 모델의 입력으로 사용하는 모든 리뷰의 길이를 동일하게 500으로 맞춤\n",
    "max_len=500\n",
    "X_train = pad_sequences(X_train, maxlen=max_len)\n",
    "X_test = pad_sequences(X_test, maxlen=max_len)"
   ]
  },
  {
   "cell_type": "code",
   "execution_count": 19,
   "metadata": {
    "colab": {
     "base_uri": "https://localhost:8080/",
     "height": 269
    },
    "colab_type": "code",
    "id": "wjQXBWEM6OFJ",
    "outputId": "8a910b66-1c68-426e-c8c5-44154b233ca9"
   },
   "outputs": [
    {
     "name": "stdout",
     "output_type": "stream",
     "text": [
      "Model: \"sequential\"\n",
      "_________________________________________________________________\n",
      "Layer (type)                 Output Shape              Param #   \n",
      "=================================================================\n",
      "embedding (Embedding)        (None, None, 120)         600000    \n",
      "_________________________________________________________________\n",
      "lstm (LSTM)                  (None, 120)               115680    \n",
      "_________________________________________________________________\n",
      "dense (Dense)                (None, 1)                 121       \n",
      "=================================================================\n",
      "Total params: 715,801\n",
      "Trainable params: 715,801\n",
      "Non-trainable params: 0\n",
      "_________________________________________________________________\n"
     ]
    }
   ],
   "source": [
    "# LSTM 모델\n",
    "model = Sequential()\n",
    "model.add(Embedding(5000, 120))\n",
    "model.add(LSTM(120))\n",
    "model.add(Dense(1, activation='sigmoid'))\n",
    "model.summary()"
   ]
  },
  {
   "cell_type": "code",
   "execution_count": 20,
   "metadata": {
    "colab": {},
    "colab_type": "code",
    "id": "7hD4GzlO6QJA"
   },
   "outputs": [],
   "source": [
    "# 모델의 컴파일, 이진 분류\n",
    "model.compile(loss='binary_crossentropy',\n",
    "              optimizer='adam',\n",
    "              metrics=['accuracy'])"
   ]
  },
  {
   "cell_type": "code",
   "execution_count": 21,
   "metadata": {
    "colab": {},
    "colab_type": "code",
    "id": "EqTG-UFn6Ui4"
   },
   "outputs": [],
   "source": [
    "from tensorflow.keras.callbacks import ModelCheckpoint\n",
    "modelpath = \"model/imdb-{epoch:02d}-{val_loss:.4f}.hdf5\"\n",
    "checkpointer = ModelCheckpoint(filepath=modelpath, monitor='val_loss', \n",
    "                               verbose=1, save_best_only=True)"
   ]
  },
  {
   "cell_type": "code",
   "execution_count": 25,
   "metadata": {
    "colab": {
     "base_uri": "https://localhost:8080/",
     "height": 757
    },
    "colab_type": "code",
    "id": "6FxLuWHL6WOI",
    "outputId": "0e2be157-9d64-4d72-ab9e-55393d8f3542"
   },
   "outputs": [
    {
     "name": "stdout",
     "output_type": "stream",
     "text": [
      "Epoch 1/10\n",
      "391/391 [==============================] - ETA: 0s - loss: 0.3384 - accuracy: 0.8642\n",
      "Epoch 00001: val_loss improved from inf to 0.34884, saving model to model/imdb-01-0.3488.hdf5\n",
      "391/391 [==============================] - 50s 129ms/step - loss: 0.3384 - accuracy: 0.8642 - val_loss: 0.3488 - val_accuracy: 0.8552\n",
      "Epoch 2/10\n",
      "391/391 [==============================] - ETA: 0s - loss: 0.2946 - accuracy: 0.8795\n",
      "Epoch 00002: val_loss did not improve from 0.34884\n",
      "391/391 [==============================] - 49s 126ms/step - loss: 0.2946 - accuracy: 0.8795 - val_loss: 0.3950 - val_accuracy: 0.8446\n",
      "Epoch 3/10\n",
      "391/391 [==============================] - ETA: 0s - loss: 0.2248 - accuracy: 0.9100\n",
      "Epoch 00003: val_loss improved from 0.34884 to 0.32126, saving model to model/imdb-03-0.3213.hdf5\n",
      "391/391 [==============================] - 50s 127ms/step - loss: 0.2248 - accuracy: 0.9100 - val_loss: 0.3213 - val_accuracy: 0.8658\n",
      "Epoch 4/10\n",
      "391/391 [==============================] - ETA: 0s - loss: 0.1830 - accuracy: 0.9302\n",
      "Epoch 00004: val_loss did not improve from 0.32126\n",
      "391/391 [==============================] - 49s 126ms/step - loss: 0.1830 - accuracy: 0.9302 - val_loss: 0.3376 - val_accuracy: 0.8750\n",
      "Epoch 5/10\n",
      "391/391 [==============================] - ETA: 0s - loss: 0.1471 - accuracy: 0.9448\n",
      "Epoch 00005: val_loss did not improve from 0.32126\n",
      "391/391 [==============================] - 50s 127ms/step - loss: 0.1471 - accuracy: 0.9448 - val_loss: 0.3732 - val_accuracy: 0.8699\n",
      "Epoch 6/10\n",
      "391/391 [==============================] - ETA: 0s - loss: 0.1388 - accuracy: 0.9474\n",
      "Epoch 00006: val_loss did not improve from 0.32126\n",
      "391/391 [==============================] - 49s 126ms/step - loss: 0.1388 - accuracy: 0.9474 - val_loss: 0.4054 - val_accuracy: 0.8656\n",
      "Epoch 7/10\n",
      "391/391 [==============================] - ETA: 0s - loss: 0.1329 - accuracy: 0.9496\n",
      "Epoch 00007: val_loss did not improve from 0.32126\n",
      "391/391 [==============================] - 50s 127ms/step - loss: 0.1329 - accuracy: 0.9496 - val_loss: 0.4042 - val_accuracy: 0.8568\n",
      "Epoch 8/10\n",
      "391/391 [==============================] - ETA: 0s - loss: 0.1242 - accuracy: 0.9530\n",
      "Epoch 00008: val_loss did not improve from 0.32126\n",
      "391/391 [==============================] - 49s 125ms/step - loss: 0.1242 - accuracy: 0.9530 - val_loss: 0.4179 - val_accuracy: 0.8640\n",
      "Epoch 9/10\n",
      "391/391 [==============================] - ETA: 0s - loss: 0.0962 - accuracy: 0.9650\n",
      "Epoch 00009: val_loss did not improve from 0.32126\n",
      "391/391 [==============================] - 49s 125ms/step - loss: 0.0962 - accuracy: 0.9650 - val_loss: 0.4699 - val_accuracy: 0.8547\n",
      "Epoch 10/10\n",
      "391/391 [==============================] - ETA: 0s - loss: 0.0656 - accuracy: 0.9784\n",
      "Epoch 00010: val_loss did not improve from 0.32126\n",
      "391/391 [==============================] - 50s 127ms/step - loss: 0.0656 - accuracy: 0.9784 - val_loss: 0.5762 - val_accuracy: 0.8633\n"
     ]
    }
   ],
   "source": [
    "history = model.fit(X_train, y_train, validation_data=(X_test, y_test), epochs=10,\n",
    "                    batch_size=64, callbacks=[checkpointer], verbose = 1)"
   ]
  },
  {
   "cell_type": "code",
   "execution_count": 26,
   "metadata": {
    "colab": {},
    "colab_type": "code",
    "id": "B33AoVrx6Zzo"
   },
   "outputs": [],
   "source": [
    "# Best Model 선택\n",
    "from tensorflow.keras.models import load_model\n",
    "# del model\n",
    "model = load_model('model/imdb-03-0.3213.hdf5')"
   ]
  },
  {
   "cell_type": "code",
   "execution_count": 27,
   "metadata": {
    "colab": {
     "base_uri": "https://localhost:8080/",
     "height": 71
    },
    "colab_type": "code",
    "id": "tPKBdyJz75a7",
    "outputId": "bb3c1c38-223d-4f8b-9c54-0db7ad46185d"
   },
   "outputs": [
    {
     "name": "stdout",
     "output_type": "stream",
     "text": [
      "782/782 - 27s - loss: 0.3213 - accuracy: 0.8658\n",
      "\n",
      " 테스트 정확도: 0.8658\n"
     ]
    }
   ],
   "source": [
    "print(\"\\n 테스트 정확도: %.4f\" % (model.evaluate(X_test, y_test, verbose=2)[1]))"
   ]
  },
  {
   "cell_type": "code",
   "execution_count": 28,
   "metadata": {
    "colab": {},
    "colab_type": "code",
    "id": "u4Z1M4yp77Pg"
   },
   "outputs": [],
   "source": [
    "# 테스트셋\n",
    "y_vloss = history.history['val_loss']\n",
    "y_vacc = history.history['val_accuracy']\n",
    "# 학습셋\n",
    "y_loss = history.history['loss']\n",
    "y_acc = history.history['accuracy']"
   ]
  },
  {
   "cell_type": "code",
   "execution_count": 29,
   "metadata": {
    "colab": {
     "base_uri": "https://localhost:8080/",
     "height": 499
    },
    "colab_type": "code",
    "id": "ss_Fm28v7_lT",
    "outputId": "83d7607f-199f-4a29-d419-5ee95c56794e"
   },
   "outputs": [
    {
     "data": {
      "image/png": "[encoded data removed]",
      "text/plain": [
       "<Figure size 720x576 with 2 Axes>"
      ]
     },
     "metadata": {
      "needs_background": "light",
      "tags": []
     },
     "output_type": "display_data"
    }
   ],
   "source": [
    "x_len = np.arange(1, len(y_loss)+1)\n",
    "fig, ax0 = plt.subplots(figsize=(10,8))\n",
    "ax1 = ax0.twinx()\n",
    "ax0.plot(x_len, y_loss, c=\"blue\", label='Trainset_loss')\n",
    "ax0.plot(x_len, y_vloss, c=\"red\", label='Testset_loss')\n",
    "ax0.set_ylabel('loss')\n",
    "ax1.plot(x_len, y_acc, c=\"darkgreen\", label='Trainset_acc')\n",
    "ax1.plot(x_len, y_vacc, c=\"magenta\", label='Testset_acc')\n",
    "ax1.set_ylabel('accuracy')\n",
    "ax0.set_xlabel('epoch')\n",
    "ax0.legend(loc='lower center')\n",
    "ax1.legend(loc='upper center')\n",
    "plt.grid()\n",
    "plt.show()"
   ]
  },
  {
   "cell_type": "code",
   "execution_count": null,
   "metadata": {
    "colab": {},
    "colab_type": "code",
    "id": "vWNctMOO8wIS"
   },
   "outputs": [],
   "source": []
  }
 ],
 "metadata": {
  "colab": {
   "name": "13_IMDB 영화리뷰 감성 분류-LSTM",
   "provenance": []
  },
  "kernelspec": {
   "display_name": "Python 3",
   "language": "python",
   "name": "python3"
  },
  "language_info": {
   "codemirror_mode": {
    "name": "ipython",
    "version": 3
   },
   "file_extension": ".py",
   "mimetype": "text/x-python",
   "name": "python",
   "nbconvert_exporter": "python",
   "pygments_lexer": "ipython3",
   "version": "3.7.7"
  }
 },
 "nbformat": 4,
 "nbformat_minor": 1
}
