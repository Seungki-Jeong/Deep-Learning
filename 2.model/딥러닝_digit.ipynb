{
 "cells": [
  {
   "cell_type": "markdown",
   "metadata": {},
   "source": [
    "# digit 데이터 딥러닝"
   ]
  },
  {
   "cell_type": "markdown",
   "metadata": {},
   "source": [
    "- random = 2020\n",
    "- train / test = 8:2\n",
    "- validation = 0.2"
   ]
  },
  {
   "cell_type": "code",
   "execution_count": 1,
   "metadata": {},
   "outputs": [],
   "source": [
    "from sklearn.datasets import load_digits"
   ]
  },
  {
   "cell_type": "code",
   "execution_count": 2,
   "metadata": {},
   "outputs": [],
   "source": [
    "digits = load_digits()"
   ]
  },
  {
   "cell_type": "code",
   "execution_count": 3,
   "metadata": {},
   "outputs": [
    {
     "data": {
      "text/plain": [
       "array([[ 0.,  0.,  5., ...,  0.,  0.,  0.],\n",
       "       [ 0.,  0.,  0., ..., 10.,  0.,  0.],\n",
       "       [ 0.,  0.,  0., ..., 16.,  9.,  0.],\n",
       "       ...,\n",
       "       [ 0.,  0.,  1., ...,  6.,  0.,  0.],\n",
       "       [ 0.,  0.,  2., ..., 12.,  0.,  0.],\n",
       "       [ 0.,  0., 10., ..., 12.,  1.,  0.]])"
      ]
     },
     "execution_count": 3,
     "metadata": {},
     "output_type": "execute_result"
    }
   ],
   "source": [
    "digits.data"
   ]
  },
  {
   "cell_type": "code",
   "execution_count": 4,
   "metadata": {},
   "outputs": [
    {
     "data": {
      "text/plain": [
       "(1797, 64)"
      ]
     },
     "execution_count": 4,
     "metadata": {},
     "output_type": "execute_result"
    }
   ],
   "source": [
    "digits.data.shape"
   ]
  },
  {
   "cell_type": "code",
   "execution_count": 5,
   "metadata": {},
   "outputs": [
    {
     "data": {
      "text/plain": [
       "array([0, 1, 2, ..., 8, 9, 8])"
      ]
     },
     "execution_count": 5,
     "metadata": {},
     "output_type": "execute_result"
    }
   ],
   "source": [
    "digits.target"
   ]
  },
  {
   "cell_type": "code",
   "execution_count": 6,
   "metadata": {},
   "outputs": [
    {
     "data": {
      "text/plain": [
       "(1797,)"
      ]
     },
     "execution_count": 6,
     "metadata": {},
     "output_type": "execute_result"
    }
   ],
   "source": [
    "digits.target.shape"
   ]
  },
  {
   "cell_type": "code",
   "execution_count": 7,
   "metadata": {},
   "outputs": [
    {
     "data": {
      "text/plain": [
       "'2.1.0'"
      ]
     },
     "execution_count": 7,
     "metadata": {},
     "output_type": "execute_result"
    }
   ],
   "source": [
    "import numpy as np\n",
    "import tensorflow as tf\n",
    "tf.__version__"
   ]
  },
  {
   "cell_type": "code",
   "execution_count": 8,
   "metadata": {},
   "outputs": [],
   "source": [
    "from tensorflow.keras.models import Sequential\n",
    "from tensorflow.keras.layers import Dense"
   ]
  },
  {
   "cell_type": "code",
   "execution_count": 9,
   "metadata": {},
   "outputs": [],
   "source": [
    "seed = 150\n",
    "np.random.seed(seed)\n",
    "tf.random.set_seed(seed)"
   ]
  },
  {
   "cell_type": "code",
   "execution_count": 10,
   "metadata": {},
   "outputs": [
    {
     "data": {
      "text/plain": [
       "((1797, 64), (1797,))"
      ]
     },
     "execution_count": 10,
     "metadata": {},
     "output_type": "execute_result"
    }
   ],
   "source": [
    "X = digits.data\n",
    "Y = digits.target\n",
    "X.shape, Y.shape"
   ]
  },
  {
   "cell_type": "code",
   "execution_count": 11,
   "metadata": {},
   "outputs": [],
   "source": [
    "from sklearn.model_selection import train_test_split"
   ]
  },
  {
   "cell_type": "code",
   "execution_count": 12,
   "metadata": {},
   "outputs": [],
   "source": [
    "X_train, X_test, y_train, y_test = train_test_split(X, Y, test_size = 0.2,\n",
    "                                                    random_state = 2020)"
   ]
  },
  {
   "cell_type": "code",
   "execution_count": 13,
   "metadata": {},
   "outputs": [
    {
     "name": "stdout",
     "output_type": "stream",
     "text": [
      "Model: \"sequential\"\n",
      "_________________________________________________________________\n",
      "Layer (type)                 Output Shape              Param #   \n",
      "=================================================================\n",
      "dense (Dense)                (None, 128)               8320      \n",
      "_________________________________________________________________\n",
      "dense_1 (Dense)              (None, 64)                8256      \n",
      "_________________________________________________________________\n",
      "dense_2 (Dense)              (None, 32)                2080      \n",
      "_________________________________________________________________\n",
      "dense_3 (Dense)              (None, 16)                528       \n",
      "_________________________________________________________________\n",
      "dense_4 (Dense)              (None, 10)                170       \n",
      "=================================================================\n",
      "Total params: 19,354\n",
      "Trainable params: 19,354\n",
      "Non-trainable params: 0\n",
      "_________________________________________________________________\n"
     ]
    }
   ],
   "source": [
    "model = Sequential([\n",
    "    Dense(128, input_dim = 64, activation = 'relu'),\n",
    "    Dense(64, activation = 'relu'),\n",
    "    Dense(32, activation = 'relu'),\n",
    "    Dense(16, activation = 'relu'),\n",
    "    Dense(10, activation = 'softmax')\n",
    "])\n",
    "model.summary()"
   ]
  },
  {
   "cell_type": "code",
   "execution_count": 14,
   "metadata": {},
   "outputs": [],
   "source": [
    "model.compile(loss='sparse_categorical_crossentropy',   # mean_squared_error\n",
    "              optimizer='Nadam', #Nadam: 9933\n",
    "              metrics=['accuracy'])"
   ]
  },
  {
   "cell_type": "code",
   "execution_count": 15,
   "metadata": {},
   "outputs": [],
   "source": [
    "from tensorflow.keras.callbacks import ModelCheckpoint, EarlyStopping"
   ]
  },
  {
   "cell_type": "code",
   "execution_count": 16,
   "metadata": {},
   "outputs": [],
   "source": [
    "early_stopping_callback = EarlyStopping(monitor='val_loss', patience=100)"
   ]
  },
  {
   "cell_type": "code",
   "execution_count": 17,
   "metadata": {},
   "outputs": [
    {
     "name": "stdout",
     "output_type": "stream",
     "text": [
      "Train on 1149 samples, validate on 288 samples\n",
      "Epoch 1/3000\n",
      "1149/1149 [==============================] - 1s 577us/sample - loss: 3.2202 - accuracy: 0.1036 - val_loss: 2.3196 - val_accuracy: 0.1424\n",
      "Epoch 2/3000\n",
      "1149/1149 [==============================] - 0s 15us/sample - loss: 2.1352 - accuracy: 0.1967 - val_loss: 1.9404 - val_accuracy: 0.3229\n",
      "Epoch 3/3000\n",
      "1149/1149 [==============================] - 0s 16us/sample - loss: 1.8427 - accuracy: 0.3734 - val_loss: 1.7309 - val_accuracy: 0.4410\n",
      "Epoch 4/3000\n",
      "1149/1149 [==============================] - 0s 26us/sample - loss: 1.6198 - accuracy: 0.4830 - val_loss: 1.4884 - val_accuracy: 0.5312\n",
      "Epoch 5/3000\n",
      "1149/1149 [==============================] - 0s 15us/sample - loss: 1.3407 - accuracy: 0.5596 - val_loss: 1.2456 - val_accuracy: 0.5833\n",
      "Epoch 6/3000\n",
      "1149/1149 [==============================] - 0s 15us/sample - loss: 1.0950 - accuracy: 0.6327 - val_loss: 1.0091 - val_accuracy: 0.6458\n",
      "Epoch 7/3000\n",
      "1149/1149 [==============================] - 0s 16us/sample - loss: 0.8957 - accuracy: 0.6928 - val_loss: 0.8640 - val_accuracy: 0.6944\n",
      "Epoch 8/3000\n",
      "1149/1149 [==============================] - 0s 15us/sample - loss: 0.7177 - accuracy: 0.7781 - val_loss: 0.6782 - val_accuracy: 0.8056\n",
      "Epoch 9/3000\n",
      "1149/1149 [==============================] - 0s 15us/sample - loss: 0.5984 - accuracy: 0.8407 - val_loss: 0.5795 - val_accuracy: 0.8542\n",
      "Epoch 10/3000\n",
      "1149/1149 [==============================] - 0s 15us/sample - loss: 0.4869 - accuracy: 0.8895 - val_loss: 0.5038 - val_accuracy: 0.8889\n",
      "Epoch 11/3000\n",
      "1149/1149 [==============================] - 0s 15us/sample - loss: 0.4269 - accuracy: 0.8982 - val_loss: 0.4323 - val_accuracy: 0.8993\n",
      "Epoch 12/3000\n",
      "1149/1149 [==============================] - 0s 15us/sample - loss: 0.3600 - accuracy: 0.9225 - val_loss: 0.3603 - val_accuracy: 0.9028\n",
      "Epoch 13/3000\n",
      "1149/1149 [==============================] - 0s 15us/sample - loss: 0.2961 - accuracy: 0.9365 - val_loss: 0.3164 - val_accuracy: 0.9132\n",
      "Epoch 14/3000\n",
      "1149/1149 [==============================] - 0s 14us/sample - loss: 0.2459 - accuracy: 0.9478 - val_loss: 0.2702 - val_accuracy: 0.9340\n",
      "Epoch 15/3000\n",
      "1149/1149 [==============================] - 0s 15us/sample - loss: 0.2133 - accuracy: 0.9487 - val_loss: 0.2396 - val_accuracy: 0.9340\n",
      "Epoch 16/3000\n",
      "1149/1149 [==============================] - 0s 15us/sample - loss: 0.1885 - accuracy: 0.9608 - val_loss: 0.2040 - val_accuracy: 0.9514\n",
      "Epoch 17/3000\n",
      "1149/1149 [==============================] - 0s 14us/sample - loss: 0.1536 - accuracy: 0.9687 - val_loss: 0.2016 - val_accuracy: 0.9514\n",
      "Epoch 18/3000\n",
      "1149/1149 [==============================] - 0s 15us/sample - loss: 0.1305 - accuracy: 0.9739 - val_loss: 0.1660 - val_accuracy: 0.9514\n",
      "Epoch 19/3000\n",
      "1149/1149 [==============================] - 0s 15us/sample - loss: 0.1161 - accuracy: 0.9774 - val_loss: 0.1849 - val_accuracy: 0.9410\n",
      "Epoch 20/3000\n",
      "1149/1149 [==============================] - 0s 14us/sample - loss: 0.0989 - accuracy: 0.9809 - val_loss: 0.1480 - val_accuracy: 0.9549\n",
      "Epoch 21/3000\n",
      "1149/1149 [==============================] - 0s 15us/sample - loss: 0.0868 - accuracy: 0.9826 - val_loss: 0.1533 - val_accuracy: 0.9549\n",
      "Epoch 22/3000\n",
      "1149/1149 [==============================] - 0s 15us/sample - loss: 0.0785 - accuracy: 0.9861 - val_loss: 0.1344 - val_accuracy: 0.9618\n",
      "Epoch 23/3000\n",
      "1149/1149 [==============================] - 0s 16us/sample - loss: 0.0670 - accuracy: 0.9887 - val_loss: 0.1263 - val_accuracy: 0.9583\n",
      "Epoch 24/3000\n",
      "1149/1149 [==============================] - 0s 15us/sample - loss: 0.0590 - accuracy: 0.9922 - val_loss: 0.1338 - val_accuracy: 0.9618\n",
      "Epoch 25/3000\n",
      "1149/1149 [==============================] - 0s 16us/sample - loss: 0.0542 - accuracy: 0.9930 - val_loss: 0.1274 - val_accuracy: 0.9583\n",
      "Epoch 26/3000\n",
      "1149/1149 [==============================] - 0s 15us/sample - loss: 0.0487 - accuracy: 0.9930 - val_loss: 0.1220 - val_accuracy: 0.9618\n",
      "Epoch 27/3000\n",
      "1149/1149 [==============================] - 0s 15us/sample - loss: 0.0454 - accuracy: 0.9948 - val_loss: 0.1264 - val_accuracy: 0.9583\n",
      "Epoch 28/3000\n",
      "1149/1149 [==============================] - 0s 14us/sample - loss: 0.0412 - accuracy: 0.9939 - val_loss: 0.1173 - val_accuracy: 0.9618\n",
      "Epoch 29/3000\n",
      "1149/1149 [==============================] - 0s 15us/sample - loss: 0.0350 - accuracy: 0.9956 - val_loss: 0.1197 - val_accuracy: 0.9618\n",
      "Epoch 30/3000\n",
      "1149/1149 [==============================] - 0s 14us/sample - loss: 0.0328 - accuracy: 0.9956 - val_loss: 0.1100 - val_accuracy: 0.9618\n",
      "Epoch 31/3000\n",
      "1149/1149 [==============================] - 0s 15us/sample - loss: 0.0313 - accuracy: 0.9948 - val_loss: 0.1105 - val_accuracy: 0.9653\n",
      "Epoch 32/3000\n",
      "1149/1149 [==============================] - 0s 16us/sample - loss: 0.0269 - accuracy: 0.9974 - val_loss: 0.1077 - val_accuracy: 0.9653\n",
      "Epoch 33/3000\n",
      "1149/1149 [==============================] - 0s 15us/sample - loss: 0.0255 - accuracy: 0.9956 - val_loss: 0.1101 - val_accuracy: 0.9688\n",
      "Epoch 34/3000\n",
      "1149/1149 [==============================] - 0s 15us/sample - loss: 0.0239 - accuracy: 0.9974 - val_loss: 0.0996 - val_accuracy: 0.9688\n",
      "Epoch 35/3000\n",
      "1149/1149 [==============================] - 0s 15us/sample - loss: 0.0218 - accuracy: 0.9983 - val_loss: 0.1011 - val_accuracy: 0.9653\n",
      "Epoch 36/3000\n",
      "1149/1149 [==============================] - 0s 15us/sample - loss: 0.0199 - accuracy: 0.9991 - val_loss: 0.0998 - val_accuracy: 0.9688\n",
      "Epoch 37/3000\n",
      "1149/1149 [==============================] - 0s 14us/sample - loss: 0.0187 - accuracy: 0.9991 - val_loss: 0.0994 - val_accuracy: 0.9688\n",
      "Epoch 38/3000\n",
      "1149/1149 [==============================] - 0s 14us/sample - loss: 0.0175 - accuracy: 0.9991 - val_loss: 0.1036 - val_accuracy: 0.9688\n",
      "Epoch 39/3000\n",
      "1149/1149 [==============================] - 0s 15us/sample - loss: 0.0172 - accuracy: 0.9991 - val_loss: 0.0969 - val_accuracy: 0.9688\n",
      "Epoch 40/3000\n",
      "1149/1149 [==============================] - 0s 15us/sample - loss: 0.0155 - accuracy: 0.9991 - val_loss: 0.0981 - val_accuracy: 0.9688\n",
      "Epoch 41/3000\n",
      "1149/1149 [==============================] - 0s 14us/sample - loss: 0.0142 - accuracy: 0.9991 - val_loss: 0.0981 - val_accuracy: 0.9688\n",
      "Epoch 42/3000\n",
      "1149/1149 [==============================] - 0s 15us/sample - loss: 0.0131 - accuracy: 0.9991 - val_loss: 0.0955 - val_accuracy: 0.9688\n",
      "Epoch 43/3000\n",
      "1149/1149 [==============================] - 0s 15us/sample - loss: 0.0128 - accuracy: 0.9991 - val_loss: 0.0953 - val_accuracy: 0.9688\n",
      "Epoch 44/3000\n",
      "1149/1149 [==============================] - 0s 14us/sample - loss: 0.0119 - accuracy: 0.9991 - val_loss: 0.0948 - val_accuracy: 0.9688\n",
      "Epoch 45/3000\n",
      "1149/1149 [==============================] - 0s 15us/sample - loss: 0.0113 - accuracy: 0.9991 - val_loss: 0.0889 - val_accuracy: 0.9688\n",
      "Epoch 46/3000\n",
      "1149/1149 [==============================] - 0s 14us/sample - loss: 0.0105 - accuracy: 0.9991 - val_loss: 0.1006 - val_accuracy: 0.9688\n",
      "Epoch 47/3000\n",
      "1149/1149 [==============================] - 0s 14us/sample - loss: 0.0101 - accuracy: 0.9991 - val_loss: 0.0909 - val_accuracy: 0.9688\n",
      "Epoch 48/3000\n",
      "1149/1149 [==============================] - 0s 15us/sample - loss: 0.0095 - accuracy: 0.9991 - val_loss: 0.0909 - val_accuracy: 0.9688\n",
      "Epoch 49/3000\n",
      "1149/1149 [==============================] - 0s 14us/sample - loss: 0.0091 - accuracy: 0.9991 - val_loss: 0.0903 - val_accuracy: 0.9688\n",
      "Epoch 50/3000\n",
      "1149/1149 [==============================] - 0s 14us/sample - loss: 0.0086 - accuracy: 0.9991 - val_loss: 0.0957 - val_accuracy: 0.9688\n",
      "Epoch 51/3000\n",
      "1149/1149 [==============================] - 0s 14us/sample - loss: 0.0082 - accuracy: 0.9991 - val_loss: 0.0907 - val_accuracy: 0.9688\n",
      "Epoch 52/3000\n",
      "1149/1149 [==============================] - 0s 14us/sample - loss: 0.0078 - accuracy: 0.9991 - val_loss: 0.0930 - val_accuracy: 0.9688\n",
      "Epoch 53/3000\n",
      "1149/1149 [==============================] - 0s 14us/sample - loss: 0.0075 - accuracy: 0.9991 - val_loss: 0.0906 - val_accuracy: 0.9688\n",
      "Epoch 54/3000\n",
      "1149/1149 [==============================] - 0s 14us/sample - loss: 0.0073 - accuracy: 0.9991 - val_loss: 0.0932 - val_accuracy: 0.9688\n",
      "Epoch 55/3000\n"
     ]
    },
    {
     "name": "stdout",
     "output_type": "stream",
     "text": [
      "1149/1149 [==============================] - 0s 15us/sample - loss: 0.0069 - accuracy: 0.9991 - val_loss: 0.0952 - val_accuracy: 0.9688\n",
      "Epoch 56/3000\n",
      "1149/1149 [==============================] - 0s 14us/sample - loss: 0.0066 - accuracy: 0.9991 - val_loss: 0.0908 - val_accuracy: 0.9688\n",
      "Epoch 57/3000\n",
      "1149/1149 [==============================] - 0s 14us/sample - loss: 0.0065 - accuracy: 0.9991 - val_loss: 0.0900 - val_accuracy: 0.9688\n",
      "Epoch 58/3000\n",
      "1149/1149 [==============================] - 0s 14us/sample - loss: 0.0060 - accuracy: 0.9991 - val_loss: 0.0947 - val_accuracy: 0.9688\n",
      "Epoch 59/3000\n",
      "1149/1149 [==============================] - 0s 14us/sample - loss: 0.0059 - accuracy: 0.9991 - val_loss: 0.0907 - val_accuracy: 0.9688\n",
      "Epoch 60/3000\n",
      "1149/1149 [==============================] - 0s 14us/sample - loss: 0.0054 - accuracy: 0.9991 - val_loss: 0.0893 - val_accuracy: 0.9688\n",
      "Epoch 61/3000\n",
      "1149/1149 [==============================] - 0s 14us/sample - loss: 0.0053 - accuracy: 0.9991 - val_loss: 0.0874 - val_accuracy: 0.9688\n",
      "Epoch 62/3000\n",
      "1149/1149 [==============================] - 0s 14us/sample - loss: 0.0051 - accuracy: 0.9991 - val_loss: 0.0910 - val_accuracy: 0.9688\n",
      "Epoch 63/3000\n",
      "1149/1149 [==============================] - 0s 14us/sample - loss: 0.0049 - accuracy: 0.9991 - val_loss: 0.0929 - val_accuracy: 0.9688\n",
      "Epoch 64/3000\n",
      "1149/1149 [==============================] - 0s 14us/sample - loss: 0.0048 - accuracy: 0.9991 - val_loss: 0.0887 - val_accuracy: 0.9688\n",
      "Epoch 65/3000\n",
      "1149/1149 [==============================] - 0s 14us/sample - loss: 0.0044 - accuracy: 0.9991 - val_loss: 0.0901 - val_accuracy: 0.9688\n",
      "Epoch 66/3000\n",
      "1149/1149 [==============================] - 0s 15us/sample - loss: 0.0044 - accuracy: 0.9991 - val_loss: 0.0912 - val_accuracy: 0.9688\n",
      "Epoch 67/3000\n",
      "1149/1149 [==============================] - 0s 15us/sample - loss: 0.0041 - accuracy: 0.9991 - val_loss: 0.0938 - val_accuracy: 0.9688\n",
      "Epoch 68/3000\n",
      "1149/1149 [==============================] - 0s 14us/sample - loss: 0.0040 - accuracy: 0.9991 - val_loss: 0.0896 - val_accuracy: 0.9688\n",
      "Epoch 69/3000\n",
      "1149/1149 [==============================] - 0s 14us/sample - loss: 0.0038 - accuracy: 0.9991 - val_loss: 0.0874 - val_accuracy: 0.9688\n",
      "Epoch 70/3000\n",
      "1149/1149 [==============================] - 0s 15us/sample - loss: 0.0037 - accuracy: 1.0000 - val_loss: 0.0915 - val_accuracy: 0.9688\n",
      "Epoch 71/3000\n",
      "1149/1149 [==============================] - 0s 14us/sample - loss: 0.0035 - accuracy: 1.0000 - val_loss: 0.0934 - val_accuracy: 0.9688\n",
      "Epoch 72/3000\n",
      "1149/1149 [==============================] - 0s 15us/sample - loss: 0.0034 - accuracy: 1.0000 - val_loss: 0.0895 - val_accuracy: 0.9688\n",
      "Epoch 73/3000\n",
      "1149/1149 [==============================] - 0s 15us/sample - loss: 0.0033 - accuracy: 1.0000 - val_loss: 0.0930 - val_accuracy: 0.9688\n",
      "Epoch 74/3000\n",
      "1149/1149 [==============================] - 0s 15us/sample - loss: 0.0032 - accuracy: 1.0000 - val_loss: 0.0903 - val_accuracy: 0.9722\n",
      "Epoch 75/3000\n",
      "1149/1149 [==============================] - 0s 15us/sample - loss: 0.0031 - accuracy: 1.0000 - val_loss: 0.0923 - val_accuracy: 0.9688\n",
      "Epoch 76/3000\n",
      "1149/1149 [==============================] - 0s 14us/sample - loss: 0.0030 - accuracy: 1.0000 - val_loss: 0.0914 - val_accuracy: 0.9688\n",
      "Epoch 77/3000\n",
      "1149/1149 [==============================] - 0s 14us/sample - loss: 0.0028 - accuracy: 1.0000 - val_loss: 0.0926 - val_accuracy: 0.9722\n",
      "Epoch 78/3000\n",
      "1149/1149 [==============================] - 0s 15us/sample - loss: 0.0027 - accuracy: 1.0000 - val_loss: 0.0974 - val_accuracy: 0.9722\n",
      "Epoch 79/3000\n",
      "1149/1149 [==============================] - 0s 14us/sample - loss: 0.0028 - accuracy: 1.0000 - val_loss: 0.0938 - val_accuracy: 0.9722\n",
      "Epoch 80/3000\n",
      "1149/1149 [==============================] - 0s 15us/sample - loss: 0.0026 - accuracy: 1.0000 - val_loss: 0.0939 - val_accuracy: 0.9688\n",
      "Epoch 81/3000\n",
      "1149/1149 [==============================] - 0s 15us/sample - loss: 0.0025 - accuracy: 1.0000 - val_loss: 0.0920 - val_accuracy: 0.9688\n",
      "Epoch 82/3000\n",
      "1149/1149 [==============================] - 0s 14us/sample - loss: 0.0024 - accuracy: 1.0000 - val_loss: 0.0918 - val_accuracy: 0.9722\n",
      "Epoch 83/3000\n",
      "1149/1149 [==============================] - 0s 15us/sample - loss: 0.0023 - accuracy: 1.0000 - val_loss: 0.0928 - val_accuracy: 0.9722\n",
      "Epoch 84/3000\n",
      "1149/1149 [==============================] - 0s 15us/sample - loss: 0.0023 - accuracy: 1.0000 - val_loss: 0.0916 - val_accuracy: 0.9757\n",
      "Epoch 85/3000\n",
      "1149/1149 [==============================] - 0s 14us/sample - loss: 0.0023 - accuracy: 1.0000 - val_loss: 0.0920 - val_accuracy: 0.9722\n",
      "Epoch 86/3000\n",
      "1149/1149 [==============================] - 0s 15us/sample - loss: 0.0021 - accuracy: 1.0000 - val_loss: 0.0935 - val_accuracy: 0.9722\n",
      "Epoch 87/3000\n",
      "1149/1149 [==============================] - 0s 16us/sample - loss: 0.0021 - accuracy: 1.0000 - val_loss: 0.0938 - val_accuracy: 0.9688\n",
      "Epoch 88/3000\n",
      "1149/1149 [==============================] - 0s 15us/sample - loss: 0.0021 - accuracy: 1.0000 - val_loss: 0.0927 - val_accuracy: 0.9722\n",
      "Epoch 89/3000\n",
      "1149/1149 [==============================] - 0s 14us/sample - loss: 0.0020 - accuracy: 1.0000 - val_loss: 0.0917 - val_accuracy: 0.9757\n",
      "Epoch 90/3000\n",
      "1149/1149 [==============================] - 0s 15us/sample - loss: 0.0019 - accuracy: 1.0000 - val_loss: 0.0926 - val_accuracy: 0.9722\n",
      "Epoch 91/3000\n",
      "1149/1149 [==============================] - 0s 15us/sample - loss: 0.0019 - accuracy: 1.0000 - val_loss: 0.0915 - val_accuracy: 0.9757\n",
      "Epoch 92/3000\n",
      "1149/1149 [==============================] - 0s 15us/sample - loss: 0.0018 - accuracy: 1.0000 - val_loss: 0.0926 - val_accuracy: 0.9757\n",
      "Epoch 93/3000\n",
      "1149/1149 [==============================] - ETA: 0s - loss: 0.0016 - accuracy: 1.00 - 0s 15us/sample - loss: 0.0018 - accuracy: 1.0000 - val_loss: 0.0943 - val_accuracy: 0.9722\n",
      "Epoch 94/3000\n",
      "1149/1149 [==============================] - 0s 15us/sample - loss: 0.0018 - accuracy: 1.0000 - val_loss: 0.0937 - val_accuracy: 0.9722\n",
      "Epoch 95/3000\n",
      "1149/1149 [==============================] - 0s 15us/sample - loss: 0.0017 - accuracy: 1.0000 - val_loss: 0.0927 - val_accuracy: 0.9757\n",
      "Epoch 96/3000\n",
      "1149/1149 [==============================] - 0s 15us/sample - loss: 0.0016 - accuracy: 1.0000 - val_loss: 0.0939 - val_accuracy: 0.9757\n",
      "Epoch 97/3000\n",
      "1149/1149 [==============================] - 0s 15us/sample - loss: 0.0016 - accuracy: 1.0000 - val_loss: 0.0943 - val_accuracy: 0.9757\n",
      "Epoch 98/3000\n",
      "1149/1149 [==============================] - 0s 15us/sample - loss: 0.0016 - accuracy: 1.0000 - val_loss: 0.0925 - val_accuracy: 0.9757\n",
      "Epoch 99/3000\n",
      "1149/1149 [==============================] - 0s 14us/sample - loss: 0.0015 - accuracy: 1.0000 - val_loss: 0.0915 - val_accuracy: 0.9757\n",
      "Epoch 100/3000\n",
      "1149/1149 [==============================] - 0s 14us/sample - loss: 0.0015 - accuracy: 1.0000 - val_loss: 0.0939 - val_accuracy: 0.9757\n",
      "Epoch 101/3000\n",
      "1149/1149 [==============================] - 0s 15us/sample - loss: 0.0015 - accuracy: 1.0000 - val_loss: 0.0931 - val_accuracy: 0.9757\n",
      "Epoch 102/3000\n",
      "1149/1149 [==============================] - 0s 16us/sample - loss: 0.0014 - accuracy: 1.0000 - val_loss: 0.0914 - val_accuracy: 0.9757\n",
      "Epoch 103/3000\n",
      "1149/1149 [==============================] - 0s 15us/sample - loss: 0.0014 - accuracy: 1.0000 - val_loss: 0.0925 - val_accuracy: 0.9757\n",
      "Epoch 104/3000\n",
      "1149/1149 [==============================] - 0s 14us/sample - loss: 0.0014 - accuracy: 1.0000 - val_loss: 0.0913 - val_accuracy: 0.9757\n",
      "Epoch 105/3000\n",
      "1149/1149 [==============================] - 0s 14us/sample - loss: 0.0013 - accuracy: 1.0000 - val_loss: 0.0929 - val_accuracy: 0.9757\n",
      "Epoch 106/3000\n",
      "1149/1149 [==============================] - 0s 14us/sample - loss: 0.0013 - accuracy: 1.0000 - val_loss: 0.0920 - val_accuracy: 0.9757\n",
      "Epoch 107/3000\n",
      "1149/1149 [==============================] - 0s 14us/sample - loss: 0.0013 - accuracy: 1.0000 - val_loss: 0.0937 - val_accuracy: 0.9757\n",
      "Epoch 108/3000\n",
      "1149/1149 [==============================] - 0s 14us/sample - loss: 0.0012 - accuracy: 1.0000 - val_loss: 0.0931 - val_accuracy: 0.9757\n",
      "Epoch 109/3000\n"
     ]
    },
    {
     "name": "stdout",
     "output_type": "stream",
     "text": [
      "1149/1149 [==============================] - 0s 16us/sample - loss: 0.0012 - accuracy: 1.0000 - val_loss: 0.0928 - val_accuracy: 0.9757\n",
      "Epoch 110/3000\n",
      "1149/1149 [==============================] - 0s 15us/sample - loss: 0.0012 - accuracy: 1.0000 - val_loss: 0.0922 - val_accuracy: 0.9757\n",
      "Epoch 111/3000\n",
      "1149/1149 [==============================] - 0s 14us/sample - loss: 0.0011 - accuracy: 1.0000 - val_loss: 0.0957 - val_accuracy: 0.9792\n",
      "Epoch 112/3000\n",
      "1149/1149 [==============================] - 0s 14us/sample - loss: 0.0011 - accuracy: 1.0000 - val_loss: 0.0947 - val_accuracy: 0.9792\n",
      "Epoch 113/3000\n",
      "1149/1149 [==============================] - 0s 14us/sample - loss: 0.0011 - accuracy: 1.0000 - val_loss: 0.0935 - val_accuracy: 0.9792\n",
      "Epoch 114/3000\n",
      "1149/1149 [==============================] - 0s 15us/sample - loss: 0.0011 - accuracy: 1.0000 - val_loss: 0.0937 - val_accuracy: 0.9757\n",
      "Epoch 115/3000\n",
      "1149/1149 [==============================] - 0s 15us/sample - loss: 0.0010 - accuracy: 1.0000 - val_loss: 0.0939 - val_accuracy: 0.9792\n",
      "Epoch 116/3000\n",
      "1149/1149 [==============================] - 0s 14us/sample - loss: 0.0010 - accuracy: 1.0000 - val_loss: 0.0930 - val_accuracy: 0.9792\n",
      "Epoch 117/3000\n",
      "1149/1149 [==============================] - 0s 15us/sample - loss: 9.9598e-04 - accuracy: 1.0000 - val_loss: 0.0938 - val_accuracy: 0.9792\n",
      "Epoch 118/3000\n",
      "1149/1149 [==============================] - 0s 14us/sample - loss: 9.6350e-04 - accuracy: 1.0000 - val_loss: 0.0939 - val_accuracy: 0.9757\n",
      "Epoch 119/3000\n",
      "1149/1149 [==============================] - 0s 14us/sample - loss: 9.5757e-04 - accuracy: 1.0000 - val_loss: 0.0966 - val_accuracy: 0.9757\n",
      "Epoch 120/3000\n",
      "1149/1149 [==============================] - 0s 13us/sample - loss: 9.2891e-04 - accuracy: 1.0000 - val_loss: 0.0940 - val_accuracy: 0.9757\n",
      "Epoch 121/3000\n",
      "1149/1149 [==============================] - 0s 14us/sample - loss: 9.0694e-04 - accuracy: 1.0000 - val_loss: 0.0945 - val_accuracy: 0.9757\n",
      "Epoch 122/3000\n",
      "1149/1149 [==============================] - 0s 14us/sample - loss: 8.8690e-04 - accuracy: 1.0000 - val_loss: 0.0962 - val_accuracy: 0.9757\n",
      "Epoch 123/3000\n",
      "1149/1149 [==============================] - 0s 15us/sample - loss: 8.7575e-04 - accuracy: 1.0000 - val_loss: 0.0962 - val_accuracy: 0.9757\n",
      "Epoch 124/3000\n",
      "1149/1149 [==============================] - 0s 14us/sample - loss: 8.5903e-04 - accuracy: 1.0000 - val_loss: 0.0953 - val_accuracy: 0.9757\n",
      "Epoch 125/3000\n",
      "1149/1149 [==============================] - 0s 14us/sample - loss: 8.3291e-04 - accuracy: 1.0000 - val_loss: 0.0956 - val_accuracy: 0.9757\n",
      "Epoch 126/3000\n",
      "1149/1149 [==============================] - 0s 14us/sample - loss: 8.2367e-04 - accuracy: 1.0000 - val_loss: 0.0969 - val_accuracy: 0.9757\n",
      "Epoch 127/3000\n",
      "1149/1149 [==============================] - 0s 14us/sample - loss: 8.0093e-04 - accuracy: 1.0000 - val_loss: 0.0963 - val_accuracy: 0.9757\n",
      "Epoch 128/3000\n",
      "1149/1149 [==============================] - 0s 14us/sample - loss: 7.8651e-04 - accuracy: 1.0000 - val_loss: 0.0968 - val_accuracy: 0.9757\n",
      "Epoch 129/3000\n",
      "1149/1149 [==============================] - 0s 13us/sample - loss: 7.6631e-04 - accuracy: 1.0000 - val_loss: 0.0969 - val_accuracy: 0.9757\n",
      "Epoch 130/3000\n",
      "1149/1149 [==============================] - 0s 14us/sample - loss: 7.5707e-04 - accuracy: 1.0000 - val_loss: 0.0953 - val_accuracy: 0.9757\n",
      "Epoch 131/3000\n",
      "1149/1149 [==============================] - 0s 14us/sample - loss: 7.3872e-04 - accuracy: 1.0000 - val_loss: 0.0948 - val_accuracy: 0.9757\n",
      "Epoch 132/3000\n",
      "1149/1149 [==============================] - 0s 14us/sample - loss: 7.2665e-04 - accuracy: 1.0000 - val_loss: 0.0954 - val_accuracy: 0.9757\n",
      "Epoch 133/3000\n",
      "1149/1149 [==============================] - 0s 14us/sample - loss: 7.1337e-04 - accuracy: 1.0000 - val_loss: 0.0965 - val_accuracy: 0.9757\n",
      "Epoch 134/3000\n",
      "1149/1149 [==============================] - 0s 14us/sample - loss: 7.0148e-04 - accuracy: 1.0000 - val_loss: 0.0957 - val_accuracy: 0.9757\n",
      "Epoch 135/3000\n",
      "1149/1149 [==============================] - 0s 14us/sample - loss: 6.8376e-04 - accuracy: 1.0000 - val_loss: 0.0961 - val_accuracy: 0.9757\n",
      "Epoch 136/3000\n",
      "1149/1149 [==============================] - 0s 14us/sample - loss: 6.7257e-04 - accuracy: 1.0000 - val_loss: 0.0959 - val_accuracy: 0.9757\n",
      "Epoch 137/3000\n",
      "1149/1149 [==============================] - 0s 14us/sample - loss: 6.5738e-04 - accuracy: 1.0000 - val_loss: 0.0964 - val_accuracy: 0.9757\n",
      "Epoch 138/3000\n",
      "1149/1149 [==============================] - 0s 14us/sample - loss: 6.4435e-04 - accuracy: 1.0000 - val_loss: 0.0957 - val_accuracy: 0.9757\n",
      "Epoch 139/3000\n",
      "1149/1149 [==============================] - 0s 14us/sample - loss: 6.3506e-04 - accuracy: 1.0000 - val_loss: 0.0958 - val_accuracy: 0.9757\n",
      "Epoch 140/3000\n",
      "1149/1149 [==============================] - 0s 14us/sample - loss: 6.2811e-04 - accuracy: 1.0000 - val_loss: 0.0974 - val_accuracy: 0.9757\n",
      "Epoch 141/3000\n",
      "1149/1149 [==============================] - 0s 14us/sample - loss: 6.1179e-04 - accuracy: 1.0000 - val_loss: 0.0967 - val_accuracy: 0.9757\n",
      "Epoch 142/3000\n",
      "1149/1149 [==============================] - 0s 14us/sample - loss: 5.9936e-04 - accuracy: 1.0000 - val_loss: 0.0968 - val_accuracy: 0.9757\n",
      "Epoch 143/3000\n",
      "1149/1149 [==============================] - 0s 14us/sample - loss: 5.8861e-04 - accuracy: 1.0000 - val_loss: 0.0983 - val_accuracy: 0.9757\n",
      "Epoch 144/3000\n",
      "1149/1149 [==============================] - 0s 14us/sample - loss: 5.8266e-04 - accuracy: 1.0000 - val_loss: 0.0973 - val_accuracy: 0.9757\n",
      "Epoch 145/3000\n",
      "1149/1149 [==============================] - 0s 13us/sample - loss: 5.7166e-04 - accuracy: 1.0000 - val_loss: 0.0951 - val_accuracy: 0.9757\n",
      "Epoch 146/3000\n",
      "1149/1149 [==============================] - 0s 14us/sample - loss: 5.6053e-04 - accuracy: 1.0000 - val_loss: 0.0971 - val_accuracy: 0.9757\n",
      "Epoch 147/3000\n",
      "1149/1149 [==============================] - 0s 14us/sample - loss: 5.5151e-04 - accuracy: 1.0000 - val_loss: 0.0962 - val_accuracy: 0.9757\n",
      "Epoch 148/3000\n",
      "1149/1149 [==============================] - 0s 14us/sample - loss: 5.3754e-04 - accuracy: 1.0000 - val_loss: 0.0959 - val_accuracy: 0.9757\n",
      "Epoch 149/3000\n",
      "1149/1149 [==============================] - 0s 14us/sample - loss: 5.2977e-04 - accuracy: 1.0000 - val_loss: 0.0966 - val_accuracy: 0.9757\n",
      "Epoch 150/3000\n",
      "1149/1149 [==============================] - 0s 14us/sample - loss: 5.2206e-04 - accuracy: 1.0000 - val_loss: 0.0961 - val_accuracy: 0.9757\n",
      "Epoch 151/3000\n",
      "1149/1149 [==============================] - 0s 14us/sample - loss: 5.1002e-04 - accuracy: 1.0000 - val_loss: 0.0983 - val_accuracy: 0.9757\n",
      "Epoch 152/3000\n",
      "1149/1149 [==============================] - 0s 14us/sample - loss: 5.1029e-04 - accuracy: 1.0000 - val_loss: 0.0974 - val_accuracy: 0.9757\n",
      "Epoch 153/3000\n",
      "1149/1149 [==============================] - 0s 14us/sample - loss: 4.9904e-04 - accuracy: 1.0000 - val_loss: 0.0969 - val_accuracy: 0.9757\n",
      "Epoch 154/3000\n",
      "1149/1149 [==============================] - 0s 14us/sample - loss: 4.8927e-04 - accuracy: 1.0000 - val_loss: 0.0969 - val_accuracy: 0.9757\n",
      "Epoch 155/3000\n",
      "1149/1149 [==============================] - 0s 53us/sample - loss: 4.8017e-04 - accuracy: 1.0000 - val_loss: 0.0968 - val_accuracy: 0.9757\n",
      "Epoch 156/3000\n",
      "1149/1149 [==============================] - 0s 27us/sample - loss: 4.7540e-04 - accuracy: 1.0000 - val_loss: 0.0974 - val_accuracy: 0.9757\n",
      "Epoch 157/3000\n",
      "1149/1149 [==============================] - 0s 15us/sample - loss: 4.6618e-04 - accuracy: 1.0000 - val_loss: 0.0979 - val_accuracy: 0.9757\n",
      "Epoch 158/3000\n",
      "1149/1149 [==============================] - 0s 15us/sample - loss: 4.5805e-04 - accuracy: 1.0000 - val_loss: 0.0978 - val_accuracy: 0.9757\n",
      "Epoch 159/3000\n",
      "1149/1149 [==============================] - 0s 14us/sample - loss: 4.4887e-04 - accuracy: 1.0000 - val_loss: 0.0969 - val_accuracy: 0.9757\n",
      "Epoch 160/3000\n",
      "1149/1149 [==============================] - 0s 14us/sample - loss: 4.4428e-04 - accuracy: 1.0000 - val_loss: 0.0985 - val_accuracy: 0.9757\n",
      "Epoch 161/3000\n",
      "1149/1149 [==============================] - 0s 15us/sample - loss: 4.3921e-04 - accuracy: 1.0000 - val_loss: 0.0971 - val_accuracy: 0.9757\n"
     ]
    }
   ],
   "source": [
    "history = model.fit(X_train, y_train, validation_split = 0.2,\n",
    "                    epochs = 3000, batch_size = 200,\n",
    "                    callbacks = [early_stopping_callback])"
   ]
  },
  {
   "cell_type": "code",
   "execution_count": 18,
   "metadata": {},
   "outputs": [
    {
     "name": "stdout",
     "output_type": "stream",
     "text": [
      "1797/1797 - 0s - loss: 0.0344 - accuracy: 0.9933\n",
      "\n",
      " Accuracy: 0.9933\n"
     ]
    }
   ],
   "source": [
    "print(\"\\n Accuracy: %.4f\" % (model.evaluate(X, Y, verbose=2)[1]))"
   ]
  },
  {
   "cell_type": "code",
   "execution_count": 19,
   "metadata": {},
   "outputs": [],
   "source": [
    "import matplotlib.pyplot as plt\n",
    "%matplotlib inline"
   ]
  },
  {
   "cell_type": "code",
   "execution_count": 20,
   "metadata": {},
   "outputs": [],
   "source": [
    "y_vloss=history.history['val_loss']\n",
    "y_acc=history.history['accuracy']"
   ]
  },
  {
   "cell_type": "code",
   "execution_count": 21,
   "metadata": {},
   "outputs": [
    {
     "data": {
      "image/png": "[encoded data removed]",
      "text/plain": [
       "<Figure size 864x432 with 1 Axes>"
      ]
     },
     "metadata": {
      "needs_background": "light"
     },
     "output_type": "display_data"
    }
   ],
   "source": [
    "x_len = np.arange(len(y_acc))\n",
    "plt.figure(figsize=(12,6))\n",
    "plt.ylim(0, 1)\n",
    "plt.plot(x_len, y_vloss, \"o\", c=\"red\", markersize=2)\n",
    "plt.plot(x_len, y_acc, \"o\", c=\"blue\", markersize=2)\n",
    "\n",
    "plt.show()"
   ]
  },
  {
   "cell_type": "code",
   "execution_count": null,
   "metadata": {},
   "outputs": [],
   "source": []
  },
  {
   "cell_type": "code",
   "execution_count": null,
   "metadata": {},
   "outputs": [],
   "source": []
  }
 ],
 "metadata": {
  "kernelspec": {
   "display_name": "Python 3",
   "language": "python",
   "name": "python3"
  },
  "language_info": {
   "codemirror_mode": {
    "name": "ipython",
    "version": 3
   },
   "file_extension": ".py",
   "mimetype": "text/x-python",
   "name": "python",
   "nbconvert_exporter": "python",
   "pygments_lexer": "ipython3",
   "version": "3.7.7"
  }
 },
 "nbformat": 4,
 "nbformat_minor": 4
}
